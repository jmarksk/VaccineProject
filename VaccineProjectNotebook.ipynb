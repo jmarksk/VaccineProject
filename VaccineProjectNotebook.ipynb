{
 "cells": [
  {
   "cell_type": "markdown",
   "id": "73f1efc5",
   "metadata": {},
   "source": [
    "# Vaccine Project"
   ]
  },
  {
   "cell_type": "markdown",
   "id": "80a83e86",
   "metadata": {},
   "source": [
    "## Business Understanding"
   ]
  },
  {
   "cell_type": "markdown",
   "id": "387b02e3",
   "metadata": {},
   "source": [
    "The client is a leader in the field of health care.  The client has resources at their disposal that can be used to encourage non-vaccinated persons to become vaccinated. It would be beneficial to the client to know what groups of persons are less likely to be vaccinated in order to make the best use of the client's resources.  Therefore, it would be helpful for the client to have a model that could predict which persons are less likely to be vaccinated based on various known factors, related to the person's background, views and behaviors, and also it would be helpful to know more generally which of these factors leads a group to be less or more likely to be vaccinated.  This model and knowledge would facilitate efforts to reach persons individually and as groups in order to efficiently encourage vaccination. "
   ]
  },
  {
   "cell_type": "markdown",
   "id": "4b50452f",
   "metadata": {},
   "source": [
    "## Data Understanding"
   ]
  },
  {
   "cell_type": "markdown",
   "id": "74be2fdd",
   "metadata": {},
   "source": [
    "The data comes from the National 2009 H1N1 Flu Survey conducted by the United States after the outbreak of the virus in 2009.  The survey covers various topics included one's background, views and behaviors.  The survey also covers whether one has been vaccinated against the H1N1 virus, which will be the target variable for this project. \n",
    "More specifically, the potential predictor variables include socio-economic related factors, views about vaccines, and health-related behaviors and statuses (e.g., health insurance and doctor recommendation.) Given that H1N1 can be categorized as a risky virus, the data, though H1N1 specific, can be thought of as analagous to any risky virus such that insights from the data will be applicable to future viral outbreaks. \n",
    "\n",
    "About half the features are categorical in nature as opposed to numerical. (Of the float and integer type features, about half are binary/categorical.)  The columns with most missing data have about 10,000 of 27,000 missing.  About 21% of respondents received the H1N1 vaccine. \n",
    "\n",
    "\n",
    "Features with signficant correlation to the target variable are doctor reccomendation, opinion of virus risk, and opinion of vaccine effective."
   ]
  },
  {
   "cell_type": "markdown",
   "id": "b8b23c88",
   "metadata": {},
   "source": [
    "See the [data](./data).\n",
    "\n"
   ]
  },
  {
   "cell_type": "code",
   "execution_count": 1,
   "id": "180593ae",
   "metadata": {},
   "outputs": [],
   "source": [
    "import pandas as pd\n",
    "import numpy as np\n",
    "import seaborn as sns\n",
    "import sklearn\n",
    "import matplotlib.pyplot as plt\n",
    "%matplotlib inline\n"
   ]
  },
  {
   "cell_type": "code",
   "execution_count": 2,
   "id": "b931ff9b",
   "metadata": {},
   "outputs": [
    {
     "data": {
      "text/html": [
       "<div>\n",
       "<style scoped>\n",
       "    .dataframe tbody tr th:only-of-type {\n",
       "        vertical-align: middle;\n",
       "    }\n",
       "\n",
       "    .dataframe tbody tr th {\n",
       "        vertical-align: top;\n",
       "    }\n",
       "\n",
       "    .dataframe thead th {\n",
       "        text-align: right;\n",
       "    }\n",
       "</style>\n",
       "<table border=\"1\" class=\"dataframe\">\n",
       "  <thead>\n",
       "    <tr style=\"text-align: right;\">\n",
       "      <th></th>\n",
       "      <th>respondent_id</th>\n",
       "      <th>h1n1_concern</th>\n",
       "      <th>h1n1_knowledge</th>\n",
       "      <th>behavioral_antiviral_meds</th>\n",
       "      <th>behavioral_avoidance</th>\n",
       "      <th>behavioral_face_mask</th>\n",
       "      <th>behavioral_wash_hands</th>\n",
       "      <th>behavioral_large_gatherings</th>\n",
       "      <th>behavioral_outside_home</th>\n",
       "      <th>behavioral_touch_face</th>\n",
       "      <th>...</th>\n",
       "      <th>income_poverty</th>\n",
       "      <th>marital_status</th>\n",
       "      <th>rent_or_own</th>\n",
       "      <th>employment_status</th>\n",
       "      <th>hhs_geo_region</th>\n",
       "      <th>census_msa</th>\n",
       "      <th>household_adults</th>\n",
       "      <th>household_children</th>\n",
       "      <th>employment_industry</th>\n",
       "      <th>employment_occupation</th>\n",
       "    </tr>\n",
       "  </thead>\n",
       "  <tbody>\n",
       "    <tr>\n",
       "      <th>0</th>\n",
       "      <td>0</td>\n",
       "      <td>1.0</td>\n",
       "      <td>0.0</td>\n",
       "      <td>0.0</td>\n",
       "      <td>0.0</td>\n",
       "      <td>0.0</td>\n",
       "      <td>0.0</td>\n",
       "      <td>0.0</td>\n",
       "      <td>1.0</td>\n",
       "      <td>1.0</td>\n",
       "      <td>...</td>\n",
       "      <td>Below Poverty</td>\n",
       "      <td>Not Married</td>\n",
       "      <td>Own</td>\n",
       "      <td>Not in Labor Force</td>\n",
       "      <td>oxchjgsf</td>\n",
       "      <td>Non-MSA</td>\n",
       "      <td>0.0</td>\n",
       "      <td>0.0</td>\n",
       "      <td>NaN</td>\n",
       "      <td>NaN</td>\n",
       "    </tr>\n",
       "    <tr>\n",
       "      <th>1</th>\n",
       "      <td>1</td>\n",
       "      <td>3.0</td>\n",
       "      <td>2.0</td>\n",
       "      <td>0.0</td>\n",
       "      <td>1.0</td>\n",
       "      <td>0.0</td>\n",
       "      <td>1.0</td>\n",
       "      <td>0.0</td>\n",
       "      <td>1.0</td>\n",
       "      <td>1.0</td>\n",
       "      <td>...</td>\n",
       "      <td>Below Poverty</td>\n",
       "      <td>Not Married</td>\n",
       "      <td>Rent</td>\n",
       "      <td>Employed</td>\n",
       "      <td>bhuqouqj</td>\n",
       "      <td>MSA, Not Principle  City</td>\n",
       "      <td>0.0</td>\n",
       "      <td>0.0</td>\n",
       "      <td>pxcmvdjn</td>\n",
       "      <td>xgwztkwe</td>\n",
       "    </tr>\n",
       "    <tr>\n",
       "      <th>2</th>\n",
       "      <td>2</td>\n",
       "      <td>1.0</td>\n",
       "      <td>1.0</td>\n",
       "      <td>0.0</td>\n",
       "      <td>1.0</td>\n",
       "      <td>0.0</td>\n",
       "      <td>0.0</td>\n",
       "      <td>0.0</td>\n",
       "      <td>0.0</td>\n",
       "      <td>0.0</td>\n",
       "      <td>...</td>\n",
       "      <td>&lt;= $75,000, Above Poverty</td>\n",
       "      <td>Not Married</td>\n",
       "      <td>Own</td>\n",
       "      <td>Employed</td>\n",
       "      <td>qufhixun</td>\n",
       "      <td>MSA, Not Principle  City</td>\n",
       "      <td>2.0</td>\n",
       "      <td>0.0</td>\n",
       "      <td>rucpziij</td>\n",
       "      <td>xtkaffoo</td>\n",
       "    </tr>\n",
       "    <tr>\n",
       "      <th>3</th>\n",
       "      <td>3</td>\n",
       "      <td>1.0</td>\n",
       "      <td>1.0</td>\n",
       "      <td>0.0</td>\n",
       "      <td>1.0</td>\n",
       "      <td>0.0</td>\n",
       "      <td>1.0</td>\n",
       "      <td>1.0</td>\n",
       "      <td>0.0</td>\n",
       "      <td>0.0</td>\n",
       "      <td>...</td>\n",
       "      <td>Below Poverty</td>\n",
       "      <td>Not Married</td>\n",
       "      <td>Rent</td>\n",
       "      <td>Not in Labor Force</td>\n",
       "      <td>lrircsnp</td>\n",
       "      <td>MSA, Principle City</td>\n",
       "      <td>0.0</td>\n",
       "      <td>0.0</td>\n",
       "      <td>NaN</td>\n",
       "      <td>NaN</td>\n",
       "    </tr>\n",
       "    <tr>\n",
       "      <th>4</th>\n",
       "      <td>4</td>\n",
       "      <td>2.0</td>\n",
       "      <td>1.0</td>\n",
       "      <td>0.0</td>\n",
       "      <td>1.0</td>\n",
       "      <td>0.0</td>\n",
       "      <td>1.0</td>\n",
       "      <td>1.0</td>\n",
       "      <td>0.0</td>\n",
       "      <td>1.0</td>\n",
       "      <td>...</td>\n",
       "      <td>&lt;= $75,000, Above Poverty</td>\n",
       "      <td>Married</td>\n",
       "      <td>Own</td>\n",
       "      <td>Employed</td>\n",
       "      <td>qufhixun</td>\n",
       "      <td>MSA, Not Principle  City</td>\n",
       "      <td>1.0</td>\n",
       "      <td>0.0</td>\n",
       "      <td>wxleyezf</td>\n",
       "      <td>emcorrxb</td>\n",
       "    </tr>\n",
       "  </tbody>\n",
       "</table>\n",
       "<p>5 rows × 36 columns</p>\n",
       "</div>"
      ],
      "text/plain": [
       "   respondent_id  h1n1_concern  h1n1_knowledge  behavioral_antiviral_meds  \\\n",
       "0              0           1.0             0.0                        0.0   \n",
       "1              1           3.0             2.0                        0.0   \n",
       "2              2           1.0             1.0                        0.0   \n",
       "3              3           1.0             1.0                        0.0   \n",
       "4              4           2.0             1.0                        0.0   \n",
       "\n",
       "   behavioral_avoidance  behavioral_face_mask  behavioral_wash_hands  \\\n",
       "0                   0.0                   0.0                    0.0   \n",
       "1                   1.0                   0.0                    1.0   \n",
       "2                   1.0                   0.0                    0.0   \n",
       "3                   1.0                   0.0                    1.0   \n",
       "4                   1.0                   0.0                    1.0   \n",
       "\n",
       "   behavioral_large_gatherings  behavioral_outside_home  \\\n",
       "0                          0.0                      1.0   \n",
       "1                          0.0                      1.0   \n",
       "2                          0.0                      0.0   \n",
       "3                          1.0                      0.0   \n",
       "4                          1.0                      0.0   \n",
       "\n",
       "   behavioral_touch_face  ...             income_poverty  marital_status  \\\n",
       "0                    1.0  ...              Below Poverty     Not Married   \n",
       "1                    1.0  ...              Below Poverty     Not Married   \n",
       "2                    0.0  ...  <= $75,000, Above Poverty     Not Married   \n",
       "3                    0.0  ...              Below Poverty     Not Married   \n",
       "4                    1.0  ...  <= $75,000, Above Poverty         Married   \n",
       "\n",
       "   rent_or_own   employment_status  hhs_geo_region                census_msa  \\\n",
       "0          Own  Not in Labor Force        oxchjgsf                   Non-MSA   \n",
       "1         Rent            Employed        bhuqouqj  MSA, Not Principle  City   \n",
       "2          Own            Employed        qufhixun  MSA, Not Principle  City   \n",
       "3         Rent  Not in Labor Force        lrircsnp       MSA, Principle City   \n",
       "4          Own            Employed        qufhixun  MSA, Not Principle  City   \n",
       "\n",
       "   household_adults  household_children  employment_industry  \\\n",
       "0               0.0                 0.0                  NaN   \n",
       "1               0.0                 0.0             pxcmvdjn   \n",
       "2               2.0                 0.0             rucpziij   \n",
       "3               0.0                 0.0                  NaN   \n",
       "4               1.0                 0.0             wxleyezf   \n",
       "\n",
       "   employment_occupation  \n",
       "0                    NaN  \n",
       "1               xgwztkwe  \n",
       "2               xtkaffoo  \n",
       "3                    NaN  \n",
       "4               emcorrxb  \n",
       "\n",
       "[5 rows x 36 columns]"
      ]
     },
     "execution_count": 2,
     "metadata": {},
     "output_type": "execute_result"
    }
   ],
   "source": [
    "dataX = pd.read_csv('./data/training_set_features.csv') \n",
    "datay = pd.read_csv('./data/training_set_labels.csv')\n",
    "dataX.head()"
   ]
  },
  {
   "cell_type": "code",
   "execution_count": 3,
   "id": "58fde37b",
   "metadata": {},
   "outputs": [
    {
     "data": {
      "text/html": [
       "<div>\n",
       "<style scoped>\n",
       "    .dataframe tbody tr th:only-of-type {\n",
       "        vertical-align: middle;\n",
       "    }\n",
       "\n",
       "    .dataframe tbody tr th {\n",
       "        vertical-align: top;\n",
       "    }\n",
       "\n",
       "    .dataframe thead th {\n",
       "        text-align: right;\n",
       "    }\n",
       "</style>\n",
       "<table border=\"1\" class=\"dataframe\">\n",
       "  <thead>\n",
       "    <tr style=\"text-align: right;\">\n",
       "      <th></th>\n",
       "      <th>respondent_id</th>\n",
       "      <th>h1n1_vaccine</th>\n",
       "      <th>seasonal_vaccine</th>\n",
       "    </tr>\n",
       "  </thead>\n",
       "  <tbody>\n",
       "    <tr>\n",
       "      <th>0</th>\n",
       "      <td>0</td>\n",
       "      <td>0</td>\n",
       "      <td>0</td>\n",
       "    </tr>\n",
       "    <tr>\n",
       "      <th>1</th>\n",
       "      <td>1</td>\n",
       "      <td>0</td>\n",
       "      <td>1</td>\n",
       "    </tr>\n",
       "    <tr>\n",
       "      <th>2</th>\n",
       "      <td>2</td>\n",
       "      <td>0</td>\n",
       "      <td>0</td>\n",
       "    </tr>\n",
       "    <tr>\n",
       "      <th>3</th>\n",
       "      <td>3</td>\n",
       "      <td>0</td>\n",
       "      <td>1</td>\n",
       "    </tr>\n",
       "    <tr>\n",
       "      <th>4</th>\n",
       "      <td>4</td>\n",
       "      <td>0</td>\n",
       "      <td>0</td>\n",
       "    </tr>\n",
       "  </tbody>\n",
       "</table>\n",
       "</div>"
      ],
      "text/plain": [
       "   respondent_id  h1n1_vaccine  seasonal_vaccine\n",
       "0              0             0                 0\n",
       "1              1             0                 1\n",
       "2              2             0                 0\n",
       "3              3             0                 1\n",
       "4              4             0                 0"
      ]
     },
     "execution_count": 3,
     "metadata": {},
     "output_type": "execute_result"
    }
   ],
   "source": [
    "datay.head()"
   ]
  },
  {
   "cell_type": "code",
   "execution_count": 4,
   "id": "f924ad1b",
   "metadata": {},
   "outputs": [],
   "source": [
    "data = pd.concat([datay, dataX], axis = 1) #Combining the feature and label data into one dataframe to faciliate preparation: "
   ]
  },
  {
   "cell_type": "markdown",
   "id": "09965330",
   "metadata": {},
   "source": [
    "Drop unneeded columns including those specific to the seasonal flu."
   ]
  },
  {
   "cell_type": "code",
   "execution_count": 5,
   "id": "786f8609",
   "metadata": {},
   "outputs": [],
   "source": [
    "data = data.drop(['respondent_id', 'opinion_seas_vacc_effective', 'opinion_seas_risk', 'opinion_seas_sick_from_vacc', 'doctor_recc_seasonal', 'seasonal_vaccine'], axis=1)"
   ]
  },
  {
   "cell_type": "code",
   "execution_count": 6,
   "id": "715d996e",
   "metadata": {},
   "outputs": [
    {
     "data": {
      "text/html": [
       "<div>\n",
       "<style scoped>\n",
       "    .dataframe tbody tr th:only-of-type {\n",
       "        vertical-align: middle;\n",
       "    }\n",
       "\n",
       "    .dataframe tbody tr th {\n",
       "        vertical-align: top;\n",
       "    }\n",
       "\n",
       "    .dataframe thead th {\n",
       "        text-align: right;\n",
       "    }\n",
       "</style>\n",
       "<table border=\"1\" class=\"dataframe\">\n",
       "  <thead>\n",
       "    <tr style=\"text-align: right;\">\n",
       "      <th></th>\n",
       "      <th>h1n1_vaccine</th>\n",
       "      <th>h1n1_concern</th>\n",
       "      <th>h1n1_knowledge</th>\n",
       "      <th>behavioral_antiviral_meds</th>\n",
       "      <th>behavioral_avoidance</th>\n",
       "      <th>behavioral_face_mask</th>\n",
       "      <th>behavioral_wash_hands</th>\n",
       "      <th>behavioral_large_gatherings</th>\n",
       "      <th>behavioral_outside_home</th>\n",
       "      <th>behavioral_touch_face</th>\n",
       "      <th>...</th>\n",
       "      <th>income_poverty</th>\n",
       "      <th>marital_status</th>\n",
       "      <th>rent_or_own</th>\n",
       "      <th>employment_status</th>\n",
       "      <th>hhs_geo_region</th>\n",
       "      <th>census_msa</th>\n",
       "      <th>household_adults</th>\n",
       "      <th>household_children</th>\n",
       "      <th>employment_industry</th>\n",
       "      <th>employment_occupation</th>\n",
       "    </tr>\n",
       "  </thead>\n",
       "  <tbody>\n",
       "    <tr>\n",
       "      <th>0</th>\n",
       "      <td>0</td>\n",
       "      <td>1.0</td>\n",
       "      <td>0.0</td>\n",
       "      <td>0.0</td>\n",
       "      <td>0.0</td>\n",
       "      <td>0.0</td>\n",
       "      <td>0.0</td>\n",
       "      <td>0.0</td>\n",
       "      <td>1.0</td>\n",
       "      <td>1.0</td>\n",
       "      <td>...</td>\n",
       "      <td>Below Poverty</td>\n",
       "      <td>Not Married</td>\n",
       "      <td>Own</td>\n",
       "      <td>Not in Labor Force</td>\n",
       "      <td>oxchjgsf</td>\n",
       "      <td>Non-MSA</td>\n",
       "      <td>0.0</td>\n",
       "      <td>0.0</td>\n",
       "      <td>NaN</td>\n",
       "      <td>NaN</td>\n",
       "    </tr>\n",
       "    <tr>\n",
       "      <th>1</th>\n",
       "      <td>0</td>\n",
       "      <td>3.0</td>\n",
       "      <td>2.0</td>\n",
       "      <td>0.0</td>\n",
       "      <td>1.0</td>\n",
       "      <td>0.0</td>\n",
       "      <td>1.0</td>\n",
       "      <td>0.0</td>\n",
       "      <td>1.0</td>\n",
       "      <td>1.0</td>\n",
       "      <td>...</td>\n",
       "      <td>Below Poverty</td>\n",
       "      <td>Not Married</td>\n",
       "      <td>Rent</td>\n",
       "      <td>Employed</td>\n",
       "      <td>bhuqouqj</td>\n",
       "      <td>MSA, Not Principle  City</td>\n",
       "      <td>0.0</td>\n",
       "      <td>0.0</td>\n",
       "      <td>pxcmvdjn</td>\n",
       "      <td>xgwztkwe</td>\n",
       "    </tr>\n",
       "    <tr>\n",
       "      <th>2</th>\n",
       "      <td>0</td>\n",
       "      <td>1.0</td>\n",
       "      <td>1.0</td>\n",
       "      <td>0.0</td>\n",
       "      <td>1.0</td>\n",
       "      <td>0.0</td>\n",
       "      <td>0.0</td>\n",
       "      <td>0.0</td>\n",
       "      <td>0.0</td>\n",
       "      <td>0.0</td>\n",
       "      <td>...</td>\n",
       "      <td>&lt;= $75,000, Above Poverty</td>\n",
       "      <td>Not Married</td>\n",
       "      <td>Own</td>\n",
       "      <td>Employed</td>\n",
       "      <td>qufhixun</td>\n",
       "      <td>MSA, Not Principle  City</td>\n",
       "      <td>2.0</td>\n",
       "      <td>0.0</td>\n",
       "      <td>rucpziij</td>\n",
       "      <td>xtkaffoo</td>\n",
       "    </tr>\n",
       "    <tr>\n",
       "      <th>3</th>\n",
       "      <td>0</td>\n",
       "      <td>1.0</td>\n",
       "      <td>1.0</td>\n",
       "      <td>0.0</td>\n",
       "      <td>1.0</td>\n",
       "      <td>0.0</td>\n",
       "      <td>1.0</td>\n",
       "      <td>1.0</td>\n",
       "      <td>0.0</td>\n",
       "      <td>0.0</td>\n",
       "      <td>...</td>\n",
       "      <td>Below Poverty</td>\n",
       "      <td>Not Married</td>\n",
       "      <td>Rent</td>\n",
       "      <td>Not in Labor Force</td>\n",
       "      <td>lrircsnp</td>\n",
       "      <td>MSA, Principle City</td>\n",
       "      <td>0.0</td>\n",
       "      <td>0.0</td>\n",
       "      <td>NaN</td>\n",
       "      <td>NaN</td>\n",
       "    </tr>\n",
       "    <tr>\n",
       "      <th>4</th>\n",
       "      <td>0</td>\n",
       "      <td>2.0</td>\n",
       "      <td>1.0</td>\n",
       "      <td>0.0</td>\n",
       "      <td>1.0</td>\n",
       "      <td>0.0</td>\n",
       "      <td>1.0</td>\n",
       "      <td>1.0</td>\n",
       "      <td>0.0</td>\n",
       "      <td>1.0</td>\n",
       "      <td>...</td>\n",
       "      <td>&lt;= $75,000, Above Poverty</td>\n",
       "      <td>Married</td>\n",
       "      <td>Own</td>\n",
       "      <td>Employed</td>\n",
       "      <td>qufhixun</td>\n",
       "      <td>MSA, Not Principle  City</td>\n",
       "      <td>1.0</td>\n",
       "      <td>0.0</td>\n",
       "      <td>wxleyezf</td>\n",
       "      <td>emcorrxb</td>\n",
       "    </tr>\n",
       "  </tbody>\n",
       "</table>\n",
       "<p>5 rows × 32 columns</p>\n",
       "</div>"
      ],
      "text/plain": [
       "   h1n1_vaccine  h1n1_concern  h1n1_knowledge  behavioral_antiviral_meds  \\\n",
       "0             0           1.0             0.0                        0.0   \n",
       "1             0           3.0             2.0                        0.0   \n",
       "2             0           1.0             1.0                        0.0   \n",
       "3             0           1.0             1.0                        0.0   \n",
       "4             0           2.0             1.0                        0.0   \n",
       "\n",
       "   behavioral_avoidance  behavioral_face_mask  behavioral_wash_hands  \\\n",
       "0                   0.0                   0.0                    0.0   \n",
       "1                   1.0                   0.0                    1.0   \n",
       "2                   1.0                   0.0                    0.0   \n",
       "3                   1.0                   0.0                    1.0   \n",
       "4                   1.0                   0.0                    1.0   \n",
       "\n",
       "   behavioral_large_gatherings  behavioral_outside_home  \\\n",
       "0                          0.0                      1.0   \n",
       "1                          0.0                      1.0   \n",
       "2                          0.0                      0.0   \n",
       "3                          1.0                      0.0   \n",
       "4                          1.0                      0.0   \n",
       "\n",
       "   behavioral_touch_face  ...             income_poverty  marital_status  \\\n",
       "0                    1.0  ...              Below Poverty     Not Married   \n",
       "1                    1.0  ...              Below Poverty     Not Married   \n",
       "2                    0.0  ...  <= $75,000, Above Poverty     Not Married   \n",
       "3                    0.0  ...              Below Poverty     Not Married   \n",
       "4                    1.0  ...  <= $75,000, Above Poverty         Married   \n",
       "\n",
       "   rent_or_own   employment_status  hhs_geo_region                census_msa  \\\n",
       "0          Own  Not in Labor Force        oxchjgsf                   Non-MSA   \n",
       "1         Rent            Employed        bhuqouqj  MSA, Not Principle  City   \n",
       "2          Own            Employed        qufhixun  MSA, Not Principle  City   \n",
       "3         Rent  Not in Labor Force        lrircsnp       MSA, Principle City   \n",
       "4          Own            Employed        qufhixun  MSA, Not Principle  City   \n",
       "\n",
       "   household_adults  household_children employment_industry  \\\n",
       "0               0.0                 0.0                 NaN   \n",
       "1               0.0                 0.0            pxcmvdjn   \n",
       "2               2.0                 0.0            rucpziij   \n",
       "3               0.0                 0.0                 NaN   \n",
       "4               1.0                 0.0            wxleyezf   \n",
       "\n",
       "  employment_occupation  \n",
       "0                   NaN  \n",
       "1              xgwztkwe  \n",
       "2              xtkaffoo  \n",
       "3                   NaN  \n",
       "4              emcorrxb  \n",
       "\n",
       "[5 rows x 32 columns]"
      ]
     },
     "execution_count": 6,
     "metadata": {},
     "output_type": "execute_result"
    }
   ],
   "source": [
    "data.head()"
   ]
  },
  {
   "cell_type": "code",
   "execution_count": 7,
   "id": "a62e8fd3",
   "metadata": {},
   "outputs": [
    {
     "name": "stdout",
     "output_type": "stream",
     "text": [
      "<class 'pandas.core.frame.DataFrame'>\n",
      "RangeIndex: 26707 entries, 0 to 26706\n",
      "Data columns (total 32 columns):\n",
      " #   Column                       Non-Null Count  Dtype  \n",
      "---  ------                       --------------  -----  \n",
      " 0   h1n1_vaccine                 26707 non-null  int64  \n",
      " 1   h1n1_concern                 26615 non-null  float64\n",
      " 2   h1n1_knowledge               26591 non-null  float64\n",
      " 3   behavioral_antiviral_meds    26636 non-null  float64\n",
      " 4   behavioral_avoidance         26499 non-null  float64\n",
      " 5   behavioral_face_mask         26688 non-null  float64\n",
      " 6   behavioral_wash_hands        26665 non-null  float64\n",
      " 7   behavioral_large_gatherings  26620 non-null  float64\n",
      " 8   behavioral_outside_home      26625 non-null  float64\n",
      " 9   behavioral_touch_face        26579 non-null  float64\n",
      " 10  doctor_recc_h1n1             24547 non-null  float64\n",
      " 11  chronic_med_condition        25736 non-null  float64\n",
      " 12  child_under_6_months         25887 non-null  float64\n",
      " 13  health_worker                25903 non-null  float64\n",
      " 14  health_insurance             14433 non-null  float64\n",
      " 15  opinion_h1n1_vacc_effective  26316 non-null  float64\n",
      " 16  opinion_h1n1_risk            26319 non-null  float64\n",
      " 17  opinion_h1n1_sick_from_vacc  26312 non-null  float64\n",
      " 18  age_group                    26707 non-null  object \n",
      " 19  education                    25300 non-null  object \n",
      " 20  race                         26707 non-null  object \n",
      " 21  sex                          26707 non-null  object \n",
      " 22  income_poverty               22284 non-null  object \n",
      " 23  marital_status               25299 non-null  object \n",
      " 24  rent_or_own                  24665 non-null  object \n",
      " 25  employment_status            25244 non-null  object \n",
      " 26  hhs_geo_region               26707 non-null  object \n",
      " 27  census_msa                   26707 non-null  object \n",
      " 28  household_adults             26458 non-null  float64\n",
      " 29  household_children           26458 non-null  float64\n",
      " 30  employment_industry          13377 non-null  object \n",
      " 31  employment_occupation        13237 non-null  object \n",
      "dtypes: float64(19), int64(1), object(12)\n",
      "memory usage: 6.5+ MB\n"
     ]
    }
   ],
   "source": [
    "data.info()"
   ]
  },
  {
   "cell_type": "code",
   "execution_count": 8,
   "id": "eab7cabe",
   "metadata": {},
   "outputs": [
    {
     "data": {
      "text/html": [
       "<div>\n",
       "<style scoped>\n",
       "    .dataframe tbody tr th:only-of-type {\n",
       "        vertical-align: middle;\n",
       "    }\n",
       "\n",
       "    .dataframe tbody tr th {\n",
       "        vertical-align: top;\n",
       "    }\n",
       "\n",
       "    .dataframe thead th {\n",
       "        text-align: right;\n",
       "    }\n",
       "</style>\n",
       "<table border=\"1\" class=\"dataframe\">\n",
       "  <thead>\n",
       "    <tr style=\"text-align: right;\">\n",
       "      <th></th>\n",
       "      <th>h1n1_vaccine</th>\n",
       "      <th>h1n1_concern</th>\n",
       "      <th>h1n1_knowledge</th>\n",
       "      <th>behavioral_antiviral_meds</th>\n",
       "      <th>behavioral_avoidance</th>\n",
       "      <th>behavioral_face_mask</th>\n",
       "      <th>behavioral_wash_hands</th>\n",
       "      <th>behavioral_large_gatherings</th>\n",
       "      <th>behavioral_outside_home</th>\n",
       "      <th>behavioral_touch_face</th>\n",
       "      <th>doctor_recc_h1n1</th>\n",
       "      <th>chronic_med_condition</th>\n",
       "      <th>child_under_6_months</th>\n",
       "      <th>health_worker</th>\n",
       "      <th>health_insurance</th>\n",
       "      <th>opinion_h1n1_vacc_effective</th>\n",
       "      <th>opinion_h1n1_risk</th>\n",
       "      <th>opinion_h1n1_sick_from_vacc</th>\n",
       "      <th>household_adults</th>\n",
       "      <th>household_children</th>\n",
       "    </tr>\n",
       "  </thead>\n",
       "  <tbody>\n",
       "    <tr>\n",
       "      <th>count</th>\n",
       "      <td>26707.000000</td>\n",
       "      <td>26615.000000</td>\n",
       "      <td>26591.000000</td>\n",
       "      <td>26636.000000</td>\n",
       "      <td>26499.000000</td>\n",
       "      <td>26688.000000</td>\n",
       "      <td>26665.000000</td>\n",
       "      <td>26620.00000</td>\n",
       "      <td>26625.000000</td>\n",
       "      <td>26579.000000</td>\n",
       "      <td>24547.000000</td>\n",
       "      <td>25736.000000</td>\n",
       "      <td>25887.000000</td>\n",
       "      <td>25903.000000</td>\n",
       "      <td>14433.00000</td>\n",
       "      <td>26316.000000</td>\n",
       "      <td>26319.000000</td>\n",
       "      <td>26312.000000</td>\n",
       "      <td>26458.000000</td>\n",
       "      <td>26458.000000</td>\n",
       "    </tr>\n",
       "    <tr>\n",
       "      <th>mean</th>\n",
       "      <td>0.212454</td>\n",
       "      <td>1.618486</td>\n",
       "      <td>1.262532</td>\n",
       "      <td>0.048844</td>\n",
       "      <td>0.725612</td>\n",
       "      <td>0.068982</td>\n",
       "      <td>0.825614</td>\n",
       "      <td>0.35864</td>\n",
       "      <td>0.337315</td>\n",
       "      <td>0.677264</td>\n",
       "      <td>0.220312</td>\n",
       "      <td>0.283261</td>\n",
       "      <td>0.082590</td>\n",
       "      <td>0.111918</td>\n",
       "      <td>0.87972</td>\n",
       "      <td>3.850623</td>\n",
       "      <td>2.342566</td>\n",
       "      <td>2.357670</td>\n",
       "      <td>0.886499</td>\n",
       "      <td>0.534583</td>\n",
       "    </tr>\n",
       "    <tr>\n",
       "      <th>std</th>\n",
       "      <td>0.409052</td>\n",
       "      <td>0.910311</td>\n",
       "      <td>0.618149</td>\n",
       "      <td>0.215545</td>\n",
       "      <td>0.446214</td>\n",
       "      <td>0.253429</td>\n",
       "      <td>0.379448</td>\n",
       "      <td>0.47961</td>\n",
       "      <td>0.472802</td>\n",
       "      <td>0.467531</td>\n",
       "      <td>0.414466</td>\n",
       "      <td>0.450591</td>\n",
       "      <td>0.275266</td>\n",
       "      <td>0.315271</td>\n",
       "      <td>0.32530</td>\n",
       "      <td>1.007436</td>\n",
       "      <td>1.285539</td>\n",
       "      <td>1.362766</td>\n",
       "      <td>0.753422</td>\n",
       "      <td>0.928173</td>\n",
       "    </tr>\n",
       "    <tr>\n",
       "      <th>min</th>\n",
       "      <td>0.000000</td>\n",
       "      <td>0.000000</td>\n",
       "      <td>0.000000</td>\n",
       "      <td>0.000000</td>\n",
       "      <td>0.000000</td>\n",
       "      <td>0.000000</td>\n",
       "      <td>0.000000</td>\n",
       "      <td>0.00000</td>\n",
       "      <td>0.000000</td>\n",
       "      <td>0.000000</td>\n",
       "      <td>0.000000</td>\n",
       "      <td>0.000000</td>\n",
       "      <td>0.000000</td>\n",
       "      <td>0.000000</td>\n",
       "      <td>0.00000</td>\n",
       "      <td>1.000000</td>\n",
       "      <td>1.000000</td>\n",
       "      <td>1.000000</td>\n",
       "      <td>0.000000</td>\n",
       "      <td>0.000000</td>\n",
       "    </tr>\n",
       "    <tr>\n",
       "      <th>25%</th>\n",
       "      <td>0.000000</td>\n",
       "      <td>1.000000</td>\n",
       "      <td>1.000000</td>\n",
       "      <td>0.000000</td>\n",
       "      <td>0.000000</td>\n",
       "      <td>0.000000</td>\n",
       "      <td>1.000000</td>\n",
       "      <td>0.00000</td>\n",
       "      <td>0.000000</td>\n",
       "      <td>0.000000</td>\n",
       "      <td>0.000000</td>\n",
       "      <td>0.000000</td>\n",
       "      <td>0.000000</td>\n",
       "      <td>0.000000</td>\n",
       "      <td>1.00000</td>\n",
       "      <td>3.000000</td>\n",
       "      <td>1.000000</td>\n",
       "      <td>1.000000</td>\n",
       "      <td>0.000000</td>\n",
       "      <td>0.000000</td>\n",
       "    </tr>\n",
       "    <tr>\n",
       "      <th>50%</th>\n",
       "      <td>0.000000</td>\n",
       "      <td>2.000000</td>\n",
       "      <td>1.000000</td>\n",
       "      <td>0.000000</td>\n",
       "      <td>1.000000</td>\n",
       "      <td>0.000000</td>\n",
       "      <td>1.000000</td>\n",
       "      <td>0.00000</td>\n",
       "      <td>0.000000</td>\n",
       "      <td>1.000000</td>\n",
       "      <td>0.000000</td>\n",
       "      <td>0.000000</td>\n",
       "      <td>0.000000</td>\n",
       "      <td>0.000000</td>\n",
       "      <td>1.00000</td>\n",
       "      <td>4.000000</td>\n",
       "      <td>2.000000</td>\n",
       "      <td>2.000000</td>\n",
       "      <td>1.000000</td>\n",
       "      <td>0.000000</td>\n",
       "    </tr>\n",
       "    <tr>\n",
       "      <th>75%</th>\n",
       "      <td>0.000000</td>\n",
       "      <td>2.000000</td>\n",
       "      <td>2.000000</td>\n",
       "      <td>0.000000</td>\n",
       "      <td>1.000000</td>\n",
       "      <td>0.000000</td>\n",
       "      <td>1.000000</td>\n",
       "      <td>1.00000</td>\n",
       "      <td>1.000000</td>\n",
       "      <td>1.000000</td>\n",
       "      <td>0.000000</td>\n",
       "      <td>1.000000</td>\n",
       "      <td>0.000000</td>\n",
       "      <td>0.000000</td>\n",
       "      <td>1.00000</td>\n",
       "      <td>5.000000</td>\n",
       "      <td>4.000000</td>\n",
       "      <td>4.000000</td>\n",
       "      <td>1.000000</td>\n",
       "      <td>1.000000</td>\n",
       "    </tr>\n",
       "    <tr>\n",
       "      <th>max</th>\n",
       "      <td>1.000000</td>\n",
       "      <td>3.000000</td>\n",
       "      <td>2.000000</td>\n",
       "      <td>1.000000</td>\n",
       "      <td>1.000000</td>\n",
       "      <td>1.000000</td>\n",
       "      <td>1.000000</td>\n",
       "      <td>1.00000</td>\n",
       "      <td>1.000000</td>\n",
       "      <td>1.000000</td>\n",
       "      <td>1.000000</td>\n",
       "      <td>1.000000</td>\n",
       "      <td>1.000000</td>\n",
       "      <td>1.000000</td>\n",
       "      <td>1.00000</td>\n",
       "      <td>5.000000</td>\n",
       "      <td>5.000000</td>\n",
       "      <td>5.000000</td>\n",
       "      <td>3.000000</td>\n",
       "      <td>3.000000</td>\n",
       "    </tr>\n",
       "  </tbody>\n",
       "</table>\n",
       "</div>"
      ],
      "text/plain": [
       "       h1n1_vaccine  h1n1_concern  h1n1_knowledge  behavioral_antiviral_meds  \\\n",
       "count  26707.000000  26615.000000    26591.000000               26636.000000   \n",
       "mean       0.212454      1.618486        1.262532                   0.048844   \n",
       "std        0.409052      0.910311        0.618149                   0.215545   \n",
       "min        0.000000      0.000000        0.000000                   0.000000   \n",
       "25%        0.000000      1.000000        1.000000                   0.000000   \n",
       "50%        0.000000      2.000000        1.000000                   0.000000   \n",
       "75%        0.000000      2.000000        2.000000                   0.000000   \n",
       "max        1.000000      3.000000        2.000000                   1.000000   \n",
       "\n",
       "       behavioral_avoidance  behavioral_face_mask  behavioral_wash_hands  \\\n",
       "count          26499.000000          26688.000000           26665.000000   \n",
       "mean               0.725612              0.068982               0.825614   \n",
       "std                0.446214              0.253429               0.379448   \n",
       "min                0.000000              0.000000               0.000000   \n",
       "25%                0.000000              0.000000               1.000000   \n",
       "50%                1.000000              0.000000               1.000000   \n",
       "75%                1.000000              0.000000               1.000000   \n",
       "max                1.000000              1.000000               1.000000   \n",
       "\n",
       "       behavioral_large_gatherings  behavioral_outside_home  \\\n",
       "count                  26620.00000             26625.000000   \n",
       "mean                       0.35864                 0.337315   \n",
       "std                        0.47961                 0.472802   \n",
       "min                        0.00000                 0.000000   \n",
       "25%                        0.00000                 0.000000   \n",
       "50%                        0.00000                 0.000000   \n",
       "75%                        1.00000                 1.000000   \n",
       "max                        1.00000                 1.000000   \n",
       "\n",
       "       behavioral_touch_face  doctor_recc_h1n1  chronic_med_condition  \\\n",
       "count           26579.000000      24547.000000           25736.000000   \n",
       "mean                0.677264          0.220312               0.283261   \n",
       "std                 0.467531          0.414466               0.450591   \n",
       "min                 0.000000          0.000000               0.000000   \n",
       "25%                 0.000000          0.000000               0.000000   \n",
       "50%                 1.000000          0.000000               0.000000   \n",
       "75%                 1.000000          0.000000               1.000000   \n",
       "max                 1.000000          1.000000               1.000000   \n",
       "\n",
       "       child_under_6_months  health_worker  health_insurance  \\\n",
       "count          25887.000000   25903.000000       14433.00000   \n",
       "mean               0.082590       0.111918           0.87972   \n",
       "std                0.275266       0.315271           0.32530   \n",
       "min                0.000000       0.000000           0.00000   \n",
       "25%                0.000000       0.000000           1.00000   \n",
       "50%                0.000000       0.000000           1.00000   \n",
       "75%                0.000000       0.000000           1.00000   \n",
       "max                1.000000       1.000000           1.00000   \n",
       "\n",
       "       opinion_h1n1_vacc_effective  opinion_h1n1_risk  \\\n",
       "count                 26316.000000       26319.000000   \n",
       "mean                      3.850623           2.342566   \n",
       "std                       1.007436           1.285539   \n",
       "min                       1.000000           1.000000   \n",
       "25%                       3.000000           1.000000   \n",
       "50%                       4.000000           2.000000   \n",
       "75%                       5.000000           4.000000   \n",
       "max                       5.000000           5.000000   \n",
       "\n",
       "       opinion_h1n1_sick_from_vacc  household_adults  household_children  \n",
       "count                 26312.000000      26458.000000        26458.000000  \n",
       "mean                      2.357670          0.886499            0.534583  \n",
       "std                       1.362766          0.753422            0.928173  \n",
       "min                       1.000000          0.000000            0.000000  \n",
       "25%                       1.000000          0.000000            0.000000  \n",
       "50%                       2.000000          1.000000            0.000000  \n",
       "75%                       4.000000          1.000000            1.000000  \n",
       "max                       5.000000          3.000000            3.000000  "
      ]
     },
     "execution_count": 8,
     "metadata": {},
     "output_type": "execute_result"
    }
   ],
   "source": [
    "data.describe()"
   ]
  },
  {
   "cell_type": "code",
   "execution_count": 9,
   "id": "99957358",
   "metadata": {},
   "outputs": [
    {
     "data": {
      "text/html": [
       "<div>\n",
       "<style scoped>\n",
       "    .dataframe tbody tr th:only-of-type {\n",
       "        vertical-align: middle;\n",
       "    }\n",
       "\n",
       "    .dataframe tbody tr th {\n",
       "        vertical-align: top;\n",
       "    }\n",
       "\n",
       "    .dataframe thead th {\n",
       "        text-align: right;\n",
       "    }\n",
       "</style>\n",
       "<table border=\"1\" class=\"dataframe\">\n",
       "  <thead>\n",
       "    <tr style=\"text-align: right;\">\n",
       "      <th></th>\n",
       "      <th>behavioral_outside_home</th>\n",
       "      <th>behavioral_touch_face</th>\n",
       "      <th>doctor_recc_h1n1</th>\n",
       "      <th>chronic_med_condition</th>\n",
       "      <th>child_under_6_months</th>\n",
       "      <th>health_worker</th>\n",
       "      <th>health_insurance</th>\n",
       "      <th>opinion_h1n1_vacc_effective</th>\n",
       "      <th>opinion_h1n1_risk</th>\n",
       "    </tr>\n",
       "  </thead>\n",
       "  <tbody>\n",
       "    <tr>\n",
       "      <th>count</th>\n",
       "      <td>26625.000000</td>\n",
       "      <td>26579.000000</td>\n",
       "      <td>24547.000000</td>\n",
       "      <td>25736.000000</td>\n",
       "      <td>25887.000000</td>\n",
       "      <td>25903.000000</td>\n",
       "      <td>14433.00000</td>\n",
       "      <td>26316.000000</td>\n",
       "      <td>26319.000000</td>\n",
       "    </tr>\n",
       "    <tr>\n",
       "      <th>mean</th>\n",
       "      <td>0.337315</td>\n",
       "      <td>0.677264</td>\n",
       "      <td>0.220312</td>\n",
       "      <td>0.283261</td>\n",
       "      <td>0.082590</td>\n",
       "      <td>0.111918</td>\n",
       "      <td>0.87972</td>\n",
       "      <td>3.850623</td>\n",
       "      <td>2.342566</td>\n",
       "    </tr>\n",
       "    <tr>\n",
       "      <th>std</th>\n",
       "      <td>0.472802</td>\n",
       "      <td>0.467531</td>\n",
       "      <td>0.414466</td>\n",
       "      <td>0.450591</td>\n",
       "      <td>0.275266</td>\n",
       "      <td>0.315271</td>\n",
       "      <td>0.32530</td>\n",
       "      <td>1.007436</td>\n",
       "      <td>1.285539</td>\n",
       "    </tr>\n",
       "    <tr>\n",
       "      <th>min</th>\n",
       "      <td>0.000000</td>\n",
       "      <td>0.000000</td>\n",
       "      <td>0.000000</td>\n",
       "      <td>0.000000</td>\n",
       "      <td>0.000000</td>\n",
       "      <td>0.000000</td>\n",
       "      <td>0.00000</td>\n",
       "      <td>1.000000</td>\n",
       "      <td>1.000000</td>\n",
       "    </tr>\n",
       "    <tr>\n",
       "      <th>25%</th>\n",
       "      <td>0.000000</td>\n",
       "      <td>0.000000</td>\n",
       "      <td>0.000000</td>\n",
       "      <td>0.000000</td>\n",
       "      <td>0.000000</td>\n",
       "      <td>0.000000</td>\n",
       "      <td>1.00000</td>\n",
       "      <td>3.000000</td>\n",
       "      <td>1.000000</td>\n",
       "    </tr>\n",
       "    <tr>\n",
       "      <th>50%</th>\n",
       "      <td>0.000000</td>\n",
       "      <td>1.000000</td>\n",
       "      <td>0.000000</td>\n",
       "      <td>0.000000</td>\n",
       "      <td>0.000000</td>\n",
       "      <td>0.000000</td>\n",
       "      <td>1.00000</td>\n",
       "      <td>4.000000</td>\n",
       "      <td>2.000000</td>\n",
       "    </tr>\n",
       "    <tr>\n",
       "      <th>75%</th>\n",
       "      <td>1.000000</td>\n",
       "      <td>1.000000</td>\n",
       "      <td>0.000000</td>\n",
       "      <td>1.000000</td>\n",
       "      <td>0.000000</td>\n",
       "      <td>0.000000</td>\n",
       "      <td>1.00000</td>\n",
       "      <td>5.000000</td>\n",
       "      <td>4.000000</td>\n",
       "    </tr>\n",
       "    <tr>\n",
       "      <th>max</th>\n",
       "      <td>1.000000</td>\n",
       "      <td>1.000000</td>\n",
       "      <td>1.000000</td>\n",
       "      <td>1.000000</td>\n",
       "      <td>1.000000</td>\n",
       "      <td>1.000000</td>\n",
       "      <td>1.00000</td>\n",
       "      <td>5.000000</td>\n",
       "      <td>5.000000</td>\n",
       "    </tr>\n",
       "  </tbody>\n",
       "</table>\n",
       "</div>"
      ],
      "text/plain": [
       "       behavioral_outside_home  behavioral_touch_face  doctor_recc_h1n1  \\\n",
       "count             26625.000000           26579.000000      24547.000000   \n",
       "mean                  0.337315               0.677264          0.220312   \n",
       "std                   0.472802               0.467531          0.414466   \n",
       "min                   0.000000               0.000000          0.000000   \n",
       "25%                   0.000000               0.000000          0.000000   \n",
       "50%                   0.000000               1.000000          0.000000   \n",
       "75%                   1.000000               1.000000          0.000000   \n",
       "max                   1.000000               1.000000          1.000000   \n",
       "\n",
       "       chronic_med_condition  child_under_6_months  health_worker  \\\n",
       "count           25736.000000          25887.000000   25903.000000   \n",
       "mean                0.283261              0.082590       0.111918   \n",
       "std                 0.450591              0.275266       0.315271   \n",
       "min                 0.000000              0.000000       0.000000   \n",
       "25%                 0.000000              0.000000       0.000000   \n",
       "50%                 0.000000              0.000000       0.000000   \n",
       "75%                 1.000000              0.000000       0.000000   \n",
       "max                 1.000000              1.000000       1.000000   \n",
       "\n",
       "       health_insurance  opinion_h1n1_vacc_effective  opinion_h1n1_risk  \n",
       "count       14433.00000                 26316.000000       26319.000000  \n",
       "mean            0.87972                     3.850623           2.342566  \n",
       "std             0.32530                     1.007436           1.285539  \n",
       "min             0.00000                     1.000000           1.000000  \n",
       "25%             1.00000                     3.000000           1.000000  \n",
       "50%             1.00000                     4.000000           2.000000  \n",
       "75%             1.00000                     5.000000           4.000000  \n",
       "max             1.00000                     5.000000           5.000000  "
      ]
     },
     "execution_count": 9,
     "metadata": {},
     "output_type": "execute_result"
    }
   ],
   "source": [
    "data.iloc[:,8:17].describe()"
   ]
  },
  {
   "cell_type": "markdown",
   "id": "b5edbdd7",
   "metadata": {},
   "source": [
    "Of the float and integer type features, about half are binary/categorical.  The columns with most missing data have about 10,000 of 27,000 missing.  About 21% of respondents received the H1N1 vaccine. \n",
    "\n",
    "Some of the columns are not self-explanatory: census_msa, hhs_geo_region. "
   ]
  },
  {
   "cell_type": "code",
   "execution_count": 10,
   "id": "01ba4260",
   "metadata": {},
   "outputs": [
    {
     "data": {
      "text/plain": [
       "MSA, Not Principle  City    11645\n",
       "MSA, Principle City          7864\n",
       "Non-MSA                      7198\n",
       "Name: census_msa, dtype: int64"
      ]
     },
     "execution_count": 10,
     "metadata": {},
     "output_type": "execute_result"
    }
   ],
   "source": [
    "data.census_msa.value_counts()"
   ]
  },
  {
   "cell_type": "markdown",
   "id": "92332a4c",
   "metadata": {},
   "source": [
    "Metropolitan Statistical Area, it seems that these designation roughly mean: {MSA, Not Principle  City: suburban; MSA, Principle City: urban; Non-MSA: rural }"
   ]
  },
  {
   "cell_type": "markdown",
   "id": "dd844cf3",
   "metadata": {},
   "source": [
    "hhs_geo_region, employment_industry, and employment_occupation are coded as random strings.  Thus without decoding, they will provide little information."
   ]
  },
  {
   "cell_type": "code",
   "execution_count": 11,
   "id": "05e68c32",
   "metadata": {},
   "outputs": [
    {
     "data": {
      "text/plain": [
       "lzgpxyit    4297\n",
       "fpwskwrf    3265\n",
       "qufhixun    3102\n",
       "oxchjgsf    2859\n",
       "kbazzjca    2858\n",
       "bhuqouqj    2846\n",
       "mlyzmhmf    2243\n",
       "lrircsnp    2078\n",
       "atmpeygn    2033\n",
       "dqpwygqj    1126\n",
       "Name: hhs_geo_region, dtype: int64"
      ]
     },
     "execution_count": 11,
     "metadata": {},
     "output_type": "execute_result"
    }
   ],
   "source": [
    "data.hhs_geo_region.value_counts()"
   ]
  },
  {
   "cell_type": "code",
   "execution_count": 12,
   "id": "b8fa3c29",
   "metadata": {},
   "outputs": [
    {
     "data": {
      "text/plain": [
       "fcxhlnwr    2468\n",
       "wxleyezf    1804\n",
       "ldnlellj    1231\n",
       "pxcmvdjn    1037\n",
       "atmlpfrs     926\n",
       "arjwrbjb     871\n",
       "xicduogh     851\n",
       "mfikgejo     614\n",
       "vjjrobsf     527\n",
       "rucpziij     523\n",
       "xqicxuve     511\n",
       "saaquncn     338\n",
       "cfqqtusy     325\n",
       "nduyfdeo     286\n",
       "mcubkhph     275\n",
       "wlfvacwt     215\n",
       "dotnnunm     201\n",
       "haxffmxo     148\n",
       "msuufmds     124\n",
       "phxvnwax      89\n",
       "qnlwzans      13\n",
       "Name: employment_industry, dtype: int64"
      ]
     },
     "execution_count": 12,
     "metadata": {},
     "output_type": "execute_result"
    }
   ],
   "source": [
    "data.employment_industry.value_counts()"
   ]
  },
  {
   "cell_type": "code",
   "execution_count": 13,
   "id": "f203db33",
   "metadata": {},
   "outputs": [
    {
     "data": {
      "text/plain": [
       "xtkaffoo    1778\n",
       "mxkfnird    1509\n",
       "emcorrxb    1270\n",
       "cmhcxjea    1247\n",
       "xgwztkwe    1082\n",
       "hfxkjkmi     766\n",
       "qxajmpny     548\n",
       "xqwwgdyp     485\n",
       "kldqjyjy     469\n",
       "uqqtjvyb     452\n",
       "tfqavkke     388\n",
       "ukymxvdu     372\n",
       "vlluhbov     354\n",
       "oijqvulv     344\n",
       "ccgxvspp     341\n",
       "bxpfxfdn     331\n",
       "haliazsg     296\n",
       "rcertsgn     276\n",
       "xzmlyyjv     248\n",
       "dlvbwzss     227\n",
       "hodpvpew     208\n",
       "dcjcmpih     148\n",
       "pvmttkik      98\n",
       "Name: employment_occupation, dtype: int64"
      ]
     },
     "execution_count": 13,
     "metadata": {},
     "output_type": "execute_result"
    }
   ],
   "source": [
    "data.employment_occupation.value_counts()"
   ]
  },
  {
   "cell_type": "code",
   "execution_count": 14,
   "id": "f282bf0f",
   "metadata": {},
   "outputs": [
    {
     "data": {
      "text/plain": [
       "College Graduate    10097\n",
       "Some College         7043\n",
       "12 Years             5797\n",
       "< 12 Years           2363\n",
       "Name: education, dtype: int64"
      ]
     },
     "execution_count": 14,
     "metadata": {},
     "output_type": "execute_result"
    }
   ],
   "source": [
    "data.education.value_counts()"
   ]
  },
  {
   "cell_type": "code",
   "execution_count": 15,
   "id": "f41d0b4e",
   "metadata": {},
   "outputs": [
    {
     "data": {
      "text/plain": [
       "Female    15858\n",
       "Male      10849\n",
       "Name: sex, dtype: int64"
      ]
     },
     "execution_count": 15,
     "metadata": {},
     "output_type": "execute_result"
    }
   ],
   "source": [
    "data.sex.value_counts()"
   ]
  },
  {
   "cell_type": "code",
   "execution_count": 16,
   "id": "9892e28d",
   "metadata": {},
   "outputs": [
    {
     "data": {
      "text/plain": [
       "White                21222\n",
       "Black                 2118\n",
       "Hispanic              1755\n",
       "Other or Multiple     1612\n",
       "Name: race, dtype: int64"
      ]
     },
     "execution_count": 16,
     "metadata": {},
     "output_type": "execute_result"
    }
   ],
   "source": [
    "data.race.value_counts()"
   ]
  },
  {
   "cell_type": "code",
   "execution_count": 17,
   "id": "bd5906f3",
   "metadata": {},
   "outputs": [
    {
     "data": {
      "text/plain": [
       "65+ Years        6843\n",
       "55 - 64 Years    5563\n",
       "45 - 54 Years    5238\n",
       "18 - 34 Years    5215\n",
       "35 - 44 Years    3848\n",
       "Name: age_group, dtype: int64"
      ]
     },
     "execution_count": 17,
     "metadata": {},
     "output_type": "execute_result"
    }
   ],
   "source": [
    "data.age_group.value_counts()"
   ]
  },
  {
   "cell_type": "code",
   "execution_count": 18,
   "id": "e06046de",
   "metadata": {},
   "outputs": [
    {
     "data": {
      "text/plain": [
       "<= $75,000, Above Poverty    12777\n",
       "> $75,000                     6810\n",
       "Below Poverty                 2697\n",
       "Name: income_poverty, dtype: int64"
      ]
     },
     "execution_count": 18,
     "metadata": {},
     "output_type": "execute_result"
    }
   ],
   "source": [
    "data.income_poverty.value_counts()"
   ]
  },
  {
   "cell_type": "markdown",
   "id": "effd5a27",
   "metadata": {},
   "source": [
    "Above, the survey seems to be fairly cross-sectional in terms of various background factors. "
   ]
  },
  {
   "cell_type": "markdown",
   "id": "2eaf27e6",
   "metadata": {},
   "source": [
    "Check correlations with target variable and for multicollinearity."
   ]
  },
  {
   "cell_type": "code",
   "execution_count": 19,
   "id": "15414351",
   "metadata": {},
   "outputs": [
    {
     "data": {
      "text/plain": [
       "<AxesSubplot:>"
      ]
     },
     "execution_count": 19,
     "metadata": {},
     "output_type": "execute_result"
    },
    {
     "data": {
      "image/png": "[encoded data removed]",
      "text/plain": [
       "<Figure size 640x480 with 2 Axes>"
      ]
     },
     "metadata": {},
     "output_type": "display_data"
    }
   ],
   "source": [
    "sns.heatmap(data.corr())"
   ]
  },
  {
   "cell_type": "markdown",
   "id": "de7b6e1e",
   "metadata": {},
   "source": [
    "The potential predictor variables don't appear highly correlated amonst each other.  Significant correlations appear to be: Doctor reccomendation, opinion of virus risk, opinion of vaccine effective."
   ]
  },
  {
   "cell_type": "markdown",
   "id": "a65b7420",
   "metadata": {},
   "source": [
    "Above, most dummy variables don't seem highly correlated to target."
   ]
  },
  {
   "cell_type": "markdown",
   "id": "f1b60ebb",
   "metadata": {},
   "source": [
    "Find all correlations over .25:"
   ]
  },
  {
   "cell_type": "code",
   "execution_count": 20,
   "id": "2eeffbf0",
   "metadata": {},
   "outputs": [],
   "source": [
    "datacor = data.corr()"
   ]
  },
  {
   "cell_type": "code",
   "execution_count": 21,
   "id": "5b4f5255",
   "metadata": {},
   "outputs": [
    {
     "data": {
      "text/plain": [
       "[(0.39389048123870213, 'h1n1_vaccine', 'doctor_recc_h1n1'),\n",
       " (0.26934700167297715, 'h1n1_vaccine', 'opinion_h1n1_vacc_effective'),\n",
       " (0.32326466034778245, 'h1n1_vaccine', 'opinion_h1n1_risk'),\n",
       " (0.2935651485017993, 'h1n1_concern', 'behavioral_wash_hands'),\n",
       " (0.2550310154400835, 'h1n1_concern', 'behavioral_large_gatherings'),\n",
       " (0.3770328126230567, 'h1n1_concern', 'opinion_h1n1_risk'),\n",
       " (0.3600697383652842, 'h1n1_concern', 'opinion_h1n1_sick_from_vacc'),\n",
       " (0.3381295192965343, 'behavioral_avoidance', 'behavioral_wash_hands'),\n",
       " (0.3353354496707589, 'behavioral_avoidance', 'behavioral_touch_face'),\n",
       " (0.2935651485017993, 'behavioral_wash_hands', 'h1n1_concern'),\n",
       " (0.3381295192965343, 'behavioral_wash_hands', 'behavioral_avoidance'),\n",
       " (0.36506407130000645, 'behavioral_wash_hands', 'behavioral_touch_face'),\n",
       " (0.2550310154400835, 'behavioral_large_gatherings', 'h1n1_concern'),\n",
       " (0.5840845791409999,\n",
       "  'behavioral_large_gatherings',\n",
       "  'behavioral_outside_home'),\n",
       " (0.2536834927481906, 'behavioral_large_gatherings', 'behavioral_touch_face'),\n",
       " (0.5840845791409999,\n",
       "  'behavioral_outside_home',\n",
       "  'behavioral_large_gatherings'),\n",
       " (0.2677190664527069, 'behavioral_outside_home', 'behavioral_touch_face'),\n",
       " (0.3353354496707589, 'behavioral_touch_face', 'behavioral_avoidance'),\n",
       " (0.36506407130000645, 'behavioral_touch_face', 'behavioral_wash_hands'),\n",
       " (0.2536834927481906, 'behavioral_touch_face', 'behavioral_large_gatherings'),\n",
       " (0.2677190664527069, 'behavioral_touch_face', 'behavioral_outside_home'),\n",
       " (0.39389048123870213, 'doctor_recc_h1n1', 'h1n1_vaccine'),\n",
       " (0.2628258764271389, 'doctor_recc_h1n1', 'opinion_h1n1_risk'),\n",
       " (0.26934700167297715, 'opinion_h1n1_vacc_effective', 'h1n1_vaccine'),\n",
       " (0.26130398188495424, 'opinion_h1n1_vacc_effective', 'opinion_h1n1_risk'),\n",
       " (0.32326466034778245, 'opinion_h1n1_risk', 'h1n1_vaccine'),\n",
       " (0.3770328126230567, 'opinion_h1n1_risk', 'h1n1_concern'),\n",
       " (0.2628258764271389, 'opinion_h1n1_risk', 'doctor_recc_h1n1'),\n",
       " (0.26130398188495424, 'opinion_h1n1_risk', 'opinion_h1n1_vacc_effective'),\n",
       " (0.3350616829138996, 'opinion_h1n1_risk', 'opinion_h1n1_sick_from_vacc'),\n",
       " (0.3600697383652842, 'opinion_h1n1_sick_from_vacc', 'h1n1_concern'),\n",
       " (0.3350616829138996, 'opinion_h1n1_sick_from_vacc', 'opinion_h1n1_risk')]"
      ]
     },
     "execution_count": 21,
     "metadata": {},
     "output_type": "execute_result"
    }
   ],
   "source": [
    "corrs=[]\n",
    "\n",
    "for i in range(len(datacor)):#iter over rows\n",
    "    for j in range(len(datacor)):#iter over cols\n",
    "        if abs((datacor[datacor.columns[i]][datacor.columns[j]])>.25) & (datacor[datacor.columns[i]][datacor.columns[j]] !=1.0):#don't include in high correlations the self correlations.\n",
    "            tup = datacor[datacor.columns[i]][datacor.columns[j]],datacor.columns[i], datacor.columns[j]\n",
    "            corrs.append(tup)\n",
    "corrs    \n",
    "    "
   ]
  },
  {
   "cell_type": "code",
   "execution_count": 22,
   "id": "158ca3bc",
   "metadata": {},
   "outputs": [],
   "source": [
    "#Convert list of tuples to DF.\n",
    "corrlist =[]\n",
    "var1 =[]\n",
    "var2 =[]\n",
    "for i in corrs:\n",
    "    corrlist.append(i[0])\n",
    "    var1.append(i[1])\n",
    "    var2.append(i[2])\n",
    "corrdf = pd.DataFrame([corrlist,var1, var2]).transpose()        "
   ]
  },
  {
   "cell_type": "markdown",
   "id": "31240859",
   "metadata": {},
   "source": [
    "Find signficant correlations with target variable."
   ]
  },
  {
   "cell_type": "code",
   "execution_count": 23,
   "id": "105ad1be",
   "metadata": {},
   "outputs": [
    {
     "data": {
      "text/html": [
       "<div>\n",
       "<style scoped>\n",
       "    .dataframe tbody tr th:only-of-type {\n",
       "        vertical-align: middle;\n",
       "    }\n",
       "\n",
       "    .dataframe tbody tr th {\n",
       "        vertical-align: top;\n",
       "    }\n",
       "\n",
       "    .dataframe thead th {\n",
       "        text-align: right;\n",
       "    }\n",
       "</style>\n",
       "<table border=\"1\" class=\"dataframe\">\n",
       "  <thead>\n",
       "    <tr style=\"text-align: right;\">\n",
       "      <th></th>\n",
       "      <th>0</th>\n",
       "      <th>1</th>\n",
       "      <th>2</th>\n",
       "    </tr>\n",
       "  </thead>\n",
       "  <tbody>\n",
       "    <tr>\n",
       "      <th>0</th>\n",
       "      <td>0.39389</td>\n",
       "      <td>h1n1_vaccine</td>\n",
       "      <td>doctor_recc_h1n1</td>\n",
       "    </tr>\n",
       "    <tr>\n",
       "      <th>1</th>\n",
       "      <td>0.269347</td>\n",
       "      <td>h1n1_vaccine</td>\n",
       "      <td>opinion_h1n1_vacc_effective</td>\n",
       "    </tr>\n",
       "    <tr>\n",
       "      <th>2</th>\n",
       "      <td>0.323265</td>\n",
       "      <td>h1n1_vaccine</td>\n",
       "      <td>opinion_h1n1_risk</td>\n",
       "    </tr>\n",
       "    <tr>\n",
       "      <th>21</th>\n",
       "      <td>0.39389</td>\n",
       "      <td>doctor_recc_h1n1</td>\n",
       "      <td>h1n1_vaccine</td>\n",
       "    </tr>\n",
       "    <tr>\n",
       "      <th>23</th>\n",
       "      <td>0.269347</td>\n",
       "      <td>opinion_h1n1_vacc_effective</td>\n",
       "      <td>h1n1_vaccine</td>\n",
       "    </tr>\n",
       "    <tr>\n",
       "      <th>25</th>\n",
       "      <td>0.323265</td>\n",
       "      <td>opinion_h1n1_risk</td>\n",
       "      <td>h1n1_vaccine</td>\n",
       "    </tr>\n",
       "  </tbody>\n",
       "</table>\n",
       "</div>"
      ],
      "text/plain": [
       "           0                            1                            2\n",
       "0    0.39389                 h1n1_vaccine             doctor_recc_h1n1\n",
       "1   0.269347                 h1n1_vaccine  opinion_h1n1_vacc_effective\n",
       "2   0.323265                 h1n1_vaccine            opinion_h1n1_risk\n",
       "21   0.39389             doctor_recc_h1n1                 h1n1_vaccine\n",
       "23  0.269347  opinion_h1n1_vacc_effective                 h1n1_vaccine\n",
       "25  0.323265            opinion_h1n1_risk                 h1n1_vaccine"
      ]
     },
     "execution_count": 23,
     "metadata": {},
     "output_type": "execute_result"
    }
   ],
   "source": [
    "corrdf.loc[(corrdf[1]=='h1n1_vaccine')|(corrdf[2]=='h1n1_vaccine')]"
   ]
  },
  {
   "cell_type": "markdown",
   "id": "705c7685",
   "metadata": {},
   "source": [
    "Significant correlations are: Doctor reccomendation, opinion of virus risk, opinion of vaccine effective."
   ]
  },
  {
   "cell_type": "markdown",
   "id": "55a34378",
   "metadata": {},
   "source": [
    "Check these potential predictors correlations amongst each other"
   ]
  },
  {
   "cell_type": "code",
   "execution_count": 24,
   "id": "d55b9120",
   "metadata": {},
   "outputs": [
    {
     "data": {
      "text/html": [
       "<div>\n",
       "<style scoped>\n",
       "    .dataframe tbody tr th:only-of-type {\n",
       "        vertical-align: middle;\n",
       "    }\n",
       "\n",
       "    .dataframe tbody tr th {\n",
       "        vertical-align: top;\n",
       "    }\n",
       "\n",
       "    .dataframe thead th {\n",
       "        text-align: right;\n",
       "    }\n",
       "</style>\n",
       "<table border=\"1\" class=\"dataframe\">\n",
       "  <thead>\n",
       "    <tr style=\"text-align: right;\">\n",
       "      <th></th>\n",
       "      <th>0</th>\n",
       "      <th>1</th>\n",
       "      <th>2</th>\n",
       "    </tr>\n",
       "  </thead>\n",
       "  <tbody>\n",
       "    <tr>\n",
       "      <th>2</th>\n",
       "      <td>0.323265</td>\n",
       "      <td>h1n1_vaccine</td>\n",
       "      <td>opinion_h1n1_risk</td>\n",
       "    </tr>\n",
       "    <tr>\n",
       "      <th>3</th>\n",
       "      <td>0.293565</td>\n",
       "      <td>h1n1_concern</td>\n",
       "      <td>behavioral_wash_hands</td>\n",
       "    </tr>\n",
       "    <tr>\n",
       "      <th>4</th>\n",
       "      <td>0.255031</td>\n",
       "      <td>h1n1_concern</td>\n",
       "      <td>behavioral_large_gatherings</td>\n",
       "    </tr>\n",
       "    <tr>\n",
       "      <th>5</th>\n",
       "      <td>0.377033</td>\n",
       "      <td>h1n1_concern</td>\n",
       "      <td>opinion_h1n1_risk</td>\n",
       "    </tr>\n",
       "    <tr>\n",
       "      <th>6</th>\n",
       "      <td>0.36007</td>\n",
       "      <td>h1n1_concern</td>\n",
       "      <td>opinion_h1n1_sick_from_vacc</td>\n",
       "    </tr>\n",
       "    <tr>\n",
       "      <th>7</th>\n",
       "      <td>0.33813</td>\n",
       "      <td>behavioral_avoidance</td>\n",
       "      <td>behavioral_wash_hands</td>\n",
       "    </tr>\n",
       "    <tr>\n",
       "      <th>8</th>\n",
       "      <td>0.335335</td>\n",
       "      <td>behavioral_avoidance</td>\n",
       "      <td>behavioral_touch_face</td>\n",
       "    </tr>\n",
       "    <tr>\n",
       "      <th>9</th>\n",
       "      <td>0.293565</td>\n",
       "      <td>behavioral_wash_hands</td>\n",
       "      <td>h1n1_concern</td>\n",
       "    </tr>\n",
       "    <tr>\n",
       "      <th>10</th>\n",
       "      <td>0.33813</td>\n",
       "      <td>behavioral_wash_hands</td>\n",
       "      <td>behavioral_avoidance</td>\n",
       "    </tr>\n",
       "    <tr>\n",
       "      <th>11</th>\n",
       "      <td>0.365064</td>\n",
       "      <td>behavioral_wash_hands</td>\n",
       "      <td>behavioral_touch_face</td>\n",
       "    </tr>\n",
       "    <tr>\n",
       "      <th>12</th>\n",
       "      <td>0.255031</td>\n",
       "      <td>behavioral_large_gatherings</td>\n",
       "      <td>h1n1_concern</td>\n",
       "    </tr>\n",
       "    <tr>\n",
       "      <th>13</th>\n",
       "      <td>0.584085</td>\n",
       "      <td>behavioral_large_gatherings</td>\n",
       "      <td>behavioral_outside_home</td>\n",
       "    </tr>\n",
       "    <tr>\n",
       "      <th>14</th>\n",
       "      <td>0.253683</td>\n",
       "      <td>behavioral_large_gatherings</td>\n",
       "      <td>behavioral_touch_face</td>\n",
       "    </tr>\n",
       "    <tr>\n",
       "      <th>15</th>\n",
       "      <td>0.584085</td>\n",
       "      <td>behavioral_outside_home</td>\n",
       "      <td>behavioral_large_gatherings</td>\n",
       "    </tr>\n",
       "    <tr>\n",
       "      <th>16</th>\n",
       "      <td>0.267719</td>\n",
       "      <td>behavioral_outside_home</td>\n",
       "      <td>behavioral_touch_face</td>\n",
       "    </tr>\n",
       "    <tr>\n",
       "      <th>17</th>\n",
       "      <td>0.335335</td>\n",
       "      <td>behavioral_touch_face</td>\n",
       "      <td>behavioral_avoidance</td>\n",
       "    </tr>\n",
       "    <tr>\n",
       "      <th>18</th>\n",
       "      <td>0.365064</td>\n",
       "      <td>behavioral_touch_face</td>\n",
       "      <td>behavioral_wash_hands</td>\n",
       "    </tr>\n",
       "    <tr>\n",
       "      <th>19</th>\n",
       "      <td>0.253683</td>\n",
       "      <td>behavioral_touch_face</td>\n",
       "      <td>behavioral_large_gatherings</td>\n",
       "    </tr>\n",
       "    <tr>\n",
       "      <th>20</th>\n",
       "      <td>0.267719</td>\n",
       "      <td>behavioral_touch_face</td>\n",
       "      <td>behavioral_outside_home</td>\n",
       "    </tr>\n",
       "    <tr>\n",
       "      <th>21</th>\n",
       "      <td>0.39389</td>\n",
       "      <td>doctor_recc_h1n1</td>\n",
       "      <td>h1n1_vaccine</td>\n",
       "    </tr>\n",
       "    <tr>\n",
       "      <th>22</th>\n",
       "      <td>0.262826</td>\n",
       "      <td>doctor_recc_h1n1</td>\n",
       "      <td>opinion_h1n1_risk</td>\n",
       "    </tr>\n",
       "    <tr>\n",
       "      <th>23</th>\n",
       "      <td>0.269347</td>\n",
       "      <td>opinion_h1n1_vacc_effective</td>\n",
       "      <td>h1n1_vaccine</td>\n",
       "    </tr>\n",
       "    <tr>\n",
       "      <th>24</th>\n",
       "      <td>0.261304</td>\n",
       "      <td>opinion_h1n1_vacc_effective</td>\n",
       "      <td>opinion_h1n1_risk</td>\n",
       "    </tr>\n",
       "    <tr>\n",
       "      <th>25</th>\n",
       "      <td>0.323265</td>\n",
       "      <td>opinion_h1n1_risk</td>\n",
       "      <td>h1n1_vaccine</td>\n",
       "    </tr>\n",
       "    <tr>\n",
       "      <th>26</th>\n",
       "      <td>0.377033</td>\n",
       "      <td>opinion_h1n1_risk</td>\n",
       "      <td>h1n1_concern</td>\n",
       "    </tr>\n",
       "    <tr>\n",
       "      <th>27</th>\n",
       "      <td>0.262826</td>\n",
       "      <td>opinion_h1n1_risk</td>\n",
       "      <td>doctor_recc_h1n1</td>\n",
       "    </tr>\n",
       "    <tr>\n",
       "      <th>28</th>\n",
       "      <td>0.261304</td>\n",
       "      <td>opinion_h1n1_risk</td>\n",
       "      <td>opinion_h1n1_vacc_effective</td>\n",
       "    </tr>\n",
       "    <tr>\n",
       "      <th>29</th>\n",
       "      <td>0.335062</td>\n",
       "      <td>opinion_h1n1_risk</td>\n",
       "      <td>opinion_h1n1_sick_from_vacc</td>\n",
       "    </tr>\n",
       "    <tr>\n",
       "      <th>30</th>\n",
       "      <td>0.36007</td>\n",
       "      <td>opinion_h1n1_sick_from_vacc</td>\n",
       "      <td>h1n1_concern</td>\n",
       "    </tr>\n",
       "    <tr>\n",
       "      <th>31</th>\n",
       "      <td>0.335062</td>\n",
       "      <td>opinion_h1n1_sick_from_vacc</td>\n",
       "      <td>opinion_h1n1_risk</td>\n",
       "    </tr>\n",
       "  </tbody>\n",
       "</table>\n",
       "</div>"
      ],
      "text/plain": [
       "           0                            1                            2\n",
       "2   0.323265                 h1n1_vaccine            opinion_h1n1_risk\n",
       "3   0.293565                 h1n1_concern        behavioral_wash_hands\n",
       "4   0.255031                 h1n1_concern  behavioral_large_gatherings\n",
       "5   0.377033                 h1n1_concern            opinion_h1n1_risk\n",
       "6    0.36007                 h1n1_concern  opinion_h1n1_sick_from_vacc\n",
       "7    0.33813         behavioral_avoidance        behavioral_wash_hands\n",
       "8   0.335335         behavioral_avoidance        behavioral_touch_face\n",
       "9   0.293565        behavioral_wash_hands                 h1n1_concern\n",
       "10   0.33813        behavioral_wash_hands         behavioral_avoidance\n",
       "11  0.365064        behavioral_wash_hands        behavioral_touch_face\n",
       "12  0.255031  behavioral_large_gatherings                 h1n1_concern\n",
       "13  0.584085  behavioral_large_gatherings      behavioral_outside_home\n",
       "14  0.253683  behavioral_large_gatherings        behavioral_touch_face\n",
       "15  0.584085      behavioral_outside_home  behavioral_large_gatherings\n",
       "16  0.267719      behavioral_outside_home        behavioral_touch_face\n",
       "17  0.335335        behavioral_touch_face         behavioral_avoidance\n",
       "18  0.365064        behavioral_touch_face        behavioral_wash_hands\n",
       "19  0.253683        behavioral_touch_face  behavioral_large_gatherings\n",
       "20  0.267719        behavioral_touch_face      behavioral_outside_home\n",
       "21   0.39389             doctor_recc_h1n1                 h1n1_vaccine\n",
       "22  0.262826             doctor_recc_h1n1            opinion_h1n1_risk\n",
       "23  0.269347  opinion_h1n1_vacc_effective                 h1n1_vaccine\n",
       "24  0.261304  opinion_h1n1_vacc_effective            opinion_h1n1_risk\n",
       "25  0.323265            opinion_h1n1_risk                 h1n1_vaccine\n",
       "26  0.377033            opinion_h1n1_risk                 h1n1_concern\n",
       "27  0.262826            opinion_h1n1_risk             doctor_recc_h1n1\n",
       "28  0.261304            opinion_h1n1_risk  opinion_h1n1_vacc_effective\n",
       "29  0.335062            opinion_h1n1_risk  opinion_h1n1_sick_from_vacc\n",
       "30   0.36007  opinion_h1n1_sick_from_vacc                 h1n1_concern\n",
       "31  0.335062  opinion_h1n1_sick_from_vacc            opinion_h1n1_risk"
      ]
     },
     "execution_count": 24,
     "metadata": {},
     "output_type": "execute_result"
    }
   ],
   "source": [
    "corrdf.tail(30)"
   ]
  },
  {
   "cell_type": "markdown",
   "id": "d8557766",
   "metadata": {},
   "source": [
    "The potential predictor variables are not highly correlated amonst each other."
   ]
  },
  {
   "cell_type": "markdown",
   "id": "d5fb34b2",
   "metadata": {},
   "source": [
    "# Data preparation"
   ]
  },
  {
   "cell_type": "markdown",
   "id": "e8fd0866",
   "metadata": {},
   "source": [
    "split data into train and test sets, create dummy variable dataframe and check for correlations. Then, separate predictor variables and target variables from unused data, and drop rows with missing values.  "
   ]
  },
  {
   "cell_type": "code",
   "execution_count": 25,
   "id": "fab2704b",
   "metadata": {},
   "outputs": [],
   "source": [
    "from sklearn.model_selection import train_test_split\n",
    "from sklearn.preprocessing import OneHotEncoder"
   ]
  },
  {
   "cell_type": "code",
   "execution_count": 26,
   "id": "ff9f73ab",
   "metadata": {},
   "outputs": [],
   "source": [
    "y = data['h1n1_vaccine']\n",
    "X= data.drop('h1n1_vaccine',axis=1)"
   ]
  },
  {
   "cell_type": "code",
   "execution_count": 27,
   "id": "a5dc831d",
   "metadata": {},
   "outputs": [],
   "source": [
    "X_train, X_test, y_train, y_test = train_test_split(X, y, random_state= 23)"
   ]
  },
  {
   "cell_type": "markdown",
   "id": "16c9c848",
   "metadata": {},
   "source": [
    "Create dummy variables for each categorical variable so correlations/other calculations can be made."
   ]
  },
  {
   "cell_type": "code",
   "execution_count": 28,
   "id": "a7d1ec72",
   "metadata": {},
   "outputs": [
    {
     "data": {
      "text/plain": [
       "Index(['h1n1_concern', 'h1n1_knowledge', 'behavioral_antiviral_meds',\n",
       "       'behavioral_avoidance', 'behavioral_face_mask', 'behavioral_wash_hands',\n",
       "       'behavioral_large_gatherings', 'behavioral_outside_home',\n",
       "       'behavioral_touch_face', 'doctor_recc_h1n1', 'chronic_med_condition',\n",
       "       'child_under_6_months', 'health_worker', 'health_insurance',\n",
       "       'opinion_h1n1_vacc_effective', 'opinion_h1n1_risk',\n",
       "       'opinion_h1n1_sick_from_vacc', 'age_group', 'education', 'race', 'sex',\n",
       "       'income_poverty', 'marital_status', 'rent_or_own', 'employment_status',\n",
       "       'hhs_geo_region', 'census_msa', 'household_adults',\n",
       "       'household_children', 'employment_industry', 'employment_occupation'],\n",
       "      dtype='object')"
      ]
     },
     "execution_count": 28,
     "metadata": {},
     "output_type": "execute_result"
    }
   ],
   "source": [
    "X_train.columns"
   ]
  },
  {
   "cell_type": "code",
   "execution_count": 29,
   "id": "9cf155cc",
   "metadata": {},
   "outputs": [],
   "source": [
    "X_trainC = X_train.loc[:,['age_group', 'education', 'race', 'sex',\n",
    "       'income_poverty', 'marital_status', 'rent_or_own', 'employment_status',\n",
    "       'hhs_geo_region', 'census_msa', 'employment_industry', 'employment_occupation']]\n",
    "X_testC =  X_test.loc[:,['age_group', 'education', 'race', 'sex',\n",
    "       'income_poverty', 'marital_status', 'rent_or_own', 'employment_status',\n",
    "       'hhs_geo_region', 'census_msa', 'employment_industry', 'employment_occupation']]"
   ]
  },
  {
   "cell_type": "code",
   "execution_count": 30,
   "id": "a7a2d914",
   "metadata": {},
   "outputs": [],
   "source": [
    "enc = OneHotEncoder(drop = 'first', sparse= False)\n",
    "enc = enc.fit(X_trainC)\n",
    "X_trainenc = enc.transform(X_trainC)"
   ]
  },
  {
   "cell_type": "code",
   "execution_count": 31,
   "id": "3b0d7865",
   "metadata": {},
   "outputs": [],
   "source": [
    "X_testenc = enc.transform(X_testC)"
   ]
  },
  {
   "cell_type": "code",
   "execution_count": 32,
   "id": "f68f54f8",
   "metadata": {},
   "outputs": [],
   "source": [
    "catflat = [] #get categories of dummy df\n",
    "for cat in enc.categories_:\n",
    "    catflat.extend(cat[1:])#first was dropped\n",
    "\n",
    "\n"
   ]
  },
  {
   "cell_type": "code",
   "execution_count": 33,
   "id": "2d6efa5f",
   "metadata": {},
   "outputs": [],
   "source": [
    "X_trainDF = pd.DataFrame(X_trainenc, columns = catflat)"
   ]
  },
  {
   "cell_type": "code",
   "execution_count": 34,
   "id": "4b2e1378",
   "metadata": {},
   "outputs": [],
   "source": [
    "y_trainDF = pd.DataFrame(y_train)"
   ]
  },
  {
   "cell_type": "code",
   "execution_count": 35,
   "id": "c5d980e9",
   "metadata": {},
   "outputs": [],
   "source": [
    "X_testDF = pd.DataFrame(X_testenc, columns = catflat)"
   ]
  },
  {
   "cell_type": "code",
   "execution_count": 36,
   "id": "5476f4b6",
   "metadata": {},
   "outputs": [],
   "source": [
    "y_testDF = pd.DataFrame(y_test)"
   ]
  },
  {
   "cell_type": "code",
   "execution_count": 75,
   "id": "961f270b",
   "metadata": {},
   "outputs": [],
   "source": [
    "yX_train = pd.concat([y_trainDF, X_trainDF], axis = 1)"
   ]
  },
  {
   "cell_type": "code",
   "execution_count": 76,
   "id": "532b684d",
   "metadata": {},
   "outputs": [],
   "source": [
    "yX_test = pd.concat([y_testDF, X_testDF], axis = 1)"
   ]
  },
  {
   "cell_type": "markdown",
   "id": "7df96c4a",
   "metadata": {},
   "source": [
    "Find all correlations"
   ]
  },
  {
   "cell_type": "code",
   "execution_count": 77,
   "id": "c0106a49",
   "metadata": {},
   "outputs": [
    {
     "data": {
      "text/html": [
       "<div>\n",
       "<style scoped>\n",
       "    .dataframe tbody tr th:only-of-type {\n",
       "        vertical-align: middle;\n",
       "    }\n",
       "\n",
       "    .dataframe tbody tr th {\n",
       "        vertical-align: top;\n",
       "    }\n",
       "\n",
       "    .dataframe thead th {\n",
       "        text-align: right;\n",
       "    }\n",
       "</style>\n",
       "<table border=\"1\" class=\"dataframe\">\n",
       "  <thead>\n",
       "    <tr style=\"text-align: right;\">\n",
       "      <th></th>\n",
       "      <th>h1n1_vaccine</th>\n",
       "      <th>35 - 44 Years</th>\n",
       "      <th>45 - 54 Years</th>\n",
       "      <th>55 - 64 Years</th>\n",
       "      <th>65+ Years</th>\n",
       "      <th>&lt; 12 Years</th>\n",
       "      <th>College Graduate</th>\n",
       "      <th>Some College</th>\n",
       "      <th>NaN</th>\n",
       "      <th>Hispanic</th>\n",
       "      <th>...</th>\n",
       "      <th>rcertsgn</th>\n",
       "      <th>tfqavkke</th>\n",
       "      <th>ukymxvdu</th>\n",
       "      <th>uqqtjvyb</th>\n",
       "      <th>vlluhbov</th>\n",
       "      <th>xgwztkwe</th>\n",
       "      <th>xqwwgdyp</th>\n",
       "      <th>xtkaffoo</th>\n",
       "      <th>xzmlyyjv</th>\n",
       "      <th>NaN</th>\n",
       "    </tr>\n",
       "  </thead>\n",
       "  <tbody>\n",
       "    <tr>\n",
       "      <th>h1n1_vaccine</th>\n",
       "      <td>1.000000</td>\n",
       "      <td>-0.011726</td>\n",
       "      <td>-0.003874</td>\n",
       "      <td>0.005980</td>\n",
       "      <td>0.005961</td>\n",
       "      <td>0.004915</td>\n",
       "      <td>0.000381</td>\n",
       "      <td>0.002537</td>\n",
       "      <td>-0.006993</td>\n",
       "      <td>0.011087</td>\n",
       "      <td>...</td>\n",
       "      <td>0.006757</td>\n",
       "      <td>-0.008536</td>\n",
       "      <td>0.008399</td>\n",
       "      <td>-0.010048</td>\n",
       "      <td>-0.001317</td>\n",
       "      <td>-0.002501</td>\n",
       "      <td>-0.006620</td>\n",
       "      <td>-0.006170</td>\n",
       "      <td>0.009757</td>\n",
       "      <td>0.004205</td>\n",
       "    </tr>\n",
       "    <tr>\n",
       "      <th>35 - 44 Years</th>\n",
       "      <td>-0.011726</td>\n",
       "      <td>1.000000</td>\n",
       "      <td>-0.204192</td>\n",
       "      <td>-0.212437</td>\n",
       "      <td>-0.240296</td>\n",
       "      <td>-0.026066</td>\n",
       "      <td>0.066785</td>\n",
       "      <td>-0.016538</td>\n",
       "      <td>0.048076</td>\n",
       "      <td>0.060436</td>\n",
       "      <td>...</td>\n",
       "      <td>0.012538</td>\n",
       "      <td>0.020558</td>\n",
       "      <td>0.011677</td>\n",
       "      <td>0.021976</td>\n",
       "      <td>0.000712</td>\n",
       "      <td>0.015739</td>\n",
       "      <td>0.036531</td>\n",
       "      <td>0.041697</td>\n",
       "      <td>0.008151</td>\n",
       "      <td>-0.155565</td>\n",
       "    </tr>\n",
       "    <tr>\n",
       "      <th>45 - 54 Years</th>\n",
       "      <td>-0.003874</td>\n",
       "      <td>-0.204192</td>\n",
       "      <td>1.000000</td>\n",
       "      <td>-0.255405</td>\n",
       "      <td>-0.288898</td>\n",
       "      <td>-0.040337</td>\n",
       "      <td>0.025450</td>\n",
       "      <td>0.008573</td>\n",
       "      <td>-0.006020</td>\n",
       "      <td>-0.006512</td>\n",
       "      <td>...</td>\n",
       "      <td>0.033753</td>\n",
       "      <td>-0.010281</td>\n",
       "      <td>0.007729</td>\n",
       "      <td>0.046633</td>\n",
       "      <td>0.026543</td>\n",
       "      <td>0.023574</td>\n",
       "      <td>0.032009</td>\n",
       "      <td>0.063244</td>\n",
       "      <td>0.017845</td>\n",
       "      <td>-0.190208</td>\n",
       "    </tr>\n",
       "    <tr>\n",
       "      <th>55 - 64 Years</th>\n",
       "      <td>0.005980</td>\n",
       "      <td>-0.212437</td>\n",
       "      <td>-0.255405</td>\n",
       "      <td>1.000000</td>\n",
       "      <td>-0.300564</td>\n",
       "      <td>-0.034382</td>\n",
       "      <td>0.056084</td>\n",
       "      <td>-0.005762</td>\n",
       "      <td>-0.043158</td>\n",
       "      <td>-0.060010</td>\n",
       "      <td>...</td>\n",
       "      <td>-0.001766</td>\n",
       "      <td>-0.033128</td>\n",
       "      <td>0.018482</td>\n",
       "      <td>-0.004206</td>\n",
       "      <td>-0.004071</td>\n",
       "      <td>0.003480</td>\n",
       "      <td>-0.000277</td>\n",
       "      <td>0.037697</td>\n",
       "      <td>0.013088</td>\n",
       "      <td>-0.058177</td>\n",
       "    </tr>\n",
       "    <tr>\n",
       "      <th>65+ Years</th>\n",
       "      <td>0.005961</td>\n",
       "      <td>-0.240296</td>\n",
       "      <td>-0.288898</td>\n",
       "      <td>-0.300564</td>\n",
       "      <td>1.000000</td>\n",
       "      <td>0.083416</td>\n",
       "      <td>-0.080285</td>\n",
       "      <td>-0.021648</td>\n",
       "      <td>-0.030656</td>\n",
       "      <td>-0.095928</td>\n",
       "      <td>...</td>\n",
       "      <td>-0.052777</td>\n",
       "      <td>-0.052854</td>\n",
       "      <td>-0.040733</td>\n",
       "      <td>-0.063539</td>\n",
       "      <td>-0.028553</td>\n",
       "      <td>-0.068122</td>\n",
       "      <td>-0.063345</td>\n",
       "      <td>-0.098820</td>\n",
       "      <td>-0.034360</td>\n",
       "      <td>0.414018</td>\n",
       "    </tr>\n",
       "    <tr>\n",
       "      <th>...</th>\n",
       "      <td>...</td>\n",
       "      <td>...</td>\n",
       "      <td>...</td>\n",
       "      <td>...</td>\n",
       "      <td>...</td>\n",
       "      <td>...</td>\n",
       "      <td>...</td>\n",
       "      <td>...</td>\n",
       "      <td>...</td>\n",
       "      <td>...</td>\n",
       "      <td>...</td>\n",
       "      <td>...</td>\n",
       "      <td>...</td>\n",
       "      <td>...</td>\n",
       "      <td>...</td>\n",
       "      <td>...</td>\n",
       "      <td>...</td>\n",
       "      <td>...</td>\n",
       "      <td>...</td>\n",
       "      <td>...</td>\n",
       "      <td>...</td>\n",
       "    </tr>\n",
       "    <tr>\n",
       "      <th>xgwztkwe</th>\n",
       "      <td>-0.002501</td>\n",
       "      <td>0.015739</td>\n",
       "      <td>0.023574</td>\n",
       "      <td>0.003480</td>\n",
       "      <td>-0.068122</td>\n",
       "      <td>-0.020206</td>\n",
       "      <td>-0.005714</td>\n",
       "      <td>0.030548</td>\n",
       "      <td>-0.040891</td>\n",
       "      <td>-0.000760</td>\n",
       "      <td>...</td>\n",
       "      <td>-0.020938</td>\n",
       "      <td>-0.025222</td>\n",
       "      <td>-0.024308</td>\n",
       "      <td>-0.027522</td>\n",
       "      <td>-0.023081</td>\n",
       "      <td>1.000000</td>\n",
       "      <td>-0.028224</td>\n",
       "      <td>-0.055496</td>\n",
       "      <td>-0.019997</td>\n",
       "      <td>-0.204872</td>\n",
       "    </tr>\n",
       "    <tr>\n",
       "      <th>xqwwgdyp</th>\n",
       "      <td>-0.006620</td>\n",
       "      <td>0.036531</td>\n",
       "      <td>0.032009</td>\n",
       "      <td>-0.000277</td>\n",
       "      <td>-0.063345</td>\n",
       "      <td>0.026726</td>\n",
       "      <td>-0.077946</td>\n",
       "      <td>0.010527</td>\n",
       "      <td>-0.032122</td>\n",
       "      <td>0.046152</td>\n",
       "      <td>...</td>\n",
       "      <td>-0.014077</td>\n",
       "      <td>-0.016957</td>\n",
       "      <td>-0.016342</td>\n",
       "      <td>-0.018503</td>\n",
       "      <td>-0.015518</td>\n",
       "      <td>-0.028224</td>\n",
       "      <td>1.000000</td>\n",
       "      <td>-0.037310</td>\n",
       "      <td>-0.013445</td>\n",
       "      <td>-0.137738</td>\n",
       "    </tr>\n",
       "    <tr>\n",
       "      <th>xtkaffoo</th>\n",
       "      <td>-0.006170</td>\n",
       "      <td>0.041697</td>\n",
       "      <td>0.063244</td>\n",
       "      <td>0.037697</td>\n",
       "      <td>-0.098820</td>\n",
       "      <td>-0.051539</td>\n",
       "      <td>0.134182</td>\n",
       "      <td>-0.022572</td>\n",
       "      <td>-0.058687</td>\n",
       "      <td>-0.025532</td>\n",
       "      <td>...</td>\n",
       "      <td>-0.027678</td>\n",
       "      <td>-0.033342</td>\n",
       "      <td>-0.032133</td>\n",
       "      <td>-0.036382</td>\n",
       "      <td>-0.030512</td>\n",
       "      <td>-0.055496</td>\n",
       "      <td>-0.037310</td>\n",
       "      <td>1.000000</td>\n",
       "      <td>-0.026435</td>\n",
       "      <td>-0.270826</td>\n",
       "    </tr>\n",
       "    <tr>\n",
       "      <th>xzmlyyjv</th>\n",
       "      <td>0.009757</td>\n",
       "      <td>0.008151</td>\n",
       "      <td>0.017845</td>\n",
       "      <td>0.013088</td>\n",
       "      <td>-0.034360</td>\n",
       "      <td>-0.026530</td>\n",
       "      <td>0.092979</td>\n",
       "      <td>-0.033835</td>\n",
       "      <td>-0.022759</td>\n",
       "      <td>-0.013644</td>\n",
       "      <td>...</td>\n",
       "      <td>-0.009974</td>\n",
       "      <td>-0.012015</td>\n",
       "      <td>-0.011579</td>\n",
       "      <td>-0.013110</td>\n",
       "      <td>-0.010995</td>\n",
       "      <td>-0.019997</td>\n",
       "      <td>-0.013445</td>\n",
       "      <td>-0.026435</td>\n",
       "      <td>1.000000</td>\n",
       "      <td>-0.097590</td>\n",
       "    </tr>\n",
       "    <tr>\n",
       "      <th>NaN</th>\n",
       "      <td>0.004205</td>\n",
       "      <td>-0.155565</td>\n",
       "      <td>-0.190208</td>\n",
       "      <td>-0.058177</td>\n",
       "      <td>0.414018</td>\n",
       "      <td>0.113038</td>\n",
       "      <td>-0.218595</td>\n",
       "      <td>-0.015572</td>\n",
       "      <td>0.217410</td>\n",
       "      <td>-0.011187</td>\n",
       "      <td>...</td>\n",
       "      <td>-0.102178</td>\n",
       "      <td>-0.123089</td>\n",
       "      <td>-0.118624</td>\n",
       "      <td>-0.134312</td>\n",
       "      <td>-0.112640</td>\n",
       "      <td>-0.204872</td>\n",
       "      <td>-0.137738</td>\n",
       "      <td>-0.270826</td>\n",
       "      <td>-0.097590</td>\n",
       "      <td>1.000000</td>\n",
       "    </tr>\n",
       "  </tbody>\n",
       "</table>\n",
       "<p>78 rows × 78 columns</p>\n",
       "</div>"
      ],
      "text/plain": [
       "               h1n1_vaccine  35 - 44 Years  45 - 54 Years  55 - 64 Years  \\\n",
       "h1n1_vaccine       1.000000      -0.011726      -0.003874       0.005980   \n",
       "35 - 44 Years     -0.011726       1.000000      -0.204192      -0.212437   \n",
       "45 - 54 Years     -0.003874      -0.204192       1.000000      -0.255405   \n",
       "55 - 64 Years      0.005980      -0.212437      -0.255405       1.000000   \n",
       "65+ Years          0.005961      -0.240296      -0.288898      -0.300564   \n",
       "...                     ...            ...            ...            ...   \n",
       "xgwztkwe          -0.002501       0.015739       0.023574       0.003480   \n",
       "xqwwgdyp          -0.006620       0.036531       0.032009      -0.000277   \n",
       "xtkaffoo          -0.006170       0.041697       0.063244       0.037697   \n",
       "xzmlyyjv           0.009757       0.008151       0.017845       0.013088   \n",
       "NaN                0.004205      -0.155565      -0.190208      -0.058177   \n",
       "\n",
       "               65+ Years  < 12 Years  College Graduate  Some College  \\\n",
       "h1n1_vaccine    0.005961    0.004915          0.000381      0.002537   \n",
       "35 - 44 Years  -0.240296   -0.026066          0.066785     -0.016538   \n",
       "45 - 54 Years  -0.288898   -0.040337          0.025450      0.008573   \n",
       "55 - 64 Years  -0.300564   -0.034382          0.056084     -0.005762   \n",
       "65+ Years       1.000000    0.083416         -0.080285     -0.021648   \n",
       "...                  ...         ...               ...           ...   \n",
       "xgwztkwe       -0.068122   -0.020206         -0.005714      0.030548   \n",
       "xqwwgdyp       -0.063345    0.026726         -0.077946      0.010527   \n",
       "xtkaffoo       -0.098820   -0.051539          0.134182     -0.022572   \n",
       "xzmlyyjv       -0.034360   -0.026530          0.092979     -0.033835   \n",
       "NaN             0.414018    0.113038         -0.218595     -0.015572   \n",
       "\n",
       "                    NaN  Hispanic  ...  rcertsgn  tfqavkke  ukymxvdu  \\\n",
       "h1n1_vaccine  -0.006993  0.011087  ...  0.006757 -0.008536  0.008399   \n",
       "35 - 44 Years  0.048076  0.060436  ...  0.012538  0.020558  0.011677   \n",
       "45 - 54 Years -0.006020 -0.006512  ...  0.033753 -0.010281  0.007729   \n",
       "55 - 64 Years -0.043158 -0.060010  ... -0.001766 -0.033128  0.018482   \n",
       "65+ Years     -0.030656 -0.095928  ... -0.052777 -0.052854 -0.040733   \n",
       "...                 ...       ...  ...       ...       ...       ...   \n",
       "xgwztkwe      -0.040891 -0.000760  ... -0.020938 -0.025222 -0.024308   \n",
       "xqwwgdyp      -0.032122  0.046152  ... -0.014077 -0.016957 -0.016342   \n",
       "xtkaffoo      -0.058687 -0.025532  ... -0.027678 -0.033342 -0.032133   \n",
       "xzmlyyjv      -0.022759 -0.013644  ... -0.009974 -0.012015 -0.011579   \n",
       "NaN            0.217410 -0.011187  ... -0.102178 -0.123089 -0.118624   \n",
       "\n",
       "               uqqtjvyb  vlluhbov  xgwztkwe  xqwwgdyp  xtkaffoo  xzmlyyjv  \\\n",
       "h1n1_vaccine  -0.010048 -0.001317 -0.002501 -0.006620 -0.006170  0.009757   \n",
       "35 - 44 Years  0.021976  0.000712  0.015739  0.036531  0.041697  0.008151   \n",
       "45 - 54 Years  0.046633  0.026543  0.023574  0.032009  0.063244  0.017845   \n",
       "55 - 64 Years -0.004206 -0.004071  0.003480 -0.000277  0.037697  0.013088   \n",
       "65+ Years     -0.063539 -0.028553 -0.068122 -0.063345 -0.098820 -0.034360   \n",
       "...                 ...       ...       ...       ...       ...       ...   \n",
       "xgwztkwe      -0.027522 -0.023081  1.000000 -0.028224 -0.055496 -0.019997   \n",
       "xqwwgdyp      -0.018503 -0.015518 -0.028224  1.000000 -0.037310 -0.013445   \n",
       "xtkaffoo      -0.036382 -0.030512 -0.055496 -0.037310  1.000000 -0.026435   \n",
       "xzmlyyjv      -0.013110 -0.010995 -0.019997 -0.013445 -0.026435  1.000000   \n",
       "NaN           -0.134312 -0.112640 -0.204872 -0.137738 -0.270826 -0.097590   \n",
       "\n",
       "                    NaN  \n",
       "h1n1_vaccine   0.004205  \n",
       "35 - 44 Years -0.155565  \n",
       "45 - 54 Years -0.190208  \n",
       "55 - 64 Years -0.058177  \n",
       "65+ Years      0.414018  \n",
       "...                 ...  \n",
       "xgwztkwe      -0.204872  \n",
       "xqwwgdyp      -0.137738  \n",
       "xtkaffoo      -0.270826  \n",
       "xzmlyyjv      -0.097590  \n",
       "NaN            1.000000  \n",
       "\n",
       "[78 rows x 78 columns]"
      ]
     },
     "execution_count": 77,
     "metadata": {},
     "output_type": "execute_result"
    }
   ],
   "source": [
    "yX_train.corr()"
   ]
  },
  {
   "cell_type": "markdown",
   "id": "ab9d5207",
   "metadata": {},
   "source": [
    "Show correlations over .01."
   ]
  },
  {
   "cell_type": "code",
   "execution_count": 78,
   "id": "7fe47461",
   "metadata": {},
   "outputs": [
    {
     "data": {
      "text/html": [
       "<div>\n",
       "<style scoped>\n",
       "    .dataframe tbody tr th:only-of-type {\n",
       "        vertical-align: middle;\n",
       "    }\n",
       "\n",
       "    .dataframe tbody tr th {\n",
       "        vertical-align: top;\n",
       "    }\n",
       "\n",
       "    .dataframe thead th {\n",
       "        text-align: right;\n",
       "    }\n",
       "</style>\n",
       "<table border=\"1\" class=\"dataframe\">\n",
       "  <thead>\n",
       "    <tr style=\"text-align: right;\">\n",
       "      <th></th>\n",
       "      <th>h1n1_vaccine</th>\n",
       "      <th>35 - 44 Years</th>\n",
       "      <th>45 - 54 Years</th>\n",
       "      <th>55 - 64 Years</th>\n",
       "      <th>65+ Years</th>\n",
       "      <th>&lt; 12 Years</th>\n",
       "      <th>College Graduate</th>\n",
       "      <th>Some College</th>\n",
       "      <th>NaN</th>\n",
       "      <th>Hispanic</th>\n",
       "      <th>...</th>\n",
       "      <th>rcertsgn</th>\n",
       "      <th>tfqavkke</th>\n",
       "      <th>ukymxvdu</th>\n",
       "      <th>uqqtjvyb</th>\n",
       "      <th>vlluhbov</th>\n",
       "      <th>xgwztkwe</th>\n",
       "      <th>xqwwgdyp</th>\n",
       "      <th>xtkaffoo</th>\n",
       "      <th>xzmlyyjv</th>\n",
       "      <th>NaN</th>\n",
       "    </tr>\n",
       "  </thead>\n",
       "  <tbody>\n",
       "    <tr>\n",
       "      <th>h1n1_vaccine</th>\n",
       "      <td>1.000000</td>\n",
       "      <td>-0.011726</td>\n",
       "      <td>-0.003874</td>\n",
       "      <td>0.005980</td>\n",
       "      <td>0.005961</td>\n",
       "      <td>0.004915</td>\n",
       "      <td>0.000381</td>\n",
       "      <td>0.002537</td>\n",
       "      <td>-0.006993</td>\n",
       "      <td>0.011087</td>\n",
       "      <td>...</td>\n",
       "      <td>0.006757</td>\n",
       "      <td>-0.008536</td>\n",
       "      <td>0.008399</td>\n",
       "      <td>-0.010048</td>\n",
       "      <td>-0.001317</td>\n",
       "      <td>-0.002501</td>\n",
       "      <td>-0.006620</td>\n",
       "      <td>-0.006170</td>\n",
       "      <td>0.009757</td>\n",
       "      <td>0.004205</td>\n",
       "    </tr>\n",
       "    <tr>\n",
       "      <th>Hispanic</th>\n",
       "      <td>0.011087</td>\n",
       "      <td>0.060436</td>\n",
       "      <td>-0.006512</td>\n",
       "      <td>-0.060010</td>\n",
       "      <td>-0.095928</td>\n",
       "      <td>0.157123</td>\n",
       "      <td>-0.090261</td>\n",
       "      <td>-0.025918</td>\n",
       "      <td>0.017385</td>\n",
       "      <td>1.000000</td>\n",
       "      <td>...</td>\n",
       "      <td>-0.009477</td>\n",
       "      <td>0.064543</td>\n",
       "      <td>-0.002593</td>\n",
       "      <td>0.005095</td>\n",
       "      <td>0.063513</td>\n",
       "      <td>-0.000760</td>\n",
       "      <td>0.046152</td>\n",
       "      <td>-0.025532</td>\n",
       "      <td>-0.013644</td>\n",
       "      <td>-0.011187</td>\n",
       "    </tr>\n",
       "    <tr>\n",
       "      <th>Unemployed</th>\n",
       "      <td>0.011223</td>\n",
       "      <td>0.012387</td>\n",
       "      <td>0.040252</td>\n",
       "      <td>-0.001821</td>\n",
       "      <td>-0.099323</td>\n",
       "      <td>0.058206</td>\n",
       "      <td>-0.059856</td>\n",
       "      <td>0.014120</td>\n",
       "      <td>-0.048764</td>\n",
       "      <td>0.050355</td>\n",
       "      <td>...</td>\n",
       "      <td>-0.024431</td>\n",
       "      <td>-0.029431</td>\n",
       "      <td>-0.028364</td>\n",
       "      <td>-0.032114</td>\n",
       "      <td>-0.026933</td>\n",
       "      <td>-0.048986</td>\n",
       "      <td>-0.032934</td>\n",
       "      <td>-0.064756</td>\n",
       "      <td>-0.023334</td>\n",
       "      <td>0.239104</td>\n",
       "    </tr>\n",
       "    <tr>\n",
       "      <th>bhuqouqj</th>\n",
       "      <td>0.011923</td>\n",
       "      <td>0.001042</td>\n",
       "      <td>0.024888</td>\n",
       "      <td>-0.002058</td>\n",
       "      <td>-0.002041</td>\n",
       "      <td>-0.032017</td>\n",
       "      <td>0.061604</td>\n",
       "      <td>-0.024296</td>\n",
       "      <td>-0.011722</td>\n",
       "      <td>-0.035198</td>\n",
       "      <td>...</td>\n",
       "      <td>-0.005196</td>\n",
       "      <td>-0.004192</td>\n",
       "      <td>0.009786</td>\n",
       "      <td>-0.017315</td>\n",
       "      <td>-0.010130</td>\n",
       "      <td>0.003455</td>\n",
       "      <td>0.003443</td>\n",
       "      <td>0.004968</td>\n",
       "      <td>-0.000541</td>\n",
       "      <td>-0.027039</td>\n",
       "    </tr>\n",
       "    <tr>\n",
       "      <th>fpwskwrf</th>\n",
       "      <td>0.013399</td>\n",
       "      <td>0.009187</td>\n",
       "      <td>0.006242</td>\n",
       "      <td>-0.004269</td>\n",
       "      <td>-0.008786</td>\n",
       "      <td>0.000053</td>\n",
       "      <td>0.065678</td>\n",
       "      <td>-0.051048</td>\n",
       "      <td>0.004036</td>\n",
       "      <td>-0.034285</td>\n",
       "      <td>...</td>\n",
       "      <td>-0.011489</td>\n",
       "      <td>-0.000100</td>\n",
       "      <td>0.011037</td>\n",
       "      <td>-0.004621</td>\n",
       "      <td>-0.006982</td>\n",
       "      <td>-0.020860</td>\n",
       "      <td>-0.013734</td>\n",
       "      <td>0.023546</td>\n",
       "      <td>0.038482</td>\n",
       "      <td>-0.010263</td>\n",
       "    </tr>\n",
       "    <tr>\n",
       "      <th>kbazzjca</th>\n",
       "      <td>0.013300</td>\n",
       "      <td>-0.003259</td>\n",
       "      <td>-0.013153</td>\n",
       "      <td>0.002198</td>\n",
       "      <td>0.017748</td>\n",
       "      <td>0.040632</td>\n",
       "      <td>-0.026218</td>\n",
       "      <td>-0.018036</td>\n",
       "      <td>0.009948</td>\n",
       "      <td>0.094780</td>\n",
       "      <td>...</td>\n",
       "      <td>0.003321</td>\n",
       "      <td>0.000433</td>\n",
       "      <td>-0.000626</td>\n",
       "      <td>0.006628</td>\n",
       "      <td>-0.003779</td>\n",
       "      <td>-0.008658</td>\n",
       "      <td>-0.009019</td>\n",
       "      <td>-0.019950</td>\n",
       "      <td>-0.006750</td>\n",
       "      <td>0.036047</td>\n",
       "    </tr>\n",
       "    <tr>\n",
       "      <th>mlyzmhmf</th>\n",
       "      <td>0.016005</td>\n",
       "      <td>0.002467</td>\n",
       "      <td>-0.000521</td>\n",
       "      <td>-0.005155</td>\n",
       "      <td>0.000008</td>\n",
       "      <td>-0.011026</td>\n",
       "      <td>0.005219</td>\n",
       "      <td>0.026990</td>\n",
       "      <td>-0.003575</td>\n",
       "      <td>0.106653</td>\n",
       "      <td>...</td>\n",
       "      <td>-0.005903</td>\n",
       "      <td>-0.001493</td>\n",
       "      <td>-0.000382</td>\n",
       "      <td>-0.005039</td>\n",
       "      <td>0.003259</td>\n",
       "      <td>-0.003196</td>\n",
       "      <td>-0.024270</td>\n",
       "      <td>-0.006062</td>\n",
       "      <td>0.002229</td>\n",
       "      <td>0.016081</td>\n",
       "    </tr>\n",
       "    <tr>\n",
       "      <th>dotnnunm</th>\n",
       "      <td>0.010367</td>\n",
       "      <td>0.015076</td>\n",
       "      <td>0.017491</td>\n",
       "      <td>0.000349</td>\n",
       "      <td>-0.035997</td>\n",
       "      <td>-0.013322</td>\n",
       "      <td>0.017399</td>\n",
       "      <td>-0.011815</td>\n",
       "      <td>-0.020660</td>\n",
       "      <td>0.005946</td>\n",
       "      <td>...</td>\n",
       "      <td>-0.003438</td>\n",
       "      <td>-0.010906</td>\n",
       "      <td>-0.010511</td>\n",
       "      <td>0.074186</td>\n",
       "      <td>-0.009981</td>\n",
       "      <td>0.160916</td>\n",
       "      <td>-0.003802</td>\n",
       "      <td>0.021016</td>\n",
       "      <td>-0.008647</td>\n",
       "      <td>-0.084045</td>\n",
       "    </tr>\n",
       "    <tr>\n",
       "      <th>haxffmxo</th>\n",
       "      <td>0.011392</td>\n",
       "      <td>0.006738</td>\n",
       "      <td>-0.013929</td>\n",
       "      <td>-0.034413</td>\n",
       "      <td>-0.041157</td>\n",
       "      <td>-0.015389</td>\n",
       "      <td>-0.000793</td>\n",
       "      <td>0.013616</td>\n",
       "      <td>-0.017089</td>\n",
       "      <td>0.002400</td>\n",
       "      <td>...</td>\n",
       "      <td>-0.007489</td>\n",
       "      <td>-0.009021</td>\n",
       "      <td>-0.008694</td>\n",
       "      <td>-0.009844</td>\n",
       "      <td>-0.008256</td>\n",
       "      <td>-0.015016</td>\n",
       "      <td>-0.010095</td>\n",
       "      <td>-0.019849</td>\n",
       "      <td>-0.007153</td>\n",
       "      <td>-0.073278</td>\n",
       "    </tr>\n",
       "    <tr>\n",
       "      <th>dcjcmpih</th>\n",
       "      <td>0.011392</td>\n",
       "      <td>0.006738</td>\n",
       "      <td>-0.013929</td>\n",
       "      <td>-0.034413</td>\n",
       "      <td>-0.041157</td>\n",
       "      <td>-0.015389</td>\n",
       "      <td>-0.000793</td>\n",
       "      <td>0.013616</td>\n",
       "      <td>-0.017089</td>\n",
       "      <td>0.002400</td>\n",
       "      <td>...</td>\n",
       "      <td>-0.007489</td>\n",
       "      <td>-0.009021</td>\n",
       "      <td>-0.008694</td>\n",
       "      <td>-0.009844</td>\n",
       "      <td>-0.008256</td>\n",
       "      <td>-0.015016</td>\n",
       "      <td>-0.010095</td>\n",
       "      <td>-0.019849</td>\n",
       "      <td>-0.007153</td>\n",
       "      <td>-0.073278</td>\n",
       "    </tr>\n",
       "  </tbody>\n",
       "</table>\n",
       "<p>10 rows × 78 columns</p>\n",
       "</div>"
      ],
      "text/plain": [
       "              h1n1_vaccine  35 - 44 Years  45 - 54 Years  55 - 64 Years  \\\n",
       "h1n1_vaccine      1.000000      -0.011726      -0.003874       0.005980   \n",
       "Hispanic          0.011087       0.060436      -0.006512      -0.060010   \n",
       "Unemployed        0.011223       0.012387       0.040252      -0.001821   \n",
       "bhuqouqj          0.011923       0.001042       0.024888      -0.002058   \n",
       "fpwskwrf          0.013399       0.009187       0.006242      -0.004269   \n",
       "kbazzjca          0.013300      -0.003259      -0.013153       0.002198   \n",
       "mlyzmhmf          0.016005       0.002467      -0.000521      -0.005155   \n",
       "dotnnunm          0.010367       0.015076       0.017491       0.000349   \n",
       "haxffmxo          0.011392       0.006738      -0.013929      -0.034413   \n",
       "dcjcmpih          0.011392       0.006738      -0.013929      -0.034413   \n",
       "\n",
       "              65+ Years  < 12 Years  College Graduate  Some College       NaN  \\\n",
       "h1n1_vaccine   0.005961    0.004915          0.000381      0.002537 -0.006993   \n",
       "Hispanic      -0.095928    0.157123         -0.090261     -0.025918  0.017385   \n",
       "Unemployed    -0.099323    0.058206         -0.059856      0.014120 -0.048764   \n",
       "bhuqouqj      -0.002041   -0.032017          0.061604     -0.024296 -0.011722   \n",
       "fpwskwrf      -0.008786    0.000053          0.065678     -0.051048  0.004036   \n",
       "kbazzjca       0.017748    0.040632         -0.026218     -0.018036  0.009948   \n",
       "mlyzmhmf       0.000008   -0.011026          0.005219      0.026990 -0.003575   \n",
       "dotnnunm      -0.035997   -0.013322          0.017399     -0.011815 -0.020660   \n",
       "haxffmxo      -0.041157   -0.015389         -0.000793      0.013616 -0.017089   \n",
       "dcjcmpih      -0.041157   -0.015389         -0.000793      0.013616 -0.017089   \n",
       "\n",
       "              Hispanic  ...  rcertsgn  tfqavkke  ukymxvdu  uqqtjvyb  vlluhbov  \\\n",
       "h1n1_vaccine  0.011087  ...  0.006757 -0.008536  0.008399 -0.010048 -0.001317   \n",
       "Hispanic      1.000000  ... -0.009477  0.064543 -0.002593  0.005095  0.063513   \n",
       "Unemployed    0.050355  ... -0.024431 -0.029431 -0.028364 -0.032114 -0.026933   \n",
       "bhuqouqj     -0.035198  ... -0.005196 -0.004192  0.009786 -0.017315 -0.010130   \n",
       "fpwskwrf     -0.034285  ... -0.011489 -0.000100  0.011037 -0.004621 -0.006982   \n",
       "kbazzjca      0.094780  ...  0.003321  0.000433 -0.000626  0.006628 -0.003779   \n",
       "mlyzmhmf      0.106653  ... -0.005903 -0.001493 -0.000382 -0.005039  0.003259   \n",
       "dotnnunm      0.005946  ... -0.003438 -0.010906 -0.010511  0.074186 -0.009981   \n",
       "haxffmxo      0.002400  ... -0.007489 -0.009021 -0.008694 -0.009844 -0.008256   \n",
       "dcjcmpih      0.002400  ... -0.007489 -0.009021 -0.008694 -0.009844 -0.008256   \n",
       "\n",
       "              xgwztkwe  xqwwgdyp  xtkaffoo  xzmlyyjv       NaN  \n",
       "h1n1_vaccine -0.002501 -0.006620 -0.006170  0.009757  0.004205  \n",
       "Hispanic     -0.000760  0.046152 -0.025532 -0.013644 -0.011187  \n",
       "Unemployed   -0.048986 -0.032934 -0.064756 -0.023334  0.239104  \n",
       "bhuqouqj      0.003455  0.003443  0.004968 -0.000541 -0.027039  \n",
       "fpwskwrf     -0.020860 -0.013734  0.023546  0.038482 -0.010263  \n",
       "kbazzjca     -0.008658 -0.009019 -0.019950 -0.006750  0.036047  \n",
       "mlyzmhmf     -0.003196 -0.024270 -0.006062  0.002229  0.016081  \n",
       "dotnnunm      0.160916 -0.003802  0.021016 -0.008647 -0.084045  \n",
       "haxffmxo     -0.015016 -0.010095 -0.019849 -0.007153 -0.073278  \n",
       "dcjcmpih     -0.015016 -0.010095 -0.019849 -0.007153 -0.073278  \n",
       "\n",
       "[10 rows x 78 columns]"
      ]
     },
     "execution_count": 78,
     "metadata": {},
     "output_type": "execute_result"
    }
   ],
   "source": [
    "df1 = yX_train.corr()\n",
    "df1.drop(df1.loc[df1['h1n1_vaccine']< .01].index) "
   ]
  },
  {
   "cell_type": "code",
   "execution_count": 41,
   "id": "0ddc5aeb",
   "metadata": {},
   "outputs": [
    {
     "data": {
      "text/plain": [
       "<AxesSubplot:>"
      ]
     },
     "execution_count": 41,
     "metadata": {},
     "output_type": "execute_result"
    },
    {
     "data": {
      "image/png": "[encoded data removed]",
      "text/plain": [
       "<Figure size 640x480 with 2 Axes>"
      ]
     },
     "metadata": {},
     "output_type": "display_data"
    }
   ],
   "source": [
    "sns.heatmap(yX_train.corr())"
   ]
  },
  {
   "cell_type": "markdown",
   "id": "d9a6be88",
   "metadata": {},
   "source": [
    "There are not high correlations between dummy variables and the target variable, h1n1 vaacine."
   ]
  },
  {
   "cell_type": "markdown",
   "id": "eb6b03ad",
   "metadata": {},
   "source": [
    "Then, separate predictor variables and target variables from unused data, and drop rows with missing values."
   ]
  },
  {
   "cell_type": "code",
   "execution_count": 42,
   "id": "a0b80a46",
   "metadata": {},
   "outputs": [],
   "source": [
    "yXd_train = pd.concat([y_train, X_train], axis = 1) #concatenate \n",
    "yXd_train = yXd_train.loc[:,['h1n1_vaccine', 'doctor_recc_h1n1', 'opinion_h1n1_risk', 'opinion_h1n1_vacc_effective']]\n",
    "yXd_train = yXd_train.dropna(axis=0)\n",
    "y_train = yXd_train['h1n1_vaccine']\n",
    "X_train= yXd_train.loc[:,['doctor_recc_h1n1', 'opinion_h1n1_risk', 'opinion_h1n1_vacc_effective']]"
   ]
  },
  {
   "cell_type": "code",
   "execution_count": 43,
   "id": "bddc8fff",
   "metadata": {},
   "outputs": [],
   "source": [
    "yXd_test = pd.concat([y_test, X_test], axis = 1) #concatenate \n",
    "yXd_test = yXd_test.loc[:,['h1n1_vaccine', 'doctor_recc_h1n1', 'opinion_h1n1_risk', 'opinion_h1n1_vacc_effective']]\n",
    "yXd_test = yXd_test.dropna(axis=0)\n",
    "y_test = yXd_test['h1n1_vaccine']\n",
    "X_test= yXd_test.loc[:,['doctor_recc_h1n1', 'opinion_h1n1_risk', 'opinion_h1n1_vacc_effective']]\n"
   ]
  },
  {
   "cell_type": "code",
   "execution_count": 44,
   "id": "98740a60",
   "metadata": {},
   "outputs": [
    {
     "name": "stdout",
     "output_type": "stream",
     "text": [
      "<class 'pandas.core.frame.DataFrame'>\n",
      "Int64Index: 6057 entries, 19436 to 18978\n",
      "Data columns (total 3 columns):\n",
      " #   Column                       Non-Null Count  Dtype  \n",
      "---  ------                       --------------  -----  \n",
      " 0   doctor_recc_h1n1             6057 non-null   float64\n",
      " 1   opinion_h1n1_risk            6057 non-null   float64\n",
      " 2   opinion_h1n1_vacc_effective  6057 non-null   float64\n",
      "dtypes: float64(3)\n",
      "memory usage: 189.3 KB\n"
     ]
    }
   ],
   "source": [
    "X_test.info()"
   ]
  },
  {
   "cell_type": "markdown",
   "id": "0fc74780",
   "metadata": {},
   "source": [
    "# Data Modeling"
   ]
  },
  {
   "cell_type": "markdown",
   "id": "1fd99041",
   "metadata": {},
   "source": [
    "In the data modeling section, I start from a baseline logistic regression using three features and the response variable (whether the person has received the H1N1 vaccine).  From there, I explore non-parametric models, starting with a fairly simple decision tree model.  Based on the the results from this model, a more complex tree model is fitted and evaluated to achieve better results."
   ]
  },
  {
   "cell_type": "code",
   "execution_count": 45,
   "id": "e80eb7f0",
   "metadata": {},
   "outputs": [],
   "source": [
    "from sklearn.linear_model import LogisticRegression"
   ]
  },
  {
   "cell_type": "code",
   "execution_count": 46,
   "id": "fb29857c",
   "metadata": {},
   "outputs": [],
   "source": [
    "reg = LogisticRegression(C=1e5, random_state= 23, solver = \"liblinear\") "
   ]
  },
  {
   "cell_type": "code",
   "execution_count": 47,
   "id": "fb4635cc",
   "metadata": {},
   "outputs": [
    {
     "data": {
      "text/plain": [
       "LogisticRegression(C=100000.0, random_state=23, solver='liblinear')"
      ]
     },
     "execution_count": 47,
     "metadata": {},
     "output_type": "execute_result"
    }
   ],
   "source": [
    "reg.fit(X_train, y_train)"
   ]
  },
  {
   "cell_type": "markdown",
   "id": "19841e04",
   "metadata": {},
   "source": [
    "Check accuracies below:"
   ]
  },
  {
   "cell_type": "code",
   "execution_count": 48,
   "id": "7c3eebfc",
   "metadata": {},
   "outputs": [
    {
     "data": {
      "text/plain": [
       "0.8168673374017263"
      ]
     },
     "execution_count": 48,
     "metadata": {},
     "output_type": "execute_result"
    }
   ],
   "source": [
    "reg.score(X_train, y_train)"
   ]
  },
  {
   "cell_type": "code",
   "execution_count": 49,
   "id": "98eca171",
   "metadata": {},
   "outputs": [
    {
     "data": {
      "text/plain": [
       "0.8220241043420835"
      ]
     },
     "execution_count": 49,
     "metadata": {},
     "output_type": "execute_result"
    }
   ],
   "source": [
    "reg.score(X_test, y_test)"
   ]
  },
  {
   "cell_type": "code",
   "execution_count": 50,
   "id": "cffc7bed",
   "metadata": {},
   "outputs": [
    {
     "data": {
      "text/plain": [
       "array([ 1.56317459, -2.03400038, -0.13076959, ..., -1.18702829,\n",
       "       -2.03400038, -3.14745547])"
      ]
     },
     "execution_count": 50,
     "metadata": {},
     "output_type": "execute_result"
    }
   ],
   "source": [
    "reg.decision_function(X_test)"
   ]
  },
  {
   "cell_type": "code",
   "execution_count": 51,
   "id": "71dabc08",
   "metadata": {},
   "outputs": [
    {
     "data": {
      "text/plain": [
       "array([[1.63674779, 0.42348605, 0.68996904]])"
      ]
     },
     "execution_count": 51,
     "metadata": {},
     "output_type": "execute_result"
    }
   ],
   "source": [
    "reg.coef_"
   ]
  },
  {
   "cell_type": "markdown",
   "id": "6c58da4f",
   "metadata": {},
   "source": [
    "Doctor recommendation appears to be the most important feature"
   ]
  },
  {
   "cell_type": "code",
   "execution_count": 52,
   "id": "4c826d10",
   "metadata": {},
   "outputs": [],
   "source": [
    "from sklearn.metrics import confusion_matrix"
   ]
  },
  {
   "cell_type": "code",
   "execution_count": 53,
   "id": "41ac4d87",
   "metadata": {},
   "outputs": [],
   "source": [
    "y_test_preds = reg.predict(X_test)\n",
    "cm = confusion_matrix(y_test, y_test_preds)\n"
   ]
  },
  {
   "cell_type": "code",
   "execution_count": 54,
   "id": "f5a4e2fa",
   "metadata": {},
   "outputs": [
    {
     "data": {
      "text/plain": [
       "array([[4470,  253],\n",
       "       [ 825,  509]], dtype=int64)"
      ]
     },
     "execution_count": 54,
     "metadata": {},
     "output_type": "execute_result"
    }
   ],
   "source": [
    "cm"
   ]
  },
  {
   "cell_type": "markdown",
   "id": "31a48c94",
   "metadata": {},
   "source": [
    "The number of false positives, 253, seems material but low, given the roughly 27,000 predicitions."
   ]
  },
  {
   "cell_type": "code",
   "execution_count": 55,
   "id": "bc25aac8",
   "metadata": {},
   "outputs": [
    {
     "data": {
      "text/plain": [
       "(6317459, -2.03400038, -0.13076959, Ellipsis, -1.18702829)"
      ]
     },
     "execution_count": 55,
     "metadata": {},
     "output_type": "execute_result"
    }
   ],
   "source": [
    "6317459, -2.03400038, -0.13076959, ..., -1.18702829"
   ]
  },
  {
   "cell_type": "markdown",
   "id": "777e33dd",
   "metadata": {},
   "source": [
    "## Non-parametric model : Decision Tree"
   ]
  },
  {
   "cell_type": "code",
   "execution_count": 56,
   "id": "7fcf58cf",
   "metadata": {},
   "outputs": [],
   "source": [
    "from sklearn.tree import DecisionTreeClassifier"
   ]
  },
  {
   "cell_type": "code",
   "execution_count": 57,
   "id": "debecb44",
   "metadata": {},
   "outputs": [],
   "source": [
    "tree = DecisionTreeClassifier(criterion = 'entropy', max_depth = 5, random_state= 23)"
   ]
  },
  {
   "cell_type": "code",
   "execution_count": 58,
   "id": "96e56740",
   "metadata": {},
   "outputs": [],
   "source": [
    "tree = tree.fit(X_train, y_train)"
   ]
  },
  {
   "cell_type": "code",
   "execution_count": 59,
   "id": "f631899e",
   "metadata": {},
   "outputs": [
    {
     "data": {
      "text/plain": [
       "0.8173621419539282"
      ]
     },
     "execution_count": 59,
     "metadata": {},
     "output_type": "execute_result"
    }
   ],
   "source": [
    "tree.score(X_train, y_train)"
   ]
  },
  {
   "cell_type": "code",
   "execution_count": 60,
   "id": "6ccf1f02",
   "metadata": {},
   "outputs": [
    {
     "data": {
      "text/plain": [
       "0.8235099884431236"
      ]
     },
     "execution_count": 60,
     "metadata": {},
     "output_type": "execute_result"
    }
   ],
   "source": [
    "tree.score(X_test, y_test)"
   ]
  },
  {
   "cell_type": "markdown",
   "id": "1b665283",
   "metadata": {},
   "source": [
    "Accuracy scores are very similar for test and train set (also to logistic regression).  Since there does not appear to be any overfitting, it may make sense to build a more complex tree to try to pick up on more patterns in the training set."
   ]
  },
  {
   "cell_type": "code",
   "execution_count": 61,
   "id": "34fcfc87",
   "metadata": {},
   "outputs": [
    {
     "data": {
      "text/plain": [
       "array([[4452,  271],\n",
       "       [ 798,  536]], dtype=int64)"
      ]
     },
     "execution_count": 61,
     "metadata": {},
     "output_type": "execute_result"
    }
   ],
   "source": [
    "y_tepreds_t = tree.predict(X_test)\n",
    "cm_t =  confusion_matrix(y_test, y_tepreds_t)\n",
    "cm_t"
   ]
  },
  {
   "cell_type": "markdown",
   "id": "93ae0728",
   "metadata": {},
   "source": [
    "## Final model (tree and tuned)"
   ]
  },
  {
   "cell_type": "markdown",
   "id": "39fa6841",
   "metadata": {},
   "source": [
    "Since there does not appear to be any overfitting, and possible underfitting, a more complex tree is used to produce better results."
   ]
  },
  {
   "cell_type": "code",
   "execution_count": 62,
   "id": "c42835a5",
   "metadata": {},
   "outputs": [],
   "source": [
    "tree_big = DecisionTreeClassifier(criterion = 'entropy', max_depth = 10, random_state= 23) # The maximum depth of the tree is increased from 5 to 10 to allow for more nodes, splits, and leaves to allow for greater capture of patterns."
   ]
  },
  {
   "cell_type": "code",
   "execution_count": 63,
   "id": "a44fe265",
   "metadata": {},
   "outputs": [],
   "source": [
    "tree_big =  tree_big.fit(X_train, y_train) "
   ]
  },
  {
   "cell_type": "code",
   "execution_count": 64,
   "id": "62709aa6",
   "metadata": {},
   "outputs": [
    {
     "data": {
      "text/plain": [
       "0.8175270768046622"
      ]
     },
     "execution_count": 64,
     "metadata": {},
     "output_type": "execute_result"
    }
   ],
   "source": [
    "tree_big.score(X_train, y_train)"
   ]
  },
  {
   "cell_type": "code",
   "execution_count": 65,
   "id": "e46ae486",
   "metadata": {},
   "outputs": [
    {
     "data": {
      "text/plain": [
       "0.8236750866765725"
      ]
     },
     "execution_count": 65,
     "metadata": {},
     "output_type": "execute_result"
    }
   ],
   "source": [
    "tree_big.score(X_test, y_test)"
   ]
  },
  {
   "cell_type": "markdown",
   "id": "aa590b30",
   "metadata": {},
   "source": [
    "![Accuracies](./Images/Accuracies.png)\n"
   ]
  },
  {
   "cell_type": "markdown",
   "id": "8bedb531",
   "metadata": {},
   "source": [
    "The accuracy scores in this more complex tree are highly similar to the initial tree, however the training and test scores have slightly improved.  This suggests that we now have a marginally improved model. "
   ]
  },
  {
   "cell_type": "code",
   "execution_count": 66,
   "id": "afeeae0e",
   "metadata": {},
   "outputs": [
    {
     "data": {
      "text/plain": [
       "array([0.54166433, 0.24746983, 0.21086584])"
      ]
     },
     "execution_count": 66,
     "metadata": {},
     "output_type": "execute_result"
    }
   ],
   "source": [
    "tree_big.feature_importances_"
   ]
  },
  {
   "cell_type": "code",
   "execution_count": 67,
   "id": "b766be1a",
   "metadata": {},
   "outputs": [
    {
     "data": {
      "text/plain": [
       "<BarContainer object of 3 artists>"
      ]
     },
     "execution_count": 67,
     "metadata": {},
     "output_type": "execute_result"
    },
    {
     "data": {
      "image/png": "[encoded data removed]",
      "text/plain": [
       "<Figure size 640x480 with 1 Axes>"
      ]
     },
     "metadata": {},
     "output_type": "display_data"
    }
   ],
   "source": [
    "plt.bar(x = X_train.columns, height = tree_big.feature_importances_)"
   ]
  },
  {
   "cell_type": "markdown",
   "id": "57b94b5d",
   "metadata": {},
   "source": [
    "Doctor recommendation appears to be the most important feature"
   ]
  },
  {
   "cell_type": "code",
   "execution_count": 68,
   "id": "a9df288f",
   "metadata": {},
   "outputs": [
    {
     "data": {
      "text/plain": [
       "<matplotlib.collections.PathCollection at 0x2566a70a910>"
      ]
     },
     "execution_count": 68,
     "metadata": {},
     "output_type": "execute_result"
    },
    {
     "data": {
      "image/png": "[encoded data removed]",
      "text/plain": [
       "<Figure size 640x480 with 1 Axes>"
      ]
     },
     "metadata": {},
     "output_type": "display_data"
    }
   ],
   "source": [
    "plt.scatter(x=X_train.opinion_h1n1_vacc_effective, y =y_train, alpha = .01)"
   ]
  },
  {
   "cell_type": "code",
   "execution_count": 69,
   "id": "94fd4690",
   "metadata": {},
   "outputs": [
    {
     "data": {
      "text/plain": [
       "<matplotlib.collections.PathCollection at 0x2566b179d60>"
      ]
     },
     "execution_count": 69,
     "metadata": {},
     "output_type": "execute_result"
    },
    {
     "data": {
      "image/png": "[encoded data removed]",
      "text/plain": [
       "<Figure size 640x480 with 1 Axes>"
      ]
     },
     "metadata": {},
     "output_type": "display_data"
    }
   ],
   "source": [
    "plt.scatter(x=X_train.opinion_h1n1_risk, y =y_train, alpha = .01)"
   ]
  },
  {
   "cell_type": "markdown",
   "id": "33fced8d",
   "metadata": {},
   "source": [
    "The relationship between x and y variables is, visually, most clear for vaccine effectiveness."
   ]
  },
  {
   "cell_type": "code",
   "execution_count": 70,
   "id": "ad190d2e",
   "metadata": {},
   "outputs": [],
   "source": [
    "from sklearn.metrics import ConfusionMatrixDisplay"
   ]
  },
  {
   "cell_type": "code",
   "execution_count": 71,
   "id": "26cc85dd",
   "metadata": {},
   "outputs": [],
   "source": [
    "y_tepreds_t_big = tree_big.predict(X_test)"
   ]
  },
  {
   "cell_type": "code",
   "execution_count": 72,
   "id": "21008894",
   "metadata": {},
   "outputs": [
    {
     "data": {
      "text/plain": [
       "array([[4452,  271],\n",
       "       [ 797,  537]], dtype=int64)"
      ]
     },
     "execution_count": 72,
     "metadata": {},
     "output_type": "execute_result"
    }
   ],
   "source": [
    "cm_t_big =  confusion_matrix(y_test, y_tepreds_t_big)\n",
    "cm_t_big"
   ]
  },
  {
   "cell_type": "code",
   "execution_count": 73,
   "id": "32158d5e",
   "metadata": {},
   "outputs": [
    {
     "data": {
      "text/plain": [
       "<sklearn.metrics._plot.confusion_matrix.ConfusionMatrixDisplay at 0x2566b25ac70>"
      ]
     },
     "execution_count": 73,
     "metadata": {},
     "output_type": "execute_result"
    },
    {
     "data": {
      "image/png": "[encoded data removed]",
      "text/plain": [
       "<Figure size 640x480 with 2 Axes>"
      ]
     },
     "metadata": {},
     "output_type": "display_data"
    }
   ],
   "source": [
    "\n",
    "\n",
    "cmd= ConfusionMatrixDisplay(cm_t_big)\n",
    "cmd=cmd.from_predictions(y_test,y_tepreds_t_big)\n",
    "cmd"
   ]
  },
  {
   "cell_type": "markdown",
   "id": "3aceca31",
   "metadata": {},
   "source": [
    "The confusion matrix is similar for both iterations of the tree model (271 false positives vs. 271 in final), as expected given there was only a slight improvement in accuracy.  Compared to the baseline model, even though there are greater false positives, our greatest concern, our total correct predictions have increased.  Thus even though the tree models would incorrectly classify more unvaccinated persons and therefore result in less resources for that population, given the higher accuracy on the test set of the big_tree model and the higher number of correct predictions (and lower false negatives) in our confusion matrix, resources would be better conserved and allocated by relying on the big_tree model."
   ]
  },
  {
   "cell_type": "markdown",
   "id": "05cbd5d4",
   "metadata": {},
   "source": [
    "# Results, Recommendations, Limitations. "
   ]
  },
  {
   "cell_type": "markdown",
   "id": "be0e9a13",
   "metadata": {},
   "source": [
    "The results show that the big_tree model is the preferred model given its higher accuracy on the training and test sets compared to both the first tree iteration and the baseline logistic regression model.  Given that this model performs better than the other models and better than the simple strategy of guessing the majority class for each prediction, it is recommended that this model be used to predict whether or not individuals have been given the a vaccine for any virus similar to H1N1, so that resources can be allocated efficiently based on one's vaccine status.  More generally, the models show us that the three factors, presence of a doctor reccomendation, opinion of virus risk, and opinion of vaccine effectiveness, are significantly related to whether one has received the vaccine. This suggest that it would be beneficial to both increase outreach to those with low presence of these factors and to provide outreach that could provide more medical personnel and educational resources so that such persons may become more likely to receive a vaccine. \n",
    "\n",
    "The core limitation is that there is much room for improvement in the accuracy level of the final model. While the accuracy of the final model is 82%, a strategy of simply guessing that all persons have not received the vaccine would result in a similar 79% accuracy.  Also note that iteratively, only slight improvement on models was made, given similar accuracies and only 1 more correct prediction in final model as compared to baseline."
   ]
  },
  {
   "cell_type": "markdown",
   "id": "ddf1303b",
   "metadata": {},
   "source": [
    "# Future work"
   ]
  },
  {
   "cell_type": "markdown",
   "id": "3896dfbf",
   "metadata": {},
   "source": [
    "I plan to increase the robustness of the project by using the grid search-cross validate method to tune my final model with greater hyperparameter variety.  Additionally, other metrics besides accuracy will be used such as precision, F-1 score, and an error-based metric, in order to more fully understand model performance given the class imbalance. More visualizations and histograms will be included."
   ]
  }
 ],
 "metadata": {
  "kernelspec": {
   "display_name": "Python (learn-env)",
   "language": "python",
   "name": "learn-env"
  },
  "language_info": {
   "codemirror_mode": {
    "name": "ipython",
    "version": 3
   },
   "file_extension": ".py",
   "mimetype": "text/x-python",
   "name": "python",
   "nbconvert_exporter": "python",
   "pygments_lexer": "ipython3",
   "version": "3.9.13"
  }
 },
 "nbformat": 4,
 "nbformat_minor": 5
}
