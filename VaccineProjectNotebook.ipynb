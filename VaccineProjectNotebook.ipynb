{
 "cells": [
  {
   "cell_type": "markdown",
   "id": "73f1efc5",
   "metadata": {},
   "source": [
    "# Vaccine Project"
   ]
  },
  {
   "cell_type": "markdown",
   "id": "80a83e86",
   "metadata": {},
   "source": [
    "## Business Understanding"
   ]
  },
  {
   "cell_type": "markdown",
   "id": "387b02e3",
   "metadata": {},
   "source": [
    "The client is a leader in the field of health care.  The client has resources at their disposal that can be used to encourage non-vaccinated persons to become vaccinated. It would be beneficial to the client to know what groups of persons are less likely to be vaccinated in order to make the best use of the client's resources.  Therefore, it would be helpful for the client to have a model that could predict which persons are less likely to be vaccinated based on various known factors, related to the person's background, views and behaviors, and also it would be helpful to know more generally which of these factors leads a group to be less or more likely to be vaccinated.  This model and knowledge would facilitate efforts to reach persons individually and as groups in order to efficiently encourage vaccination. "
   ]
  },
  {
   "cell_type": "markdown",
   "id": "4b50452f",
   "metadata": {},
   "source": [
    "## Data Understanding"
   ]
  },
  {
   "cell_type": "markdown",
   "id": "74be2fdd",
   "metadata": {},
   "source": [
    "The data comes from the National 2009 H1N1 Flu Survey conducted by the United States after the outbreak of the virus in 2009.  The survey covers various topics included one's background, views and behaviors.  The survey also covers whether one has been vaccinated against the H1N1 virus, which will be the target variable for this project. \n",
    "More specifically, the potential predictor variables include socio-economic related factors, views about vaccines, and health-related behaviors and statuses (e.g., health insurance and doctor recommendation.) Given that H1N1 can be categorized as a risky virus, the data, though H1N1 specific, can be thought of as analagous to any risky virus such that insights from the data will be applicable to future viral outbreaks. \n",
    "\n",
    "About half the features are categorical in nature as opposed to numerical. (Of the float and integer type features, about half are binary/categorical.)  The columns with most missing data have about 10,000 of 27,000 missing.  About 21% of respondents received the H1N1 vaccine. \n",
    "\n",
    "\n",
    "Features with signficant correlation to the target variable are doctor reccomendation, opinion of virus risk, and opinion of vaccine effective."
   ]
  },
  {
   "cell_type": "markdown",
   "id": "b8b23c88",
   "metadata": {},
   "source": [
    "See the [data](./data).\n",
    "\n"
   ]
  },
  {
   "cell_type": "code",
   "execution_count": 1,
   "id": "180593ae",
   "metadata": {},
   "outputs": [],
   "source": [
    "import pandas as pd\n",
    "import numpy as np\n",
    "import seaborn as sns\n",
    "import sklearn\n",
    "import matplotlib.pyplot as plt\n",
    "%matplotlib inline\n"
   ]
  },
  {
   "cell_type": "code",
   "execution_count": 2,
   "id": "b931ff9b",
   "metadata": {},
   "outputs": [
    {
     "data": {
      "text/html": [
       "<div>\n",
       "<style scoped>\n",
       "    .dataframe tbody tr th:only-of-type {\n",
       "        vertical-align: middle;\n",
       "    }\n",
       "\n",
       "    .dataframe tbody tr th {\n",
       "        vertical-align: top;\n",
       "    }\n",
       "\n",
       "    .dataframe thead th {\n",
       "        text-align: right;\n",
       "    }\n",
       "</style>\n",
       "<table border=\"1\" class=\"dataframe\">\n",
       "  <thead>\n",
       "    <tr style=\"text-align: right;\">\n",
       "      <th></th>\n",
       "      <th>respondent_id</th>\n",
       "      <th>h1n1_concern</th>\n",
       "      <th>h1n1_knowledge</th>\n",
       "      <th>behavioral_antiviral_meds</th>\n",
       "      <th>behavioral_avoidance</th>\n",
       "      <th>behavioral_face_mask</th>\n",
       "      <th>behavioral_wash_hands</th>\n",
       "      <th>behavioral_large_gatherings</th>\n",
       "      <th>behavioral_outside_home</th>\n",
       "      <th>behavioral_touch_face</th>\n",
       "      <th>...</th>\n",
       "      <th>income_poverty</th>\n",
       "      <th>marital_status</th>\n",
       "      <th>rent_or_own</th>\n",
       "      <th>employment_status</th>\n",
       "      <th>hhs_geo_region</th>\n",
       "      <th>census_msa</th>\n",
       "      <th>household_adults</th>\n",
       "      <th>household_children</th>\n",
       "      <th>employment_industry</th>\n",
       "      <th>employment_occupation</th>\n",
       "    </tr>\n",
       "  </thead>\n",
       "  <tbody>\n",
       "    <tr>\n",
       "      <th>0</th>\n",
       "      <td>0</td>\n",
       "      <td>1.0</td>\n",
       "      <td>0.0</td>\n",
       "      <td>0.0</td>\n",
       "      <td>0.0</td>\n",
       "      <td>0.0</td>\n",
       "      <td>0.0</td>\n",
       "      <td>0.0</td>\n",
       "      <td>1.0</td>\n",
       "      <td>1.0</td>\n",
       "      <td>...</td>\n",
       "      <td>Below Poverty</td>\n",
       "      <td>Not Married</td>\n",
       "      <td>Own</td>\n",
       "      <td>Not in Labor Force</td>\n",
       "      <td>oxchjgsf</td>\n",
       "      <td>Non-MSA</td>\n",
       "      <td>0.0</td>\n",
       "      <td>0.0</td>\n",
       "      <td>NaN</td>\n",
       "      <td>NaN</td>\n",
       "    </tr>\n",
       "    <tr>\n",
       "      <th>1</th>\n",
       "      <td>1</td>\n",
       "      <td>3.0</td>\n",
       "      <td>2.0</td>\n",
       "      <td>0.0</td>\n",
       "      <td>1.0</td>\n",
       "      <td>0.0</td>\n",
       "      <td>1.0</td>\n",
       "      <td>0.0</td>\n",
       "      <td>1.0</td>\n",
       "      <td>1.0</td>\n",
       "      <td>...</td>\n",
       "      <td>Below Poverty</td>\n",
       "      <td>Not Married</td>\n",
       "      <td>Rent</td>\n",
       "      <td>Employed</td>\n",
       "      <td>bhuqouqj</td>\n",
       "      <td>MSA, Not Principle  City</td>\n",
       "      <td>0.0</td>\n",
       "      <td>0.0</td>\n",
       "      <td>pxcmvdjn</td>\n",
       "      <td>xgwztkwe</td>\n",
       "    </tr>\n",
       "    <tr>\n",
       "      <th>2</th>\n",
       "      <td>2</td>\n",
       "      <td>1.0</td>\n",
       "      <td>1.0</td>\n",
       "      <td>0.0</td>\n",
       "      <td>1.0</td>\n",
       "      <td>0.0</td>\n",
       "      <td>0.0</td>\n",
       "      <td>0.0</td>\n",
       "      <td>0.0</td>\n",
       "      <td>0.0</td>\n",
       "      <td>...</td>\n",
       "      <td>&lt;= $75,000, Above Poverty</td>\n",
       "      <td>Not Married</td>\n",
       "      <td>Own</td>\n",
       "      <td>Employed</td>\n",
       "      <td>qufhixun</td>\n",
       "      <td>MSA, Not Principle  City</td>\n",
       "      <td>2.0</td>\n",
       "      <td>0.0</td>\n",
       "      <td>rucpziij</td>\n",
       "      <td>xtkaffoo</td>\n",
       "    </tr>\n",
       "    <tr>\n",
       "      <th>3</th>\n",
       "      <td>3</td>\n",
       "      <td>1.0</td>\n",
       "      <td>1.0</td>\n",
       "      <td>0.0</td>\n",
       "      <td>1.0</td>\n",
       "      <td>0.0</td>\n",
       "      <td>1.0</td>\n",
       "      <td>1.0</td>\n",
       "      <td>0.0</td>\n",
       "      <td>0.0</td>\n",
       "      <td>...</td>\n",
       "      <td>Below Poverty</td>\n",
       "      <td>Not Married</td>\n",
       "      <td>Rent</td>\n",
       "      <td>Not in Labor Force</td>\n",
       "      <td>lrircsnp</td>\n",
       "      <td>MSA, Principle City</td>\n",
       "      <td>0.0</td>\n",
       "      <td>0.0</td>\n",
       "      <td>NaN</td>\n",
       "      <td>NaN</td>\n",
       "    </tr>\n",
       "    <tr>\n",
       "      <th>4</th>\n",
       "      <td>4</td>\n",
       "      <td>2.0</td>\n",
       "      <td>1.0</td>\n",
       "      <td>0.0</td>\n",
       "      <td>1.0</td>\n",
       "      <td>0.0</td>\n",
       "      <td>1.0</td>\n",
       "      <td>1.0</td>\n",
       "      <td>0.0</td>\n",
       "      <td>1.0</td>\n",
       "      <td>...</td>\n",
       "      <td>&lt;= $75,000, Above Poverty</td>\n",
       "      <td>Married</td>\n",
       "      <td>Own</td>\n",
       "      <td>Employed</td>\n",
       "      <td>qufhixun</td>\n",
       "      <td>MSA, Not Principle  City</td>\n",
       "      <td>1.0</td>\n",
       "      <td>0.0</td>\n",
       "      <td>wxleyezf</td>\n",
       "      <td>emcorrxb</td>\n",
       "    </tr>\n",
       "  </tbody>\n",
       "</table>\n",
       "<p>5 rows × 36 columns</p>\n",
       "</div>"
      ],
      "text/plain": [
       "   respondent_id  h1n1_concern  h1n1_knowledge  behavioral_antiviral_meds  \\\n",
       "0              0           1.0             0.0                        0.0   \n",
       "1              1           3.0             2.0                        0.0   \n",
       "2              2           1.0             1.0                        0.0   \n",
       "3              3           1.0             1.0                        0.0   \n",
       "4              4           2.0             1.0                        0.0   \n",
       "\n",
       "   behavioral_avoidance  behavioral_face_mask  behavioral_wash_hands  \\\n",
       "0                   0.0                   0.0                    0.0   \n",
       "1                   1.0                   0.0                    1.0   \n",
       "2                   1.0                   0.0                    0.0   \n",
       "3                   1.0                   0.0                    1.0   \n",
       "4                   1.0                   0.0                    1.0   \n",
       "\n",
       "   behavioral_large_gatherings  behavioral_outside_home  \\\n",
       "0                          0.0                      1.0   \n",
       "1                          0.0                      1.0   \n",
       "2                          0.0                      0.0   \n",
       "3                          1.0                      0.0   \n",
       "4                          1.0                      0.0   \n",
       "\n",
       "   behavioral_touch_face  ...             income_poverty  marital_status  \\\n",
       "0                    1.0  ...              Below Poverty     Not Married   \n",
       "1                    1.0  ...              Below Poverty     Not Married   \n",
       "2                    0.0  ...  <= $75,000, Above Poverty     Not Married   \n",
       "3                    0.0  ...              Below Poverty     Not Married   \n",
       "4                    1.0  ...  <= $75,000, Above Poverty         Married   \n",
       "\n",
       "   rent_or_own   employment_status  hhs_geo_region                census_msa  \\\n",
       "0          Own  Not in Labor Force        oxchjgsf                   Non-MSA   \n",
       "1         Rent            Employed        bhuqouqj  MSA, Not Principle  City   \n",
       "2          Own            Employed        qufhixun  MSA, Not Principle  City   \n",
       "3         Rent  Not in Labor Force        lrircsnp       MSA, Principle City   \n",
       "4          Own            Employed        qufhixun  MSA, Not Principle  City   \n",
       "\n",
       "   household_adults  household_children  employment_industry  \\\n",
       "0               0.0                 0.0                  NaN   \n",
       "1               0.0                 0.0             pxcmvdjn   \n",
       "2               2.0                 0.0             rucpziij   \n",
       "3               0.0                 0.0                  NaN   \n",
       "4               1.0                 0.0             wxleyezf   \n",
       "\n",
       "   employment_occupation  \n",
       "0                    NaN  \n",
       "1               xgwztkwe  \n",
       "2               xtkaffoo  \n",
       "3                    NaN  \n",
       "4               emcorrxb  \n",
       "\n",
       "[5 rows x 36 columns]"
      ]
     },
     "execution_count": 2,
     "metadata": {},
     "output_type": "execute_result"
    }
   ],
   "source": [
    "dataX = pd.read_csv('./data/training_set_features.csv') \n",
    "datay = pd.read_csv('./data/training_set_labels.csv')\n",
    "dataX.head()"
   ]
  },
  {
   "cell_type": "code",
   "execution_count": 3,
   "id": "58fde37b",
   "metadata": {},
   "outputs": [
    {
     "data": {
      "text/html": [
       "<div>\n",
       "<style scoped>\n",
       "    .dataframe tbody tr th:only-of-type {\n",
       "        vertical-align: middle;\n",
       "    }\n",
       "\n",
       "    .dataframe tbody tr th {\n",
       "        vertical-align: top;\n",
       "    }\n",
       "\n",
       "    .dataframe thead th {\n",
       "        text-align: right;\n",
       "    }\n",
       "</style>\n",
       "<table border=\"1\" class=\"dataframe\">\n",
       "  <thead>\n",
       "    <tr style=\"text-align: right;\">\n",
       "      <th></th>\n",
       "      <th>respondent_id</th>\n",
       "      <th>h1n1_vaccine</th>\n",
       "      <th>seasonal_vaccine</th>\n",
       "    </tr>\n",
       "  </thead>\n",
       "  <tbody>\n",
       "    <tr>\n",
       "      <th>0</th>\n",
       "      <td>0</td>\n",
       "      <td>0</td>\n",
       "      <td>0</td>\n",
       "    </tr>\n",
       "    <tr>\n",
       "      <th>1</th>\n",
       "      <td>1</td>\n",
       "      <td>0</td>\n",
       "      <td>1</td>\n",
       "    </tr>\n",
       "    <tr>\n",
       "      <th>2</th>\n",
       "      <td>2</td>\n",
       "      <td>0</td>\n",
       "      <td>0</td>\n",
       "    </tr>\n",
       "    <tr>\n",
       "      <th>3</th>\n",
       "      <td>3</td>\n",
       "      <td>0</td>\n",
       "      <td>1</td>\n",
       "    </tr>\n",
       "    <tr>\n",
       "      <th>4</th>\n",
       "      <td>4</td>\n",
       "      <td>0</td>\n",
       "      <td>0</td>\n",
       "    </tr>\n",
       "  </tbody>\n",
       "</table>\n",
       "</div>"
      ],
      "text/plain": [
       "   respondent_id  h1n1_vaccine  seasonal_vaccine\n",
       "0              0             0                 0\n",
       "1              1             0                 1\n",
       "2              2             0                 0\n",
       "3              3             0                 1\n",
       "4              4             0                 0"
      ]
     },
     "execution_count": 3,
     "metadata": {},
     "output_type": "execute_result"
    }
   ],
   "source": [
    "datay.head()"
   ]
  },
  {
   "cell_type": "markdown",
   "id": "63e836e3",
   "metadata": {},
   "source": [
    "Combining the feature and label data into one dataframe: "
   ]
  },
  {
   "cell_type": "code",
   "execution_count": 4,
   "id": "f924ad1b",
   "metadata": {},
   "outputs": [],
   "source": [
    "data = pd.concat([datay, dataX], axis = 1)"
   ]
  },
  {
   "cell_type": "markdown",
   "id": "09965330",
   "metadata": {},
   "source": [
    "Drop unneeded columns including those specific to the seasonal flu."
   ]
  },
  {
   "cell_type": "code",
   "execution_count": 5,
   "id": "786f8609",
   "metadata": {},
   "outputs": [],
   "source": [
    "data = data.drop(['respondent_id', 'opinion_seas_vacc_effective', 'opinion_seas_risk', 'opinion_seas_sick_from_vacc', 'doctor_recc_seasonal', 'seasonal_vaccine'], axis=1)"
   ]
  },
  {
   "cell_type": "code",
   "execution_count": 6,
   "id": "715d996e",
   "metadata": {},
   "outputs": [
    {
     "data": {
      "text/html": [
       "<div>\n",
       "<style scoped>\n",
       "    .dataframe tbody tr th:only-of-type {\n",
       "        vertical-align: middle;\n",
       "    }\n",
       "\n",
       "    .dataframe tbody tr th {\n",
       "        vertical-align: top;\n",
       "    }\n",
       "\n",
       "    .dataframe thead th {\n",
       "        text-align: right;\n",
       "    }\n",
       "</style>\n",
       "<table border=\"1\" class=\"dataframe\">\n",
       "  <thead>\n",
       "    <tr style=\"text-align: right;\">\n",
       "      <th></th>\n",
       "      <th>h1n1_vaccine</th>\n",
       "      <th>h1n1_concern</th>\n",
       "      <th>h1n1_knowledge</th>\n",
       "      <th>behavioral_antiviral_meds</th>\n",
       "      <th>behavioral_avoidance</th>\n",
       "      <th>behavioral_face_mask</th>\n",
       "      <th>behavioral_wash_hands</th>\n",
       "      <th>behavioral_large_gatherings</th>\n",
       "      <th>behavioral_outside_home</th>\n",
       "      <th>behavioral_touch_face</th>\n",
       "      <th>...</th>\n",
       "      <th>income_poverty</th>\n",
       "      <th>marital_status</th>\n",
       "      <th>rent_or_own</th>\n",
       "      <th>employment_status</th>\n",
       "      <th>hhs_geo_region</th>\n",
       "      <th>census_msa</th>\n",
       "      <th>household_adults</th>\n",
       "      <th>household_children</th>\n",
       "      <th>employment_industry</th>\n",
       "      <th>employment_occupation</th>\n",
       "    </tr>\n",
       "  </thead>\n",
       "  <tbody>\n",
       "    <tr>\n",
       "      <th>0</th>\n",
       "      <td>0</td>\n",
       "      <td>1.0</td>\n",
       "      <td>0.0</td>\n",
       "      <td>0.0</td>\n",
       "      <td>0.0</td>\n",
       "      <td>0.0</td>\n",
       "      <td>0.0</td>\n",
       "      <td>0.0</td>\n",
       "      <td>1.0</td>\n",
       "      <td>1.0</td>\n",
       "      <td>...</td>\n",
       "      <td>Below Poverty</td>\n",
       "      <td>Not Married</td>\n",
       "      <td>Own</td>\n",
       "      <td>Not in Labor Force</td>\n",
       "      <td>oxchjgsf</td>\n",
       "      <td>Non-MSA</td>\n",
       "      <td>0.0</td>\n",
       "      <td>0.0</td>\n",
       "      <td>NaN</td>\n",
       "      <td>NaN</td>\n",
       "    </tr>\n",
       "    <tr>\n",
       "      <th>1</th>\n",
       "      <td>0</td>\n",
       "      <td>3.0</td>\n",
       "      <td>2.0</td>\n",
       "      <td>0.0</td>\n",
       "      <td>1.0</td>\n",
       "      <td>0.0</td>\n",
       "      <td>1.0</td>\n",
       "      <td>0.0</td>\n",
       "      <td>1.0</td>\n",
       "      <td>1.0</td>\n",
       "      <td>...</td>\n",
       "      <td>Below Poverty</td>\n",
       "      <td>Not Married</td>\n",
       "      <td>Rent</td>\n",
       "      <td>Employed</td>\n",
       "      <td>bhuqouqj</td>\n",
       "      <td>MSA, Not Principle  City</td>\n",
       "      <td>0.0</td>\n",
       "      <td>0.0</td>\n",
       "      <td>pxcmvdjn</td>\n",
       "      <td>xgwztkwe</td>\n",
       "    </tr>\n",
       "    <tr>\n",
       "      <th>2</th>\n",
       "      <td>0</td>\n",
       "      <td>1.0</td>\n",
       "      <td>1.0</td>\n",
       "      <td>0.0</td>\n",
       "      <td>1.0</td>\n",
       "      <td>0.0</td>\n",
       "      <td>0.0</td>\n",
       "      <td>0.0</td>\n",
       "      <td>0.0</td>\n",
       "      <td>0.0</td>\n",
       "      <td>...</td>\n",
       "      <td>&lt;= $75,000, Above Poverty</td>\n",
       "      <td>Not Married</td>\n",
       "      <td>Own</td>\n",
       "      <td>Employed</td>\n",
       "      <td>qufhixun</td>\n",
       "      <td>MSA, Not Principle  City</td>\n",
       "      <td>2.0</td>\n",
       "      <td>0.0</td>\n",
       "      <td>rucpziij</td>\n",
       "      <td>xtkaffoo</td>\n",
       "    </tr>\n",
       "    <tr>\n",
       "      <th>3</th>\n",
       "      <td>0</td>\n",
       "      <td>1.0</td>\n",
       "      <td>1.0</td>\n",
       "      <td>0.0</td>\n",
       "      <td>1.0</td>\n",
       "      <td>0.0</td>\n",
       "      <td>1.0</td>\n",
       "      <td>1.0</td>\n",
       "      <td>0.0</td>\n",
       "      <td>0.0</td>\n",
       "      <td>...</td>\n",
       "      <td>Below Poverty</td>\n",
       "      <td>Not Married</td>\n",
       "      <td>Rent</td>\n",
       "      <td>Not in Labor Force</td>\n",
       "      <td>lrircsnp</td>\n",
       "      <td>MSA, Principle City</td>\n",
       "      <td>0.0</td>\n",
       "      <td>0.0</td>\n",
       "      <td>NaN</td>\n",
       "      <td>NaN</td>\n",
       "    </tr>\n",
       "    <tr>\n",
       "      <th>4</th>\n",
       "      <td>0</td>\n",
       "      <td>2.0</td>\n",
       "      <td>1.0</td>\n",
       "      <td>0.0</td>\n",
       "      <td>1.0</td>\n",
       "      <td>0.0</td>\n",
       "      <td>1.0</td>\n",
       "      <td>1.0</td>\n",
       "      <td>0.0</td>\n",
       "      <td>1.0</td>\n",
       "      <td>...</td>\n",
       "      <td>&lt;= $75,000, Above Poverty</td>\n",
       "      <td>Married</td>\n",
       "      <td>Own</td>\n",
       "      <td>Employed</td>\n",
       "      <td>qufhixun</td>\n",
       "      <td>MSA, Not Principle  City</td>\n",
       "      <td>1.0</td>\n",
       "      <td>0.0</td>\n",
       "      <td>wxleyezf</td>\n",
       "      <td>emcorrxb</td>\n",
       "    </tr>\n",
       "  </tbody>\n",
       "</table>\n",
       "<p>5 rows × 32 columns</p>\n",
       "</div>"
      ],
      "text/plain": [
       "   h1n1_vaccine  h1n1_concern  h1n1_knowledge  behavioral_antiviral_meds  \\\n",
       "0             0           1.0             0.0                        0.0   \n",
       "1             0           3.0             2.0                        0.0   \n",
       "2             0           1.0             1.0                        0.0   \n",
       "3             0           1.0             1.0                        0.0   \n",
       "4             0           2.0             1.0                        0.0   \n",
       "\n",
       "   behavioral_avoidance  behavioral_face_mask  behavioral_wash_hands  \\\n",
       "0                   0.0                   0.0                    0.0   \n",
       "1                   1.0                   0.0                    1.0   \n",
       "2                   1.0                   0.0                    0.0   \n",
       "3                   1.0                   0.0                    1.0   \n",
       "4                   1.0                   0.0                    1.0   \n",
       "\n",
       "   behavioral_large_gatherings  behavioral_outside_home  \\\n",
       "0                          0.0                      1.0   \n",
       "1                          0.0                      1.0   \n",
       "2                          0.0                      0.0   \n",
       "3                          1.0                      0.0   \n",
       "4                          1.0                      0.0   \n",
       "\n",
       "   behavioral_touch_face  ...             income_poverty  marital_status  \\\n",
       "0                    1.0  ...              Below Poverty     Not Married   \n",
       "1                    1.0  ...              Below Poverty     Not Married   \n",
       "2                    0.0  ...  <= $75,000, Above Poverty     Not Married   \n",
       "3                    0.0  ...              Below Poverty     Not Married   \n",
       "4                    1.0  ...  <= $75,000, Above Poverty         Married   \n",
       "\n",
       "   rent_or_own   employment_status  hhs_geo_region                census_msa  \\\n",
       "0          Own  Not in Labor Force        oxchjgsf                   Non-MSA   \n",
       "1         Rent            Employed        bhuqouqj  MSA, Not Principle  City   \n",
       "2          Own            Employed        qufhixun  MSA, Not Principle  City   \n",
       "3         Rent  Not in Labor Force        lrircsnp       MSA, Principle City   \n",
       "4          Own            Employed        qufhixun  MSA, Not Principle  City   \n",
       "\n",
       "   household_adults  household_children employment_industry  \\\n",
       "0               0.0                 0.0                 NaN   \n",
       "1               0.0                 0.0            pxcmvdjn   \n",
       "2               2.0                 0.0            rucpziij   \n",
       "3               0.0                 0.0                 NaN   \n",
       "4               1.0                 0.0            wxleyezf   \n",
       "\n",
       "  employment_occupation  \n",
       "0                   NaN  \n",
       "1              xgwztkwe  \n",
       "2              xtkaffoo  \n",
       "3                   NaN  \n",
       "4              emcorrxb  \n",
       "\n",
       "[5 rows x 32 columns]"
      ]
     },
     "execution_count": 6,
     "metadata": {},
     "output_type": "execute_result"
    }
   ],
   "source": [
    "data.head()"
   ]
  },
  {
   "cell_type": "code",
   "execution_count": 7,
   "id": "a62e8fd3",
   "metadata": {},
   "outputs": [
    {
     "name": "stdout",
     "output_type": "stream",
     "text": [
      "<class 'pandas.core.frame.DataFrame'>\n",
      "RangeIndex: 26707 entries, 0 to 26706\n",
      "Data columns (total 32 columns):\n",
      " #   Column                       Non-Null Count  Dtype  \n",
      "---  ------                       --------------  -----  \n",
      " 0   h1n1_vaccine                 26707 non-null  int64  \n",
      " 1   h1n1_concern                 26615 non-null  float64\n",
      " 2   h1n1_knowledge               26591 non-null  float64\n",
      " 3   behavioral_antiviral_meds    26636 non-null  float64\n",
      " 4   behavioral_avoidance         26499 non-null  float64\n",
      " 5   behavioral_face_mask         26688 non-null  float64\n",
      " 6   behavioral_wash_hands        26665 non-null  float64\n",
      " 7   behavioral_large_gatherings  26620 non-null  float64\n",
      " 8   behavioral_outside_home      26625 non-null  float64\n",
      " 9   behavioral_touch_face        26579 non-null  float64\n",
      " 10  doctor_recc_h1n1             24547 non-null  float64\n",
      " 11  chronic_med_condition        25736 non-null  float64\n",
      " 12  child_under_6_months         25887 non-null  float64\n",
      " 13  health_worker                25903 non-null  float64\n",
      " 14  health_insurance             14433 non-null  float64\n",
      " 15  opinion_h1n1_vacc_effective  26316 non-null  float64\n",
      " 16  opinion_h1n1_risk            26319 non-null  float64\n",
      " 17  opinion_h1n1_sick_from_vacc  26312 non-null  float64\n",
      " 18  age_group                    26707 non-null  object \n",
      " 19  education                    25300 non-null  object \n",
      " 20  race                         26707 non-null  object \n",
      " 21  sex                          26707 non-null  object \n",
      " 22  income_poverty               22284 non-null  object \n",
      " 23  marital_status               25299 non-null  object \n",
      " 24  rent_or_own                  24665 non-null  object \n",
      " 25  employment_status            25244 non-null  object \n",
      " 26  hhs_geo_region               26707 non-null  object \n",
      " 27  census_msa                   26707 non-null  object \n",
      " 28  household_adults             26458 non-null  float64\n",
      " 29  household_children           26458 non-null  float64\n",
      " 30  employment_industry          13377 non-null  object \n",
      " 31  employment_occupation        13237 non-null  object \n",
      "dtypes: float64(19), int64(1), object(12)\n",
      "memory usage: 6.5+ MB\n"
     ]
    }
   ],
   "source": [
    "data.info()"
   ]
  },
  {
   "cell_type": "code",
   "execution_count": 8,
   "id": "eab7cabe",
   "metadata": {},
   "outputs": [
    {
     "data": {
      "text/html": [
       "<div>\n",
       "<style scoped>\n",
       "    .dataframe tbody tr th:only-of-type {\n",
       "        vertical-align: middle;\n",
       "    }\n",
       "\n",
       "    .dataframe tbody tr th {\n",
       "        vertical-align: top;\n",
       "    }\n",
       "\n",
       "    .dataframe thead th {\n",
       "        text-align: right;\n",
       "    }\n",
       "</style>\n",
       "<table border=\"1\" class=\"dataframe\">\n",
       "  <thead>\n",
       "    <tr style=\"text-align: right;\">\n",
       "      <th></th>\n",
       "      <th>h1n1_vaccine</th>\n",
       "      <th>h1n1_concern</th>\n",
       "      <th>h1n1_knowledge</th>\n",
       "      <th>behavioral_antiviral_meds</th>\n",
       "      <th>behavioral_avoidance</th>\n",
       "      <th>behavioral_face_mask</th>\n",
       "      <th>behavioral_wash_hands</th>\n",
       "      <th>behavioral_large_gatherings</th>\n",
       "      <th>behavioral_outside_home</th>\n",
       "      <th>behavioral_touch_face</th>\n",
       "      <th>doctor_recc_h1n1</th>\n",
       "      <th>chronic_med_condition</th>\n",
       "      <th>child_under_6_months</th>\n",
       "      <th>health_worker</th>\n",
       "      <th>health_insurance</th>\n",
       "      <th>opinion_h1n1_vacc_effective</th>\n",
       "      <th>opinion_h1n1_risk</th>\n",
       "      <th>opinion_h1n1_sick_from_vacc</th>\n",
       "      <th>household_adults</th>\n",
       "      <th>household_children</th>\n",
       "    </tr>\n",
       "  </thead>\n",
       "  <tbody>\n",
       "    <tr>\n",
       "      <th>count</th>\n",
       "      <td>26707.000000</td>\n",
       "      <td>26615.000000</td>\n",
       "      <td>26591.000000</td>\n",
       "      <td>26636.000000</td>\n",
       "      <td>26499.000000</td>\n",
       "      <td>26688.000000</td>\n",
       "      <td>26665.000000</td>\n",
       "      <td>26620.00000</td>\n",
       "      <td>26625.000000</td>\n",
       "      <td>26579.000000</td>\n",
       "      <td>24547.000000</td>\n",
       "      <td>25736.000000</td>\n",
       "      <td>25887.000000</td>\n",
       "      <td>25903.000000</td>\n",
       "      <td>14433.00000</td>\n",
       "      <td>26316.000000</td>\n",
       "      <td>26319.000000</td>\n",
       "      <td>26312.000000</td>\n",
       "      <td>26458.000000</td>\n",
       "      <td>26458.000000</td>\n",
       "    </tr>\n",
       "    <tr>\n",
       "      <th>mean</th>\n",
       "      <td>0.212454</td>\n",
       "      <td>1.618486</td>\n",
       "      <td>1.262532</td>\n",
       "      <td>0.048844</td>\n",
       "      <td>0.725612</td>\n",
       "      <td>0.068982</td>\n",
       "      <td>0.825614</td>\n",
       "      <td>0.35864</td>\n",
       "      <td>0.337315</td>\n",
       "      <td>0.677264</td>\n",
       "      <td>0.220312</td>\n",
       "      <td>0.283261</td>\n",
       "      <td>0.082590</td>\n",
       "      <td>0.111918</td>\n",
       "      <td>0.87972</td>\n",
       "      <td>3.850623</td>\n",
       "      <td>2.342566</td>\n",
       "      <td>2.357670</td>\n",
       "      <td>0.886499</td>\n",
       "      <td>0.534583</td>\n",
       "    </tr>\n",
       "    <tr>\n",
       "      <th>std</th>\n",
       "      <td>0.409052</td>\n",
       "      <td>0.910311</td>\n",
       "      <td>0.618149</td>\n",
       "      <td>0.215545</td>\n",
       "      <td>0.446214</td>\n",
       "      <td>0.253429</td>\n",
       "      <td>0.379448</td>\n",
       "      <td>0.47961</td>\n",
       "      <td>0.472802</td>\n",
       "      <td>0.467531</td>\n",
       "      <td>0.414466</td>\n",
       "      <td>0.450591</td>\n",
       "      <td>0.275266</td>\n",
       "      <td>0.315271</td>\n",
       "      <td>0.32530</td>\n",
       "      <td>1.007436</td>\n",
       "      <td>1.285539</td>\n",
       "      <td>1.362766</td>\n",
       "      <td>0.753422</td>\n",
       "      <td>0.928173</td>\n",
       "    </tr>\n",
       "    <tr>\n",
       "      <th>min</th>\n",
       "      <td>0.000000</td>\n",
       "      <td>0.000000</td>\n",
       "      <td>0.000000</td>\n",
       "      <td>0.000000</td>\n",
       "      <td>0.000000</td>\n",
       "      <td>0.000000</td>\n",
       "      <td>0.000000</td>\n",
       "      <td>0.00000</td>\n",
       "      <td>0.000000</td>\n",
       "      <td>0.000000</td>\n",
       "      <td>0.000000</td>\n",
       "      <td>0.000000</td>\n",
       "      <td>0.000000</td>\n",
       "      <td>0.000000</td>\n",
       "      <td>0.00000</td>\n",
       "      <td>1.000000</td>\n",
       "      <td>1.000000</td>\n",
       "      <td>1.000000</td>\n",
       "      <td>0.000000</td>\n",
       "      <td>0.000000</td>\n",
       "    </tr>\n",
       "    <tr>\n",
       "      <th>25%</th>\n",
       "      <td>0.000000</td>\n",
       "      <td>1.000000</td>\n",
       "      <td>1.000000</td>\n",
       "      <td>0.000000</td>\n",
       "      <td>0.000000</td>\n",
       "      <td>0.000000</td>\n",
       "      <td>1.000000</td>\n",
       "      <td>0.00000</td>\n",
       "      <td>0.000000</td>\n",
       "      <td>0.000000</td>\n",
       "      <td>0.000000</td>\n",
       "      <td>0.000000</td>\n",
       "      <td>0.000000</td>\n",
       "      <td>0.000000</td>\n",
       "      <td>1.00000</td>\n",
       "      <td>3.000000</td>\n",
       "      <td>1.000000</td>\n",
       "      <td>1.000000</td>\n",
       "      <td>0.000000</td>\n",
       "      <td>0.000000</td>\n",
       "    </tr>\n",
       "    <tr>\n",
       "      <th>50%</th>\n",
       "      <td>0.000000</td>\n",
       "      <td>2.000000</td>\n",
       "      <td>1.000000</td>\n",
       "      <td>0.000000</td>\n",
       "      <td>1.000000</td>\n",
       "      <td>0.000000</td>\n",
       "      <td>1.000000</td>\n",
       "      <td>0.00000</td>\n",
       "      <td>0.000000</td>\n",
       "      <td>1.000000</td>\n",
       "      <td>0.000000</td>\n",
       "      <td>0.000000</td>\n",
       "      <td>0.000000</td>\n",
       "      <td>0.000000</td>\n",
       "      <td>1.00000</td>\n",
       "      <td>4.000000</td>\n",
       "      <td>2.000000</td>\n",
       "      <td>2.000000</td>\n",
       "      <td>1.000000</td>\n",
       "      <td>0.000000</td>\n",
       "    </tr>\n",
       "    <tr>\n",
       "      <th>75%</th>\n",
       "      <td>0.000000</td>\n",
       "      <td>2.000000</td>\n",
       "      <td>2.000000</td>\n",
       "      <td>0.000000</td>\n",
       "      <td>1.000000</td>\n",
       "      <td>0.000000</td>\n",
       "      <td>1.000000</td>\n",
       "      <td>1.00000</td>\n",
       "      <td>1.000000</td>\n",
       "      <td>1.000000</td>\n",
       "      <td>0.000000</td>\n",
       "      <td>1.000000</td>\n",
       "      <td>0.000000</td>\n",
       "      <td>0.000000</td>\n",
       "      <td>1.00000</td>\n",
       "      <td>5.000000</td>\n",
       "      <td>4.000000</td>\n",
       "      <td>4.000000</td>\n",
       "      <td>1.000000</td>\n",
       "      <td>1.000000</td>\n",
       "    </tr>\n",
       "    <tr>\n",
       "      <th>max</th>\n",
       "      <td>1.000000</td>\n",
       "      <td>3.000000</td>\n",
       "      <td>2.000000</td>\n",
       "      <td>1.000000</td>\n",
       "      <td>1.000000</td>\n",
       "      <td>1.000000</td>\n",
       "      <td>1.000000</td>\n",
       "      <td>1.00000</td>\n",
       "      <td>1.000000</td>\n",
       "      <td>1.000000</td>\n",
       "      <td>1.000000</td>\n",
       "      <td>1.000000</td>\n",
       "      <td>1.000000</td>\n",
       "      <td>1.000000</td>\n",
       "      <td>1.00000</td>\n",
       "      <td>5.000000</td>\n",
       "      <td>5.000000</td>\n",
       "      <td>5.000000</td>\n",
       "      <td>3.000000</td>\n",
       "      <td>3.000000</td>\n",
       "    </tr>\n",
       "  </tbody>\n",
       "</table>\n",
       "</div>"
      ],
      "text/plain": [
       "       h1n1_vaccine  h1n1_concern  h1n1_knowledge  behavioral_antiviral_meds  \\\n",
       "count  26707.000000  26615.000000    26591.000000               26636.000000   \n",
       "mean       0.212454      1.618486        1.262532                   0.048844   \n",
       "std        0.409052      0.910311        0.618149                   0.215545   \n",
       "min        0.000000      0.000000        0.000000                   0.000000   \n",
       "25%        0.000000      1.000000        1.000000                   0.000000   \n",
       "50%        0.000000      2.000000        1.000000                   0.000000   \n",
       "75%        0.000000      2.000000        2.000000                   0.000000   \n",
       "max        1.000000      3.000000        2.000000                   1.000000   \n",
       "\n",
       "       behavioral_avoidance  behavioral_face_mask  behavioral_wash_hands  \\\n",
       "count          26499.000000          26688.000000           26665.000000   \n",
       "mean               0.725612              0.068982               0.825614   \n",
       "std                0.446214              0.253429               0.379448   \n",
       "min                0.000000              0.000000               0.000000   \n",
       "25%                0.000000              0.000000               1.000000   \n",
       "50%                1.000000              0.000000               1.000000   \n",
       "75%                1.000000              0.000000               1.000000   \n",
       "max                1.000000              1.000000               1.000000   \n",
       "\n",
       "       behavioral_large_gatherings  behavioral_outside_home  \\\n",
       "count                  26620.00000             26625.000000   \n",
       "mean                       0.35864                 0.337315   \n",
       "std                        0.47961                 0.472802   \n",
       "min                        0.00000                 0.000000   \n",
       "25%                        0.00000                 0.000000   \n",
       "50%                        0.00000                 0.000000   \n",
       "75%                        1.00000                 1.000000   \n",
       "max                        1.00000                 1.000000   \n",
       "\n",
       "       behavioral_touch_face  doctor_recc_h1n1  chronic_med_condition  \\\n",
       "count           26579.000000      24547.000000           25736.000000   \n",
       "mean                0.677264          0.220312               0.283261   \n",
       "std                 0.467531          0.414466               0.450591   \n",
       "min                 0.000000          0.000000               0.000000   \n",
       "25%                 0.000000          0.000000               0.000000   \n",
       "50%                 1.000000          0.000000               0.000000   \n",
       "75%                 1.000000          0.000000               1.000000   \n",
       "max                 1.000000          1.000000               1.000000   \n",
       "\n",
       "       child_under_6_months  health_worker  health_insurance  \\\n",
       "count          25887.000000   25903.000000       14433.00000   \n",
       "mean               0.082590       0.111918           0.87972   \n",
       "std                0.275266       0.315271           0.32530   \n",
       "min                0.000000       0.000000           0.00000   \n",
       "25%                0.000000       0.000000           1.00000   \n",
       "50%                0.000000       0.000000           1.00000   \n",
       "75%                0.000000       0.000000           1.00000   \n",
       "max                1.000000       1.000000           1.00000   \n",
       "\n",
       "       opinion_h1n1_vacc_effective  opinion_h1n1_risk  \\\n",
       "count                 26316.000000       26319.000000   \n",
       "mean                      3.850623           2.342566   \n",
       "std                       1.007436           1.285539   \n",
       "min                       1.000000           1.000000   \n",
       "25%                       3.000000           1.000000   \n",
       "50%                       4.000000           2.000000   \n",
       "75%                       5.000000           4.000000   \n",
       "max                       5.000000           5.000000   \n",
       "\n",
       "       opinion_h1n1_sick_from_vacc  household_adults  household_children  \n",
       "count                 26312.000000      26458.000000        26458.000000  \n",
       "mean                      2.357670          0.886499            0.534583  \n",
       "std                       1.362766          0.753422            0.928173  \n",
       "min                       1.000000          0.000000            0.000000  \n",
       "25%                       1.000000          0.000000            0.000000  \n",
       "50%                       2.000000          1.000000            0.000000  \n",
       "75%                       4.000000          1.000000            1.000000  \n",
       "max                       5.000000          3.000000            3.000000  "
      ]
     },
     "execution_count": 8,
     "metadata": {},
     "output_type": "execute_result"
    }
   ],
   "source": [
    "data.describe()"
   ]
  },
  {
   "cell_type": "code",
   "execution_count": 9,
   "id": "99957358",
   "metadata": {},
   "outputs": [
    {
     "data": {
      "text/html": [
       "<div>\n",
       "<style scoped>\n",
       "    .dataframe tbody tr th:only-of-type {\n",
       "        vertical-align: middle;\n",
       "    }\n",
       "\n",
       "    .dataframe tbody tr th {\n",
       "        vertical-align: top;\n",
       "    }\n",
       "\n",
       "    .dataframe thead th {\n",
       "        text-align: right;\n",
       "    }\n",
       "</style>\n",
       "<table border=\"1\" class=\"dataframe\">\n",
       "  <thead>\n",
       "    <tr style=\"text-align: right;\">\n",
       "      <th></th>\n",
       "      <th>behavioral_outside_home</th>\n",
       "      <th>behavioral_touch_face</th>\n",
       "      <th>doctor_recc_h1n1</th>\n",
       "      <th>chronic_med_condition</th>\n",
       "      <th>child_under_6_months</th>\n",
       "      <th>health_worker</th>\n",
       "      <th>health_insurance</th>\n",
       "      <th>opinion_h1n1_vacc_effective</th>\n",
       "      <th>opinion_h1n1_risk</th>\n",
       "    </tr>\n",
       "  </thead>\n",
       "  <tbody>\n",
       "    <tr>\n",
       "      <th>count</th>\n",
       "      <td>26625.000000</td>\n",
       "      <td>26579.000000</td>\n",
       "      <td>24547.000000</td>\n",
       "      <td>25736.000000</td>\n",
       "      <td>25887.000000</td>\n",
       "      <td>25903.000000</td>\n",
       "      <td>14433.00000</td>\n",
       "      <td>26316.000000</td>\n",
       "      <td>26319.000000</td>\n",
       "    </tr>\n",
       "    <tr>\n",
       "      <th>mean</th>\n",
       "      <td>0.337315</td>\n",
       "      <td>0.677264</td>\n",
       "      <td>0.220312</td>\n",
       "      <td>0.283261</td>\n",
       "      <td>0.082590</td>\n",
       "      <td>0.111918</td>\n",
       "      <td>0.87972</td>\n",
       "      <td>3.850623</td>\n",
       "      <td>2.342566</td>\n",
       "    </tr>\n",
       "    <tr>\n",
       "      <th>std</th>\n",
       "      <td>0.472802</td>\n",
       "      <td>0.467531</td>\n",
       "      <td>0.414466</td>\n",
       "      <td>0.450591</td>\n",
       "      <td>0.275266</td>\n",
       "      <td>0.315271</td>\n",
       "      <td>0.32530</td>\n",
       "      <td>1.007436</td>\n",
       "      <td>1.285539</td>\n",
       "    </tr>\n",
       "    <tr>\n",
       "      <th>min</th>\n",
       "      <td>0.000000</td>\n",
       "      <td>0.000000</td>\n",
       "      <td>0.000000</td>\n",
       "      <td>0.000000</td>\n",
       "      <td>0.000000</td>\n",
       "      <td>0.000000</td>\n",
       "      <td>0.00000</td>\n",
       "      <td>1.000000</td>\n",
       "      <td>1.000000</td>\n",
       "    </tr>\n",
       "    <tr>\n",
       "      <th>25%</th>\n",
       "      <td>0.000000</td>\n",
       "      <td>0.000000</td>\n",
       "      <td>0.000000</td>\n",
       "      <td>0.000000</td>\n",
       "      <td>0.000000</td>\n",
       "      <td>0.000000</td>\n",
       "      <td>1.00000</td>\n",
       "      <td>3.000000</td>\n",
       "      <td>1.000000</td>\n",
       "    </tr>\n",
       "    <tr>\n",
       "      <th>50%</th>\n",
       "      <td>0.000000</td>\n",
       "      <td>1.000000</td>\n",
       "      <td>0.000000</td>\n",
       "      <td>0.000000</td>\n",
       "      <td>0.000000</td>\n",
       "      <td>0.000000</td>\n",
       "      <td>1.00000</td>\n",
       "      <td>4.000000</td>\n",
       "      <td>2.000000</td>\n",
       "    </tr>\n",
       "    <tr>\n",
       "      <th>75%</th>\n",
       "      <td>1.000000</td>\n",
       "      <td>1.000000</td>\n",
       "      <td>0.000000</td>\n",
       "      <td>1.000000</td>\n",
       "      <td>0.000000</td>\n",
       "      <td>0.000000</td>\n",
       "      <td>1.00000</td>\n",
       "      <td>5.000000</td>\n",
       "      <td>4.000000</td>\n",
       "    </tr>\n",
       "    <tr>\n",
       "      <th>max</th>\n",
       "      <td>1.000000</td>\n",
       "      <td>1.000000</td>\n",
       "      <td>1.000000</td>\n",
       "      <td>1.000000</td>\n",
       "      <td>1.000000</td>\n",
       "      <td>1.000000</td>\n",
       "      <td>1.00000</td>\n",
       "      <td>5.000000</td>\n",
       "      <td>5.000000</td>\n",
       "    </tr>\n",
       "  </tbody>\n",
       "</table>\n",
       "</div>"
      ],
      "text/plain": [
       "       behavioral_outside_home  behavioral_touch_face  doctor_recc_h1n1  \\\n",
       "count             26625.000000           26579.000000      24547.000000   \n",
       "mean                  0.337315               0.677264          0.220312   \n",
       "std                   0.472802               0.467531          0.414466   \n",
       "min                   0.000000               0.000000          0.000000   \n",
       "25%                   0.000000               0.000000          0.000000   \n",
       "50%                   0.000000               1.000000          0.000000   \n",
       "75%                   1.000000               1.000000          0.000000   \n",
       "max                   1.000000               1.000000          1.000000   \n",
       "\n",
       "       chronic_med_condition  child_under_6_months  health_worker  \\\n",
       "count           25736.000000          25887.000000   25903.000000   \n",
       "mean                0.283261              0.082590       0.111918   \n",
       "std                 0.450591              0.275266       0.315271   \n",
       "min                 0.000000              0.000000       0.000000   \n",
       "25%                 0.000000              0.000000       0.000000   \n",
       "50%                 0.000000              0.000000       0.000000   \n",
       "75%                 1.000000              0.000000       0.000000   \n",
       "max                 1.000000              1.000000       1.000000   \n",
       "\n",
       "       health_insurance  opinion_h1n1_vacc_effective  opinion_h1n1_risk  \n",
       "count       14433.00000                 26316.000000       26319.000000  \n",
       "mean            0.87972                     3.850623           2.342566  \n",
       "std             0.32530                     1.007436           1.285539  \n",
       "min             0.00000                     1.000000           1.000000  \n",
       "25%             1.00000                     3.000000           1.000000  \n",
       "50%             1.00000                     4.000000           2.000000  \n",
       "75%             1.00000                     5.000000           4.000000  \n",
       "max             1.00000                     5.000000           5.000000  "
      ]
     },
     "execution_count": 9,
     "metadata": {},
     "output_type": "execute_result"
    }
   ],
   "source": [
    "data.iloc[:,8:17].describe()"
   ]
  },
  {
   "cell_type": "markdown",
   "id": "b5edbdd7",
   "metadata": {},
   "source": [
    "Of the float and integer type features, about half are binary/categorical.  The columns with most missing data have about 10,000 of 27,000 missing.  About 21% of respondents received the H1N1 vaccine. \n",
    "\n",
    "Some of the columns are not self-explanatory: census_msa, hhs_geo_region. "
   ]
  },
  {
   "cell_type": "code",
   "execution_count": 10,
   "id": "01ba4260",
   "metadata": {},
   "outputs": [
    {
     "data": {
      "text/plain": [
       "MSA, Not Principle  City    11645\n",
       "MSA, Principle City          7864\n",
       "Non-MSA                      7198\n",
       "Name: census_msa, dtype: int64"
      ]
     },
     "execution_count": 10,
     "metadata": {},
     "output_type": "execute_result"
    }
   ],
   "source": [
    "data.census_msa.value_counts()"
   ]
  },
  {
   "cell_type": "markdown",
   "id": "92332a4c",
   "metadata": {},
   "source": [
    "Metropolitan Statistical Area, it seems that these designation roughly mean: {MSA, Not Principle  City: suburban; MSA, Principle City: urban; Non-MSA: rural }"
   ]
  },
  {
   "cell_type": "markdown",
   "id": "dd844cf3",
   "metadata": {},
   "source": [
    "hhs_geo_region, employment_industry, and employment_occupation are coded as random strings.  Thus without decoding, they will provide little information."
   ]
  },
  {
   "cell_type": "code",
   "execution_count": 11,
   "id": "05e68c32",
   "metadata": {},
   "outputs": [
    {
     "data": {
      "text/plain": [
       "lzgpxyit    4297\n",
       "fpwskwrf    3265\n",
       "qufhixun    3102\n",
       "oxchjgsf    2859\n",
       "kbazzjca    2858\n",
       "bhuqouqj    2846\n",
       "mlyzmhmf    2243\n",
       "lrircsnp    2078\n",
       "atmpeygn    2033\n",
       "dqpwygqj    1126\n",
       "Name: hhs_geo_region, dtype: int64"
      ]
     },
     "execution_count": 11,
     "metadata": {},
     "output_type": "execute_result"
    }
   ],
   "source": [
    "data.hhs_geo_region.value_counts()"
   ]
  },
  {
   "cell_type": "code",
   "execution_count": 12,
   "id": "b8fa3c29",
   "metadata": {},
   "outputs": [
    {
     "data": {
      "text/plain": [
       "fcxhlnwr    2468\n",
       "wxleyezf    1804\n",
       "ldnlellj    1231\n",
       "pxcmvdjn    1037\n",
       "atmlpfrs     926\n",
       "arjwrbjb     871\n",
       "xicduogh     851\n",
       "mfikgejo     614\n",
       "vjjrobsf     527\n",
       "rucpziij     523\n",
       "xqicxuve     511\n",
       "saaquncn     338\n",
       "cfqqtusy     325\n",
       "nduyfdeo     286\n",
       "mcubkhph     275\n",
       "wlfvacwt     215\n",
       "dotnnunm     201\n",
       "haxffmxo     148\n",
       "msuufmds     124\n",
       "phxvnwax      89\n",
       "qnlwzans      13\n",
       "Name: employment_industry, dtype: int64"
      ]
     },
     "execution_count": 12,
     "metadata": {},
     "output_type": "execute_result"
    }
   ],
   "source": [
    "data.employment_industry.value_counts()"
   ]
  },
  {
   "cell_type": "code",
   "execution_count": 13,
   "id": "f203db33",
   "metadata": {},
   "outputs": [
    {
     "data": {
      "text/plain": [
       "xtkaffoo    1778\n",
       "mxkfnird    1509\n",
       "emcorrxb    1270\n",
       "cmhcxjea    1247\n",
       "xgwztkwe    1082\n",
       "hfxkjkmi     766\n",
       "qxajmpny     548\n",
       "xqwwgdyp     485\n",
       "kldqjyjy     469\n",
       "uqqtjvyb     452\n",
       "tfqavkke     388\n",
       "ukymxvdu     372\n",
       "vlluhbov     354\n",
       "oijqvulv     344\n",
       "ccgxvspp     341\n",
       "bxpfxfdn     331\n",
       "haliazsg     296\n",
       "rcertsgn     276\n",
       "xzmlyyjv     248\n",
       "dlvbwzss     227\n",
       "hodpvpew     208\n",
       "dcjcmpih     148\n",
       "pvmttkik      98\n",
       "Name: employment_occupation, dtype: int64"
      ]
     },
     "execution_count": 13,
     "metadata": {},
     "output_type": "execute_result"
    }
   ],
   "source": [
    "data.employment_occupation.value_counts()"
   ]
  },
  {
   "cell_type": "code",
   "execution_count": 14,
   "id": "f282bf0f",
   "metadata": {},
   "outputs": [
    {
     "data": {
      "text/plain": [
       "College Graduate    10097\n",
       "Some College         7043\n",
       "12 Years             5797\n",
       "< 12 Years           2363\n",
       "Name: education, dtype: int64"
      ]
     },
     "execution_count": 14,
     "metadata": {},
     "output_type": "execute_result"
    }
   ],
   "source": [
    "data.education.value_counts()"
   ]
  },
  {
   "cell_type": "code",
   "execution_count": 15,
   "id": "f41d0b4e",
   "metadata": {},
   "outputs": [
    {
     "data": {
      "text/plain": [
       "Female    15858\n",
       "Male      10849\n",
       "Name: sex, dtype: int64"
      ]
     },
     "execution_count": 15,
     "metadata": {},
     "output_type": "execute_result"
    }
   ],
   "source": [
    "data.sex.value_counts()"
   ]
  },
  {
   "cell_type": "code",
   "execution_count": 16,
   "id": "9892e28d",
   "metadata": {},
   "outputs": [
    {
     "data": {
      "text/plain": [
       "White                21222\n",
       "Black                 2118\n",
       "Hispanic              1755\n",
       "Other or Multiple     1612\n",
       "Name: race, dtype: int64"
      ]
     },
     "execution_count": 16,
     "metadata": {},
     "output_type": "execute_result"
    }
   ],
   "source": [
    "data.race.value_counts()"
   ]
  },
  {
   "cell_type": "code",
   "execution_count": 17,
   "id": "bd5906f3",
   "metadata": {},
   "outputs": [
    {
     "data": {
      "text/plain": [
       "65+ Years        6843\n",
       "55 - 64 Years    5563\n",
       "45 - 54 Years    5238\n",
       "18 - 34 Years    5215\n",
       "35 - 44 Years    3848\n",
       "Name: age_group, dtype: int64"
      ]
     },
     "execution_count": 17,
     "metadata": {},
     "output_type": "execute_result"
    }
   ],
   "source": [
    "data.age_group.value_counts()"
   ]
  },
  {
   "cell_type": "code",
   "execution_count": 18,
   "id": "e06046de",
   "metadata": {},
   "outputs": [
    {
     "data": {
      "text/plain": [
       "<= $75,000, Above Poverty    12777\n",
       "> $75,000                     6810\n",
       "Below Poverty                 2697\n",
       "Name: income_poverty, dtype: int64"
      ]
     },
     "execution_count": 18,
     "metadata": {},
     "output_type": "execute_result"
    }
   ],
   "source": [
    "data.income_poverty.value_counts()"
   ]
  },
  {
   "cell_type": "markdown",
   "id": "effd5a27",
   "metadata": {},
   "source": [
    "The survey seems to be fairly cross-sectional in terms of various background factors. "
   ]
  },
  {
   "cell_type": "markdown",
   "id": "2eaf27e6",
   "metadata": {},
   "source": [
    "Check correlations with target variable and for multicollinearity."
   ]
  },
  {
   "cell_type": "code",
   "execution_count": 19,
   "id": "15414351",
   "metadata": {},
   "outputs": [
    {
     "data": {
      "text/plain": [
       "<AxesSubplot:>"
      ]
     },
     "execution_count": 19,
     "metadata": {},
     "output_type": "execute_result"
    },
    {
     "data": {
      "image/png": "[encoded data removed]",
      "text/plain": [
       "<Figure size 640x480 with 2 Axes>"
      ]
     },
     "metadata": {},
     "output_type": "display_data"
    }
   ],
   "source": [
    "sns.heatmap(data.corr())"
   ]
  },
  {
   "cell_type": "markdown",
   "id": "16c9c848",
   "metadata": {},
   "source": [
    "Create dummy variables for each categorical variable so correlations/other calculations can be made."
   ]
  },
  {
   "cell_type": "code",
   "execution_count": 20,
   "id": "bc9dda64",
   "metadata": {},
   "outputs": [],
   "source": [
    "datawd = pd.get_dummies(data)"
   ]
  },
  {
   "cell_type": "code",
   "execution_count": null,
   "id": "d635f75b",
   "metadata": {},
   "outputs": [],
   "source": []
  },
  {
   "cell_type": "code",
   "execution_count": 21,
   "id": "68080f4e",
   "metadata": {},
   "outputs": [
    {
     "data": {
      "text/html": [
       "<div>\n",
       "<style scoped>\n",
       "    .dataframe tbody tr th:only-of-type {\n",
       "        vertical-align: middle;\n",
       "    }\n",
       "\n",
       "    .dataframe tbody tr th {\n",
       "        vertical-align: top;\n",
       "    }\n",
       "\n",
       "    .dataframe thead th {\n",
       "        text-align: right;\n",
       "    }\n",
       "</style>\n",
       "<table border=\"1\" class=\"dataframe\">\n",
       "  <thead>\n",
       "    <tr style=\"text-align: right;\">\n",
       "      <th></th>\n",
       "      <th>h1n1_vaccine</th>\n",
       "      <th>h1n1_concern</th>\n",
       "      <th>h1n1_knowledge</th>\n",
       "      <th>behavioral_antiviral_meds</th>\n",
       "      <th>behavioral_avoidance</th>\n",
       "      <th>behavioral_face_mask</th>\n",
       "      <th>behavioral_wash_hands</th>\n",
       "      <th>behavioral_large_gatherings</th>\n",
       "      <th>behavioral_outside_home</th>\n",
       "      <th>behavioral_touch_face</th>\n",
       "      <th>...</th>\n",
       "      <th>employment_occupation_qxajmpny</th>\n",
       "      <th>employment_occupation_rcertsgn</th>\n",
       "      <th>employment_occupation_tfqavkke</th>\n",
       "      <th>employment_occupation_ukymxvdu</th>\n",
       "      <th>employment_occupation_uqqtjvyb</th>\n",
       "      <th>employment_occupation_vlluhbov</th>\n",
       "      <th>employment_occupation_xgwztkwe</th>\n",
       "      <th>employment_occupation_xqwwgdyp</th>\n",
       "      <th>employment_occupation_xtkaffoo</th>\n",
       "      <th>employment_occupation_xzmlyyjv</th>\n",
       "    </tr>\n",
       "  </thead>\n",
       "  <tbody>\n",
       "    <tr>\n",
       "      <th>0</th>\n",
       "      <td>0</td>\n",
       "      <td>1.0</td>\n",
       "      <td>0.0</td>\n",
       "      <td>0.0</td>\n",
       "      <td>0.0</td>\n",
       "      <td>0.0</td>\n",
       "      <td>0.0</td>\n",
       "      <td>0.0</td>\n",
       "      <td>1.0</td>\n",
       "      <td>1.0</td>\n",
       "      <td>...</td>\n",
       "      <td>0</td>\n",
       "      <td>0</td>\n",
       "      <td>0</td>\n",
       "      <td>0</td>\n",
       "      <td>0</td>\n",
       "      <td>0</td>\n",
       "      <td>0</td>\n",
       "      <td>0</td>\n",
       "      <td>0</td>\n",
       "      <td>0</td>\n",
       "    </tr>\n",
       "    <tr>\n",
       "      <th>1</th>\n",
       "      <td>0</td>\n",
       "      <td>3.0</td>\n",
       "      <td>2.0</td>\n",
       "      <td>0.0</td>\n",
       "      <td>1.0</td>\n",
       "      <td>0.0</td>\n",
       "      <td>1.0</td>\n",
       "      <td>0.0</td>\n",
       "      <td>1.0</td>\n",
       "      <td>1.0</td>\n",
       "      <td>...</td>\n",
       "      <td>0</td>\n",
       "      <td>0</td>\n",
       "      <td>0</td>\n",
       "      <td>0</td>\n",
       "      <td>0</td>\n",
       "      <td>0</td>\n",
       "      <td>1</td>\n",
       "      <td>0</td>\n",
       "      <td>0</td>\n",
       "      <td>0</td>\n",
       "    </tr>\n",
       "    <tr>\n",
       "      <th>2</th>\n",
       "      <td>0</td>\n",
       "      <td>1.0</td>\n",
       "      <td>1.0</td>\n",
       "      <td>0.0</td>\n",
       "      <td>1.0</td>\n",
       "      <td>0.0</td>\n",
       "      <td>0.0</td>\n",
       "      <td>0.0</td>\n",
       "      <td>0.0</td>\n",
       "      <td>0.0</td>\n",
       "      <td>...</td>\n",
       "      <td>0</td>\n",
       "      <td>0</td>\n",
       "      <td>0</td>\n",
       "      <td>0</td>\n",
       "      <td>0</td>\n",
       "      <td>0</td>\n",
       "      <td>0</td>\n",
       "      <td>0</td>\n",
       "      <td>1</td>\n",
       "      <td>0</td>\n",
       "    </tr>\n",
       "    <tr>\n",
       "      <th>3</th>\n",
       "      <td>0</td>\n",
       "      <td>1.0</td>\n",
       "      <td>1.0</td>\n",
       "      <td>0.0</td>\n",
       "      <td>1.0</td>\n",
       "      <td>0.0</td>\n",
       "      <td>1.0</td>\n",
       "      <td>1.0</td>\n",
       "      <td>0.0</td>\n",
       "      <td>0.0</td>\n",
       "      <td>...</td>\n",
       "      <td>0</td>\n",
       "      <td>0</td>\n",
       "      <td>0</td>\n",
       "      <td>0</td>\n",
       "      <td>0</td>\n",
       "      <td>0</td>\n",
       "      <td>0</td>\n",
       "      <td>0</td>\n",
       "      <td>0</td>\n",
       "      <td>0</td>\n",
       "    </tr>\n",
       "    <tr>\n",
       "      <th>4</th>\n",
       "      <td>0</td>\n",
       "      <td>2.0</td>\n",
       "      <td>1.0</td>\n",
       "      <td>0.0</td>\n",
       "      <td>1.0</td>\n",
       "      <td>0.0</td>\n",
       "      <td>1.0</td>\n",
       "      <td>1.0</td>\n",
       "      <td>0.0</td>\n",
       "      <td>1.0</td>\n",
       "      <td>...</td>\n",
       "      <td>0</td>\n",
       "      <td>0</td>\n",
       "      <td>0</td>\n",
       "      <td>0</td>\n",
       "      <td>0</td>\n",
       "      <td>0</td>\n",
       "      <td>0</td>\n",
       "      <td>0</td>\n",
       "      <td>0</td>\n",
       "      <td>0</td>\n",
       "    </tr>\n",
       "  </tbody>\n",
       "</table>\n",
       "<p>5 rows × 102 columns</p>\n",
       "</div>"
      ],
      "text/plain": [
       "   h1n1_vaccine  h1n1_concern  h1n1_knowledge  behavioral_antiviral_meds  \\\n",
       "0             0           1.0             0.0                        0.0   \n",
       "1             0           3.0             2.0                        0.0   \n",
       "2             0           1.0             1.0                        0.0   \n",
       "3             0           1.0             1.0                        0.0   \n",
       "4             0           2.0             1.0                        0.0   \n",
       "\n",
       "   behavioral_avoidance  behavioral_face_mask  behavioral_wash_hands  \\\n",
       "0                   0.0                   0.0                    0.0   \n",
       "1                   1.0                   0.0                    1.0   \n",
       "2                   1.0                   0.0                    0.0   \n",
       "3                   1.0                   0.0                    1.0   \n",
       "4                   1.0                   0.0                    1.0   \n",
       "\n",
       "   behavioral_large_gatherings  behavioral_outside_home  \\\n",
       "0                          0.0                      1.0   \n",
       "1                          0.0                      1.0   \n",
       "2                          0.0                      0.0   \n",
       "3                          1.0                      0.0   \n",
       "4                          1.0                      0.0   \n",
       "\n",
       "   behavioral_touch_face  ...  employment_occupation_qxajmpny  \\\n",
       "0                    1.0  ...                               0   \n",
       "1                    1.0  ...                               0   \n",
       "2                    0.0  ...                               0   \n",
       "3                    0.0  ...                               0   \n",
       "4                    1.0  ...                               0   \n",
       "\n",
       "   employment_occupation_rcertsgn  employment_occupation_tfqavkke  \\\n",
       "0                               0                               0   \n",
       "1                               0                               0   \n",
       "2                               0                               0   \n",
       "3                               0                               0   \n",
       "4                               0                               0   \n",
       "\n",
       "   employment_occupation_ukymxvdu  employment_occupation_uqqtjvyb  \\\n",
       "0                               0                               0   \n",
       "1                               0                               0   \n",
       "2                               0                               0   \n",
       "3                               0                               0   \n",
       "4                               0                               0   \n",
       "\n",
       "   employment_occupation_vlluhbov  employment_occupation_xgwztkwe  \\\n",
       "0                               0                               0   \n",
       "1                               0                               1   \n",
       "2                               0                               0   \n",
       "3                               0                               0   \n",
       "4                               0                               0   \n",
       "\n",
       "   employment_occupation_xqwwgdyp  employment_occupation_xtkaffoo  \\\n",
       "0                               0                               0   \n",
       "1                               0                               0   \n",
       "2                               0                               1   \n",
       "3                               0                               0   \n",
       "4                               0                               0   \n",
       "\n",
       "   employment_occupation_xzmlyyjv  \n",
       "0                               0  \n",
       "1                               0  \n",
       "2                               0  \n",
       "3                               0  \n",
       "4                               0  \n",
       "\n",
       "[5 rows x 102 columns]"
      ]
     },
     "execution_count": 21,
     "metadata": {},
     "output_type": "execute_result"
    }
   ],
   "source": [
    "datawd.head()"
   ]
  },
  {
   "cell_type": "code",
   "execution_count": 22,
   "id": "9f7063c9",
   "metadata": {},
   "outputs": [
    {
     "data": {
      "text/plain": [
       "<AxesSubplot:>"
      ]
     },
     "execution_count": 22,
     "metadata": {},
     "output_type": "execute_result"
    },
    {
     "data": {
      "image/png": "[encoded data removed]",
      "text/plain": [
       "<Figure size 640x480 with 2 Axes>"
      ]
     },
     "metadata": {},
     "output_type": "display_data"
    }
   ],
   "source": [
    "sns.heatmap(datawd.corr())"
   ]
  },
  {
   "cell_type": "markdown",
   "id": "f1b60ebb",
   "metadata": {},
   "source": [
    "Find all correlations over .25:"
   ]
  },
  {
   "cell_type": "code",
   "execution_count": 23,
   "id": "2eeffbf0",
   "metadata": {},
   "outputs": [],
   "source": [
    "datawdcor = datawd.corr()"
   ]
  },
  {
   "cell_type": "code",
   "execution_count": 24,
   "id": "5b4f5255",
   "metadata": {},
   "outputs": [
    {
     "data": {
      "text/plain": [
       "[(0.39389048123870213, 'h1n1_vaccine', 'doctor_recc_h1n1'),\n",
       " (0.26934700167297715, 'h1n1_vaccine', 'opinion_h1n1_vacc_effective'),\n",
       " (0.32326466034778245, 'h1n1_vaccine', 'opinion_h1n1_risk'),\n",
       " (0.2935651485017993, 'h1n1_concern', 'behavioral_wash_hands'),\n",
       " (0.2550310154400835, 'h1n1_concern', 'behavioral_large_gatherings'),\n",
       " (0.3770328126230567, 'h1n1_concern', 'opinion_h1n1_risk'),\n",
       " (0.3600697383652842, 'h1n1_concern', 'opinion_h1n1_sick_from_vacc'),\n",
       " (0.26208698574014516, 'h1n1_knowledge', 'education_College Graduate'),\n",
       " (0.3381295192965343, 'behavioral_avoidance', 'behavioral_wash_hands'),\n",
       " (0.3353354496707589, 'behavioral_avoidance', 'behavioral_touch_face'),\n",
       " (0.2935651485017993, 'behavioral_wash_hands', 'h1n1_concern'),\n",
       " (0.3381295192965343, 'behavioral_wash_hands', 'behavioral_avoidance'),\n",
       " (0.36506407130000645, 'behavioral_wash_hands', 'behavioral_touch_face'),\n",
       " (0.2550310154400835, 'behavioral_large_gatherings', 'h1n1_concern'),\n",
       " (0.5840845791409999,\n",
       "  'behavioral_large_gatherings',\n",
       "  'behavioral_outside_home'),\n",
       " (0.2536834927481906, 'behavioral_large_gatherings', 'behavioral_touch_face'),\n",
       " (0.5840845791409999,\n",
       "  'behavioral_outside_home',\n",
       "  'behavioral_large_gatherings'),\n",
       " (0.2677190664527069, 'behavioral_outside_home', 'behavioral_touch_face'),\n",
       " (0.3353354496707589, 'behavioral_touch_face', 'behavioral_avoidance'),\n",
       " (0.36506407130000645, 'behavioral_touch_face', 'behavioral_wash_hands'),\n",
       " (0.2536834927481906, 'behavioral_touch_face', 'behavioral_large_gatherings'),\n",
       " (0.2677190664527069, 'behavioral_touch_face', 'behavioral_outside_home'),\n",
       " (0.39389048123870213, 'doctor_recc_h1n1', 'h1n1_vaccine'),\n",
       " (0.2628258764271389, 'doctor_recc_h1n1', 'opinion_h1n1_risk'),\n",
       " (0.6957020042420936, 'health_worker', 'employment_industry_fcxhlnwr'),\n",
       " (0.5662825912098038, 'health_worker', 'employment_occupation_cmhcxjea'),\n",
       " (0.26310580503661385, 'health_worker', 'employment_occupation_haliazsg'),\n",
       " (0.26934700167297715, 'opinion_h1n1_vacc_effective', 'h1n1_vaccine'),\n",
       " (0.26130398188495424, 'opinion_h1n1_vacc_effective', 'opinion_h1n1_risk'),\n",
       " (0.32326466034778245, 'opinion_h1n1_risk', 'h1n1_vaccine'),\n",
       " (0.3770328126230567, 'opinion_h1n1_risk', 'h1n1_concern'),\n",
       " (0.2628258764271389, 'opinion_h1n1_risk', 'doctor_recc_h1n1'),\n",
       " (0.26130398188495424, 'opinion_h1n1_risk', 'opinion_h1n1_vacc_effective'),\n",
       " (0.3350616829138996, 'opinion_h1n1_risk', 'opinion_h1n1_sick_from_vacc'),\n",
       " (0.3600697383652842, 'opinion_h1n1_sick_from_vacc', 'h1n1_concern'),\n",
       " (0.3350616829138996, 'opinion_h1n1_sick_from_vacc', 'opinion_h1n1_risk'),\n",
       " (0.36678174645399675, 'household_adults', 'marital_status_Married'),\n",
       " (0.37483947759097397, 'household_children', 'age_group_35 - 44 Years'),\n",
       " (0.37483947759097397, 'age_group_35 - 44 Years', 'household_children'),\n",
       " (0.49887960856341196,\n",
       "  'age_group_65+ Years',\n",
       "  'employment_status_Not in Labor Force'),\n",
       " (0.26208698574014516, 'education_College Graduate', 'h1n1_knowledge'),\n",
       " (0.34110774216298484,\n",
       "  'education_College Graduate',\n",
       "  'income_poverty_> $75,000'),\n",
       " (0.34110774216298484,\n",
       "  'income_poverty_> $75,000',\n",
       "  'education_College Graduate'),\n",
       " (0.30253639957607753, 'income_poverty_> $75,000', 'marital_status_Married'),\n",
       " (0.2606843908753898, 'income_poverty_> $75,000', 'rent_or_own_Own'),\n",
       " (0.2775746406967272,\n",
       "  'income_poverty_> $75,000',\n",
       "  'employment_status_Employed'),\n",
       " (0.2850414010843407, 'income_poverty_Below Poverty', 'rent_or_own_Rent'),\n",
       " (0.36678174645399675, 'marital_status_Married', 'household_adults'),\n",
       " (0.30253639957607753, 'marital_status_Married', 'income_poverty_> $75,000'),\n",
       " (0.3266380558077205, 'marital_status_Married', 'rent_or_own_Own'),\n",
       " (0.29656314045443566, 'marital_status_Not Married', 'rent_or_own_Rent'),\n",
       " (0.2606843908753898, 'rent_or_own_Own', 'income_poverty_> $75,000'),\n",
       " (0.3266380558077205, 'rent_or_own_Own', 'marital_status_Married'),\n",
       " (0.2850414010843407, 'rent_or_own_Rent', 'income_poverty_Below Poverty'),\n",
       " (0.29656314045443566, 'rent_or_own_Rent', 'marital_status_Not Married'),\n",
       " (0.2775746406967272,\n",
       "  'employment_status_Employed',\n",
       "  'income_poverty_> $75,000'),\n",
       " (0.31419459884502976,\n",
       "  'employment_status_Employed',\n",
       "  'employment_industry_fcxhlnwr'),\n",
       " (0.2650183336910532,\n",
       "  'employment_status_Employed',\n",
       "  'employment_industry_wxleyezf'),\n",
       " (0.2629643868838601,\n",
       "  'employment_status_Employed',\n",
       "  'employment_occupation_xtkaffoo'),\n",
       " (0.49887960856341196,\n",
       "  'employment_status_Not in Labor Force',\n",
       "  'age_group_65+ Years'),\n",
       " (0.3435214056900263,\n",
       "  'employment_industry_arjwrbjb',\n",
       "  'employment_occupation_dlvbwzss'),\n",
       " (0.4738956275838089,\n",
       "  'employment_industry_atmlpfrs',\n",
       "  'employment_occupation_xqwwgdyp'),\n",
       " (0.6957020042420936, 'employment_industry_fcxhlnwr', 'health_worker'),\n",
       " (0.31419459884502976,\n",
       "  'employment_industry_fcxhlnwr',\n",
       "  'employment_status_Employed'),\n",
       " (0.5985805417934851,\n",
       "  'employment_industry_fcxhlnwr',\n",
       "  'employment_occupation_cmhcxjea'),\n",
       " (0.3046014631904576,\n",
       "  'employment_industry_fcxhlnwr',\n",
       "  'employment_occupation_haliazsg'),\n",
       " (0.25474617182190257,\n",
       "  'employment_industry_ldnlellj',\n",
       "  'employment_occupation_kldqjyjy'),\n",
       " (0.2914899962581783,\n",
       "  'employment_industry_ldnlellj',\n",
       "  'employment_occupation_xzmlyyjv'),\n",
       " (0.31385852524886726,\n",
       "  'employment_industry_mcubkhph',\n",
       "  'employment_occupation_ukymxvdu'),\n",
       " (0.5471991559572781,\n",
       "  'employment_industry_nduyfdeo',\n",
       "  'employment_occupation_pvmttkik'),\n",
       " (0.5770399860991433,\n",
       "  'employment_industry_pxcmvdjn',\n",
       "  'employment_occupation_xgwztkwe'),\n",
       " (0.676176665195148,\n",
       "  'employment_industry_rucpziij',\n",
       "  'employment_occupation_tfqavkke'),\n",
       " (0.3529894788631676,\n",
       "  'employment_industry_saaquncn',\n",
       "  'employment_occupation_vlluhbov'),\n",
       " (0.2703028826831971,\n",
       "  'employment_industry_vjjrobsf',\n",
       "  'employment_occupation_oijqvulv'),\n",
       " (0.2650183336910532,\n",
       "  'employment_industry_wxleyezf',\n",
       "  'employment_status_Employed'),\n",
       " (0.7656918753146569,\n",
       "  'employment_industry_wxleyezf',\n",
       "  'employment_occupation_emcorrxb'),\n",
       " (0.6805095244469337,\n",
       "  'employment_industry_xicduogh',\n",
       "  'employment_occupation_qxajmpny'),\n",
       " (0.46055853982691686,\n",
       "  'employment_industry_xqicxuve',\n",
       "  'employment_occupation_uqqtjvyb'),\n",
       " (0.5662825912098038, 'employment_occupation_cmhcxjea', 'health_worker'),\n",
       " (0.5985805417934851,\n",
       "  'employment_occupation_cmhcxjea',\n",
       "  'employment_industry_fcxhlnwr'),\n",
       " (0.3435214056900263,\n",
       "  'employment_occupation_dlvbwzss',\n",
       "  'employment_industry_arjwrbjb'),\n",
       " (0.7656918753146569,\n",
       "  'employment_occupation_emcorrxb',\n",
       "  'employment_industry_wxleyezf'),\n",
       " (0.26310580503661385, 'employment_occupation_haliazsg', 'health_worker'),\n",
       " (0.3046014631904576,\n",
       "  'employment_occupation_haliazsg',\n",
       "  'employment_industry_fcxhlnwr'),\n",
       " (0.25474617182190257,\n",
       "  'employment_occupation_kldqjyjy',\n",
       "  'employment_industry_ldnlellj'),\n",
       " (0.2703028826831971,\n",
       "  'employment_occupation_oijqvulv',\n",
       "  'employment_industry_vjjrobsf'),\n",
       " (0.5471991559572781,\n",
       "  'employment_occupation_pvmttkik',\n",
       "  'employment_industry_nduyfdeo'),\n",
       " (0.6805095244469337,\n",
       "  'employment_occupation_qxajmpny',\n",
       "  'employment_industry_xicduogh'),\n",
       " (0.676176665195148,\n",
       "  'employment_occupation_tfqavkke',\n",
       "  'employment_industry_rucpziij'),\n",
       " (0.31385852524886726,\n",
       "  'employment_occupation_ukymxvdu',\n",
       "  'employment_industry_mcubkhph'),\n",
       " (0.46055853982691686,\n",
       "  'employment_occupation_uqqtjvyb',\n",
       "  'employment_industry_xqicxuve'),\n",
       " (0.3529894788631676,\n",
       "  'employment_occupation_vlluhbov',\n",
       "  'employment_industry_saaquncn'),\n",
       " (0.5770399860991433,\n",
       "  'employment_occupation_xgwztkwe',\n",
       "  'employment_industry_pxcmvdjn'),\n",
       " (0.4738956275838089,\n",
       "  'employment_occupation_xqwwgdyp',\n",
       "  'employment_industry_atmlpfrs'),\n",
       " (0.2629643868838601,\n",
       "  'employment_occupation_xtkaffoo',\n",
       "  'employment_status_Employed'),\n",
       " (0.2914899962581783,\n",
       "  'employment_occupation_xzmlyyjv',\n",
       "  'employment_industry_ldnlellj')]"
      ]
     },
     "execution_count": 24,
     "metadata": {},
     "output_type": "execute_result"
    }
   ],
   "source": [
    "corrs=[]\n",
    "\n",
    "for i in range(len(datawdcor)):#iter over rows\n",
    "    for j in range(len(datawdcor)):#iter over cols\n",
    "        if abs((datawdcor[datawdcor.columns[i]][datawdcor.columns[j]])>.25) & (datawdcor[datawdcor.columns[i]][datawdcor.columns[j]] !=1.0):\n",
    "            tup = datawdcor[datawdcor.columns[i]][datawdcor.columns[j]],datawdcor.columns[i], datawdcor.columns[j]\n",
    "            corrs.append(tup)\n",
    "corrs    \n",
    "    "
   ]
  },
  {
   "cell_type": "code",
   "execution_count": 25,
   "id": "158ca3bc",
   "metadata": {},
   "outputs": [],
   "source": [
    "#Convert list of tuples to DF.\n",
    "corrlist =[]\n",
    "var1 =[]\n",
    "var2 =[]\n",
    "for i in corrs:\n",
    "    corrlist.append(i[0])\n",
    "    var1.append(i[1])\n",
    "    var2.append(i[2])\n",
    "corrdf = pd.DataFrame([corrlist,var1, var2]).transpose()        "
   ]
  },
  {
   "cell_type": "markdown",
   "id": "31240859",
   "metadata": {},
   "source": [
    "Find signficant correlations with target variable."
   ]
  },
  {
   "cell_type": "code",
   "execution_count": 26,
   "id": "105ad1be",
   "metadata": {},
   "outputs": [
    {
     "data": {
      "text/html": [
       "<div>\n",
       "<style scoped>\n",
       "    .dataframe tbody tr th:only-of-type {\n",
       "        vertical-align: middle;\n",
       "    }\n",
       "\n",
       "    .dataframe tbody tr th {\n",
       "        vertical-align: top;\n",
       "    }\n",
       "\n",
       "    .dataframe thead th {\n",
       "        text-align: right;\n",
       "    }\n",
       "</style>\n",
       "<table border=\"1\" class=\"dataframe\">\n",
       "  <thead>\n",
       "    <tr style=\"text-align: right;\">\n",
       "      <th></th>\n",
       "      <th>0</th>\n",
       "      <th>1</th>\n",
       "      <th>2</th>\n",
       "    </tr>\n",
       "  </thead>\n",
       "  <tbody>\n",
       "    <tr>\n",
       "      <th>0</th>\n",
       "      <td>0.39389</td>\n",
       "      <td>h1n1_vaccine</td>\n",
       "      <td>doctor_recc_h1n1</td>\n",
       "    </tr>\n",
       "    <tr>\n",
       "      <th>1</th>\n",
       "      <td>0.269347</td>\n",
       "      <td>h1n1_vaccine</td>\n",
       "      <td>opinion_h1n1_vacc_effective</td>\n",
       "    </tr>\n",
       "    <tr>\n",
       "      <th>2</th>\n",
       "      <td>0.323265</td>\n",
       "      <td>h1n1_vaccine</td>\n",
       "      <td>opinion_h1n1_risk</td>\n",
       "    </tr>\n",
       "    <tr>\n",
       "      <th>22</th>\n",
       "      <td>0.39389</td>\n",
       "      <td>doctor_recc_h1n1</td>\n",
       "      <td>h1n1_vaccine</td>\n",
       "    </tr>\n",
       "    <tr>\n",
       "      <th>27</th>\n",
       "      <td>0.269347</td>\n",
       "      <td>opinion_h1n1_vacc_effective</td>\n",
       "      <td>h1n1_vaccine</td>\n",
       "    </tr>\n",
       "    <tr>\n",
       "      <th>29</th>\n",
       "      <td>0.323265</td>\n",
       "      <td>opinion_h1n1_risk</td>\n",
       "      <td>h1n1_vaccine</td>\n",
       "    </tr>\n",
       "  </tbody>\n",
       "</table>\n",
       "</div>"
      ],
      "text/plain": [
       "           0                            1                            2\n",
       "0    0.39389                 h1n1_vaccine             doctor_recc_h1n1\n",
       "1   0.269347                 h1n1_vaccine  opinion_h1n1_vacc_effective\n",
       "2   0.323265                 h1n1_vaccine            opinion_h1n1_risk\n",
       "22   0.39389             doctor_recc_h1n1                 h1n1_vaccine\n",
       "27  0.269347  opinion_h1n1_vacc_effective                 h1n1_vaccine\n",
       "29  0.323265            opinion_h1n1_risk                 h1n1_vaccine"
      ]
     },
     "execution_count": 26,
     "metadata": {},
     "output_type": "execute_result"
    }
   ],
   "source": [
    "corrdf.loc[(corrdf[1]=='h1n1_vaccine')|(corrdf[2]=='h1n1_vaccine')]"
   ]
  },
  {
   "cell_type": "markdown",
   "id": "705c7685",
   "metadata": {},
   "source": [
    "Significant correlations are: Doctor reccomendation, opinion of virus risk, opinion of vaccine effective."
   ]
  },
  {
   "cell_type": "markdown",
   "id": "55a34378",
   "metadata": {},
   "source": [
    "Check these potential predictors correlations amongst each other"
   ]
  },
  {
   "cell_type": "code",
   "execution_count": 27,
   "id": "d55b9120",
   "metadata": {},
   "outputs": [
    {
     "data": {
      "text/html": [
       "<div>\n",
       "<style scoped>\n",
       "    .dataframe tbody tr th:only-of-type {\n",
       "        vertical-align: middle;\n",
       "    }\n",
       "\n",
       "    .dataframe tbody tr th {\n",
       "        vertical-align: top;\n",
       "    }\n",
       "\n",
       "    .dataframe thead th {\n",
       "        text-align: right;\n",
       "    }\n",
       "</style>\n",
       "<table border=\"1\" class=\"dataframe\">\n",
       "  <thead>\n",
       "    <tr style=\"text-align: right;\">\n",
       "      <th></th>\n",
       "      <th>0</th>\n",
       "      <th>1</th>\n",
       "      <th>2</th>\n",
       "    </tr>\n",
       "  </thead>\n",
       "  <tbody>\n",
       "    <tr>\n",
       "      <th>66</th>\n",
       "      <td>0.254746</td>\n",
       "      <td>employment_industry_ldnlellj</td>\n",
       "      <td>employment_occupation_kldqjyjy</td>\n",
       "    </tr>\n",
       "    <tr>\n",
       "      <th>67</th>\n",
       "      <td>0.29149</td>\n",
       "      <td>employment_industry_ldnlellj</td>\n",
       "      <td>employment_occupation_xzmlyyjv</td>\n",
       "    </tr>\n",
       "    <tr>\n",
       "      <th>68</th>\n",
       "      <td>0.313859</td>\n",
       "      <td>employment_industry_mcubkhph</td>\n",
       "      <td>employment_occupation_ukymxvdu</td>\n",
       "    </tr>\n",
       "    <tr>\n",
       "      <th>69</th>\n",
       "      <td>0.547199</td>\n",
       "      <td>employment_industry_nduyfdeo</td>\n",
       "      <td>employment_occupation_pvmttkik</td>\n",
       "    </tr>\n",
       "    <tr>\n",
       "      <th>70</th>\n",
       "      <td>0.57704</td>\n",
       "      <td>employment_industry_pxcmvdjn</td>\n",
       "      <td>employment_occupation_xgwztkwe</td>\n",
       "    </tr>\n",
       "    <tr>\n",
       "      <th>71</th>\n",
       "      <td>0.676177</td>\n",
       "      <td>employment_industry_rucpziij</td>\n",
       "      <td>employment_occupation_tfqavkke</td>\n",
       "    </tr>\n",
       "    <tr>\n",
       "      <th>72</th>\n",
       "      <td>0.352989</td>\n",
       "      <td>employment_industry_saaquncn</td>\n",
       "      <td>employment_occupation_vlluhbov</td>\n",
       "    </tr>\n",
       "    <tr>\n",
       "      <th>73</th>\n",
       "      <td>0.270303</td>\n",
       "      <td>employment_industry_vjjrobsf</td>\n",
       "      <td>employment_occupation_oijqvulv</td>\n",
       "    </tr>\n",
       "    <tr>\n",
       "      <th>74</th>\n",
       "      <td>0.265018</td>\n",
       "      <td>employment_industry_wxleyezf</td>\n",
       "      <td>employment_status_Employed</td>\n",
       "    </tr>\n",
       "    <tr>\n",
       "      <th>75</th>\n",
       "      <td>0.765692</td>\n",
       "      <td>employment_industry_wxleyezf</td>\n",
       "      <td>employment_occupation_emcorrxb</td>\n",
       "    </tr>\n",
       "    <tr>\n",
       "      <th>76</th>\n",
       "      <td>0.68051</td>\n",
       "      <td>employment_industry_xicduogh</td>\n",
       "      <td>employment_occupation_qxajmpny</td>\n",
       "    </tr>\n",
       "    <tr>\n",
       "      <th>77</th>\n",
       "      <td>0.460559</td>\n",
       "      <td>employment_industry_xqicxuve</td>\n",
       "      <td>employment_occupation_uqqtjvyb</td>\n",
       "    </tr>\n",
       "    <tr>\n",
       "      <th>78</th>\n",
       "      <td>0.566283</td>\n",
       "      <td>employment_occupation_cmhcxjea</td>\n",
       "      <td>health_worker</td>\n",
       "    </tr>\n",
       "    <tr>\n",
       "      <th>79</th>\n",
       "      <td>0.598581</td>\n",
       "      <td>employment_occupation_cmhcxjea</td>\n",
       "      <td>employment_industry_fcxhlnwr</td>\n",
       "    </tr>\n",
       "    <tr>\n",
       "      <th>80</th>\n",
       "      <td>0.343521</td>\n",
       "      <td>employment_occupation_dlvbwzss</td>\n",
       "      <td>employment_industry_arjwrbjb</td>\n",
       "    </tr>\n",
       "    <tr>\n",
       "      <th>81</th>\n",
       "      <td>0.765692</td>\n",
       "      <td>employment_occupation_emcorrxb</td>\n",
       "      <td>employment_industry_wxleyezf</td>\n",
       "    </tr>\n",
       "    <tr>\n",
       "      <th>82</th>\n",
       "      <td>0.263106</td>\n",
       "      <td>employment_occupation_haliazsg</td>\n",
       "      <td>health_worker</td>\n",
       "    </tr>\n",
       "    <tr>\n",
       "      <th>83</th>\n",
       "      <td>0.304601</td>\n",
       "      <td>employment_occupation_haliazsg</td>\n",
       "      <td>employment_industry_fcxhlnwr</td>\n",
       "    </tr>\n",
       "    <tr>\n",
       "      <th>84</th>\n",
       "      <td>0.254746</td>\n",
       "      <td>employment_occupation_kldqjyjy</td>\n",
       "      <td>employment_industry_ldnlellj</td>\n",
       "    </tr>\n",
       "    <tr>\n",
       "      <th>85</th>\n",
       "      <td>0.270303</td>\n",
       "      <td>employment_occupation_oijqvulv</td>\n",
       "      <td>employment_industry_vjjrobsf</td>\n",
       "    </tr>\n",
       "    <tr>\n",
       "      <th>86</th>\n",
       "      <td>0.547199</td>\n",
       "      <td>employment_occupation_pvmttkik</td>\n",
       "      <td>employment_industry_nduyfdeo</td>\n",
       "    </tr>\n",
       "    <tr>\n",
       "      <th>87</th>\n",
       "      <td>0.68051</td>\n",
       "      <td>employment_occupation_qxajmpny</td>\n",
       "      <td>employment_industry_xicduogh</td>\n",
       "    </tr>\n",
       "    <tr>\n",
       "      <th>88</th>\n",
       "      <td>0.676177</td>\n",
       "      <td>employment_occupation_tfqavkke</td>\n",
       "      <td>employment_industry_rucpziij</td>\n",
       "    </tr>\n",
       "    <tr>\n",
       "      <th>89</th>\n",
       "      <td>0.313859</td>\n",
       "      <td>employment_occupation_ukymxvdu</td>\n",
       "      <td>employment_industry_mcubkhph</td>\n",
       "    </tr>\n",
       "    <tr>\n",
       "      <th>90</th>\n",
       "      <td>0.460559</td>\n",
       "      <td>employment_occupation_uqqtjvyb</td>\n",
       "      <td>employment_industry_xqicxuve</td>\n",
       "    </tr>\n",
       "    <tr>\n",
       "      <th>91</th>\n",
       "      <td>0.352989</td>\n",
       "      <td>employment_occupation_vlluhbov</td>\n",
       "      <td>employment_industry_saaquncn</td>\n",
       "    </tr>\n",
       "    <tr>\n",
       "      <th>92</th>\n",
       "      <td>0.57704</td>\n",
       "      <td>employment_occupation_xgwztkwe</td>\n",
       "      <td>employment_industry_pxcmvdjn</td>\n",
       "    </tr>\n",
       "    <tr>\n",
       "      <th>93</th>\n",
       "      <td>0.473896</td>\n",
       "      <td>employment_occupation_xqwwgdyp</td>\n",
       "      <td>employment_industry_atmlpfrs</td>\n",
       "    </tr>\n",
       "    <tr>\n",
       "      <th>94</th>\n",
       "      <td>0.262964</td>\n",
       "      <td>employment_occupation_xtkaffoo</td>\n",
       "      <td>employment_status_Employed</td>\n",
       "    </tr>\n",
       "    <tr>\n",
       "      <th>95</th>\n",
       "      <td>0.29149</td>\n",
       "      <td>employment_occupation_xzmlyyjv</td>\n",
       "      <td>employment_industry_ldnlellj</td>\n",
       "    </tr>\n",
       "  </tbody>\n",
       "</table>\n",
       "</div>"
      ],
      "text/plain": [
       "           0                               1                               2\n",
       "66  0.254746    employment_industry_ldnlellj  employment_occupation_kldqjyjy\n",
       "67   0.29149    employment_industry_ldnlellj  employment_occupation_xzmlyyjv\n",
       "68  0.313859    employment_industry_mcubkhph  employment_occupation_ukymxvdu\n",
       "69  0.547199    employment_industry_nduyfdeo  employment_occupation_pvmttkik\n",
       "70   0.57704    employment_industry_pxcmvdjn  employment_occupation_xgwztkwe\n",
       "71  0.676177    employment_industry_rucpziij  employment_occupation_tfqavkke\n",
       "72  0.352989    employment_industry_saaquncn  employment_occupation_vlluhbov\n",
       "73  0.270303    employment_industry_vjjrobsf  employment_occupation_oijqvulv\n",
       "74  0.265018    employment_industry_wxleyezf      employment_status_Employed\n",
       "75  0.765692    employment_industry_wxleyezf  employment_occupation_emcorrxb\n",
       "76   0.68051    employment_industry_xicduogh  employment_occupation_qxajmpny\n",
       "77  0.460559    employment_industry_xqicxuve  employment_occupation_uqqtjvyb\n",
       "78  0.566283  employment_occupation_cmhcxjea                   health_worker\n",
       "79  0.598581  employment_occupation_cmhcxjea    employment_industry_fcxhlnwr\n",
       "80  0.343521  employment_occupation_dlvbwzss    employment_industry_arjwrbjb\n",
       "81  0.765692  employment_occupation_emcorrxb    employment_industry_wxleyezf\n",
       "82  0.263106  employment_occupation_haliazsg                   health_worker\n",
       "83  0.304601  employment_occupation_haliazsg    employment_industry_fcxhlnwr\n",
       "84  0.254746  employment_occupation_kldqjyjy    employment_industry_ldnlellj\n",
       "85  0.270303  employment_occupation_oijqvulv    employment_industry_vjjrobsf\n",
       "86  0.547199  employment_occupation_pvmttkik    employment_industry_nduyfdeo\n",
       "87   0.68051  employment_occupation_qxajmpny    employment_industry_xicduogh\n",
       "88  0.676177  employment_occupation_tfqavkke    employment_industry_rucpziij\n",
       "89  0.313859  employment_occupation_ukymxvdu    employment_industry_mcubkhph\n",
       "90  0.460559  employment_occupation_uqqtjvyb    employment_industry_xqicxuve\n",
       "91  0.352989  employment_occupation_vlluhbov    employment_industry_saaquncn\n",
       "92   0.57704  employment_occupation_xgwztkwe    employment_industry_pxcmvdjn\n",
       "93  0.473896  employment_occupation_xqwwgdyp    employment_industry_atmlpfrs\n",
       "94  0.262964  employment_occupation_xtkaffoo      employment_status_Employed\n",
       "95   0.29149  employment_occupation_xzmlyyjv    employment_industry_ldnlellj"
      ]
     },
     "execution_count": 27,
     "metadata": {},
     "output_type": "execute_result"
    }
   ],
   "source": [
    "corrdf.tail(30)"
   ]
  },
  {
   "cell_type": "markdown",
   "id": "d8557766",
   "metadata": {},
   "source": [
    "The potential predictor variables are not highly correlated amonst each other."
   ]
  },
  {
   "cell_type": "markdown",
   "id": "d5fb34b2",
   "metadata": {},
   "source": [
    "# Data preparation"
   ]
  },
  {
   "cell_type": "markdown",
   "id": "e8fd0866",
   "metadata": {},
   "source": [
    "Separate predictor variables and target variables from unused data, fill in missing values and then split both into train and test sets.  "
   ]
  },
  {
   "cell_type": "code",
   "execution_count": 28,
   "id": "fab2704b",
   "metadata": {},
   "outputs": [],
   "source": [
    "from sklearn.model_selection import train_test_split"
   ]
  },
  {
   "cell_type": "code",
   "execution_count": 29,
   "id": "c4efdbff",
   "metadata": {},
   "outputs": [],
   "source": [
    "\n",
    "dataPT= datawd.loc[:,['doctor_recc_h1n1', 'opinion_h1n1_risk', 'opinion_h1n1_vacc_effective', 'h1n1_vaccine']]"
   ]
  },
  {
   "cell_type": "code",
   "execution_count": 30,
   "id": "ec3b8333",
   "metadata": {},
   "outputs": [
    {
     "data": {
      "text/html": [
       "<div>\n",
       "<style scoped>\n",
       "    .dataframe tbody tr th:only-of-type {\n",
       "        vertical-align: middle;\n",
       "    }\n",
       "\n",
       "    .dataframe tbody tr th {\n",
       "        vertical-align: top;\n",
       "    }\n",
       "\n",
       "    .dataframe thead th {\n",
       "        text-align: right;\n",
       "    }\n",
       "</style>\n",
       "<table border=\"1\" class=\"dataframe\">\n",
       "  <thead>\n",
       "    <tr style=\"text-align: right;\">\n",
       "      <th></th>\n",
       "      <th>doctor_recc_h1n1</th>\n",
       "      <th>opinion_h1n1_risk</th>\n",
       "      <th>opinion_h1n1_vacc_effective</th>\n",
       "      <th>h1n1_vaccine</th>\n",
       "    </tr>\n",
       "  </thead>\n",
       "  <tbody>\n",
       "    <tr>\n",
       "      <th>count</th>\n",
       "      <td>24547.000000</td>\n",
       "      <td>26319.000000</td>\n",
       "      <td>26316.000000</td>\n",
       "      <td>26707.000000</td>\n",
       "    </tr>\n",
       "    <tr>\n",
       "      <th>mean</th>\n",
       "      <td>0.220312</td>\n",
       "      <td>2.342566</td>\n",
       "      <td>3.850623</td>\n",
       "      <td>0.212454</td>\n",
       "    </tr>\n",
       "    <tr>\n",
       "      <th>std</th>\n",
       "      <td>0.414466</td>\n",
       "      <td>1.285539</td>\n",
       "      <td>1.007436</td>\n",
       "      <td>0.409052</td>\n",
       "    </tr>\n",
       "    <tr>\n",
       "      <th>min</th>\n",
       "      <td>0.000000</td>\n",
       "      <td>1.000000</td>\n",
       "      <td>1.000000</td>\n",
       "      <td>0.000000</td>\n",
       "    </tr>\n",
       "    <tr>\n",
       "      <th>25%</th>\n",
       "      <td>0.000000</td>\n",
       "      <td>1.000000</td>\n",
       "      <td>3.000000</td>\n",
       "      <td>0.000000</td>\n",
       "    </tr>\n",
       "    <tr>\n",
       "      <th>50%</th>\n",
       "      <td>0.000000</td>\n",
       "      <td>2.000000</td>\n",
       "      <td>4.000000</td>\n",
       "      <td>0.000000</td>\n",
       "    </tr>\n",
       "    <tr>\n",
       "      <th>75%</th>\n",
       "      <td>0.000000</td>\n",
       "      <td>4.000000</td>\n",
       "      <td>5.000000</td>\n",
       "      <td>0.000000</td>\n",
       "    </tr>\n",
       "    <tr>\n",
       "      <th>max</th>\n",
       "      <td>1.000000</td>\n",
       "      <td>5.000000</td>\n",
       "      <td>5.000000</td>\n",
       "      <td>1.000000</td>\n",
       "    </tr>\n",
       "  </tbody>\n",
       "</table>\n",
       "</div>"
      ],
      "text/plain": [
       "       doctor_recc_h1n1  opinion_h1n1_risk  opinion_h1n1_vacc_effective  \\\n",
       "count      24547.000000       26319.000000                 26316.000000   \n",
       "mean           0.220312           2.342566                     3.850623   \n",
       "std            0.414466           1.285539                     1.007436   \n",
       "min            0.000000           1.000000                     1.000000   \n",
       "25%            0.000000           1.000000                     3.000000   \n",
       "50%            0.000000           2.000000                     4.000000   \n",
       "75%            0.000000           4.000000                     5.000000   \n",
       "max            1.000000           5.000000                     5.000000   \n",
       "\n",
       "       h1n1_vaccine  \n",
       "count  26707.000000  \n",
       "mean       0.212454  \n",
       "std        0.409052  \n",
       "min        0.000000  \n",
       "25%        0.000000  \n",
       "50%        0.000000  \n",
       "75%        0.000000  \n",
       "max        1.000000  "
      ]
     },
     "execution_count": 30,
     "metadata": {},
     "output_type": "execute_result"
    }
   ],
   "source": [
    "dataPT.describe()"
   ]
  },
  {
   "cell_type": "code",
   "execution_count": 31,
   "id": "f14ff596",
   "metadata": {},
   "outputs": [],
   "source": [
    "#len(X.loc[X.doctor_recc_h1n1.notna() & X.opinion_h1n1_risk.notna() & X.opinion_h1n1_vacc_effective.notna()])"
   ]
  },
  {
   "cell_type": "code",
   "execution_count": null,
   "id": "f670cc9a",
   "metadata": {},
   "outputs": [],
   "source": []
  },
  {
   "cell_type": "code",
   "execution_count": 32,
   "id": "638eac65",
   "metadata": {},
   "outputs": [],
   "source": [
    "dataPT = dataPT.dropna(axis=0)"
   ]
  },
  {
   "cell_type": "code",
   "execution_count": 33,
   "id": "e90cf6c3",
   "metadata": {},
   "outputs": [
    {
     "name": "stdout",
     "output_type": "stream",
     "text": [
      "<class 'pandas.core.frame.DataFrame'>\n",
      "Int64Index: 24246 entries, 0 to 26706\n",
      "Data columns (total 4 columns):\n",
      " #   Column                       Non-Null Count  Dtype  \n",
      "---  ------                       --------------  -----  \n",
      " 0   doctor_recc_h1n1             24246 non-null  float64\n",
      " 1   opinion_h1n1_risk            24246 non-null  float64\n",
      " 2   opinion_h1n1_vacc_effective  24246 non-null  float64\n",
      " 3   h1n1_vaccine                 24246 non-null  int64  \n",
      "dtypes: float64(3), int64(1)\n",
      "memory usage: 947.1 KB\n"
     ]
    }
   ],
   "source": [
    "dataPT.info()"
   ]
  },
  {
   "cell_type": "code",
   "execution_count": 34,
   "id": "ff9f73ab",
   "metadata": {},
   "outputs": [],
   "source": [
    "y = dataPT['h1n1_vaccine']\n",
    "X= dataPT.drop('h1n1_vaccine',axis=1)"
   ]
  },
  {
   "cell_type": "code",
   "execution_count": 35,
   "id": "c4a4a87e",
   "metadata": {},
   "outputs": [
    {
     "data": {
      "text/plain": [
       "((24246,), (24246, 3))"
      ]
     },
     "execution_count": 35,
     "metadata": {},
     "output_type": "execute_result"
    }
   ],
   "source": [
    "np.shape(y), np.shape(X)"
   ]
  },
  {
   "cell_type": "code",
   "execution_count": 36,
   "id": "a5dc831d",
   "metadata": {},
   "outputs": [],
   "source": [
    "X_train, X_test, y_train, y_test = train_test_split(X, y)"
   ]
  },
  {
   "cell_type": "code",
   "execution_count": 37,
   "id": "d14ec661",
   "metadata": {},
   "outputs": [
    {
     "data": {
      "text/plain": [
       "((6062, 3), (18184,))"
      ]
     },
     "execution_count": 37,
     "metadata": {},
     "output_type": "execute_result"
    }
   ],
   "source": [
    "np.shape(X_test), np.shape(y_train)"
   ]
  },
  {
   "cell_type": "markdown",
   "id": "7af4a407",
   "metadata": {},
   "source": [
    "# Data Modeling"
   ]
  },
  {
   "cell_type": "markdown",
   "id": "1fd99041",
   "metadata": {},
   "source": [
    "In the data modeling section, I start from a baseline logistic regression using three features and the response variable (whether the person has received the H1N1 vaccine).  From there, I explore non-parametric models, starting with a fairly simple decision tree model.  Based on the the results from this model, a more complex tree model is fitted and evaluated."
   ]
  },
  {
   "cell_type": "code",
   "execution_count": 38,
   "id": "e80eb7f0",
   "metadata": {},
   "outputs": [],
   "source": [
    "from sklearn.linear_model import LogisticRegression"
   ]
  },
  {
   "cell_type": "code",
   "execution_count": 39,
   "id": "fb29857c",
   "metadata": {},
   "outputs": [],
   "source": [
    "reg = LogisticRegression(C=1e5, solver = \"liblinear\") "
   ]
  },
  {
   "cell_type": "code",
   "execution_count": 40,
   "id": "fb4635cc",
   "metadata": {},
   "outputs": [
    {
     "data": {
      "text/plain": [
       "LogisticRegression(C=100000.0, solver='liblinear')"
      ]
     },
     "execution_count": 40,
     "metadata": {},
     "output_type": "execute_result"
    }
   ],
   "source": [
    "reg.fit(X_train, y_train)"
   ]
  },
  {
   "cell_type": "markdown",
   "id": "19841e04",
   "metadata": {},
   "source": [
    "Check accuracies below:"
   ]
  },
  {
   "cell_type": "code",
   "execution_count": 41,
   "id": "7c3eebfc",
   "metadata": {},
   "outputs": [
    {
     "data": {
      "text/plain": [
       "0.817146942366916"
      ]
     },
     "execution_count": 41,
     "metadata": {},
     "output_type": "execute_result"
    }
   ],
   "source": [
    "reg.score(X_train, y_train)"
   ]
  },
  {
   "cell_type": "code",
   "execution_count": 42,
   "id": "98eca171",
   "metadata": {},
   "outputs": [
    {
     "data": {
      "text/plain": [
       "0.8211811283404817"
      ]
     },
     "execution_count": 42,
     "metadata": {},
     "output_type": "execute_result"
    }
   ],
   "source": [
    "reg.score(X_test, y_test)"
   ]
  },
  {
   "cell_type": "code",
   "execution_count": 43,
   "id": "cffc7bed",
   "metadata": {},
   "outputs": [
    {
     "data": {
      "text/plain": [
       "array([-2.04709364, -2.04709364, -2.72000579, ..., -1.79958004,\n",
       "       -2.04709364, -2.47249219])"
      ]
     },
     "execution_count": 43,
     "metadata": {},
     "output_type": "execute_result"
    }
   ],
   "source": [
    "reg.decision_function(X_test)"
   ]
  },
  {
   "cell_type": "code",
   "execution_count": 44,
   "id": "71dabc08",
   "metadata": {},
   "outputs": [
    {
     "data": {
      "text/plain": [
       "array([[1.67491008, 0.42539856, 0.67291215]])"
      ]
     },
     "execution_count": 44,
     "metadata": {},
     "output_type": "execute_result"
    }
   ],
   "source": [
    "reg.coef_"
   ]
  },
  {
   "cell_type": "markdown",
   "id": "6c58da4f",
   "metadata": {},
   "source": [
    "Doctor recommendation appears to be the most important feature"
   ]
  },
  {
   "cell_type": "code",
   "execution_count": 45,
   "id": "4c826d10",
   "metadata": {},
   "outputs": [],
   "source": [
    "from sklearn.metrics import confusion_matrix"
   ]
  },
  {
   "cell_type": "code",
   "execution_count": 46,
   "id": "41ac4d87",
   "metadata": {},
   "outputs": [],
   "source": [
    "y_test_preds = reg.predict(X_test)\n",
    "cm = confusion_matrix(y_test, y_test_preds)\n"
   ]
  },
  {
   "cell_type": "code",
   "execution_count": 47,
   "id": "f5a4e2fa",
   "metadata": {},
   "outputs": [
    {
     "data": {
      "text/plain": [
       "array([[4450,  266],\n",
       "       [ 818,  528]], dtype=int64)"
      ]
     },
     "execution_count": 47,
     "metadata": {},
     "output_type": "execute_result"
    }
   ],
   "source": [
    "cm"
   ]
  },
  {
   "cell_type": "markdown",
   "id": "31a48c94",
   "metadata": {},
   "source": [
    "The number of false positives, 259, seems material but low, given the roughly 27,000 predicitions."
   ]
  },
  {
   "cell_type": "markdown",
   "id": "777e33dd",
   "metadata": {},
   "source": [
    "## Non-parametric model : Decision Tree"
   ]
  },
  {
   "cell_type": "code",
   "execution_count": 48,
   "id": "7fcf58cf",
   "metadata": {},
   "outputs": [],
   "source": [
    "from sklearn.tree import DecisionTreeClassifier"
   ]
  },
  {
   "cell_type": "code",
   "execution_count": 49,
   "id": "debecb44",
   "metadata": {},
   "outputs": [],
   "source": [
    "tree = DecisionTreeClassifier(criterion = 'entropy', max_depth = 5)"
   ]
  },
  {
   "cell_type": "code",
   "execution_count": 50,
   "id": "96e56740",
   "metadata": {},
   "outputs": [],
   "source": [
    "tree = tree.fit(X_train, y_train)"
   ]
  },
  {
   "cell_type": "code",
   "execution_count": 51,
   "id": "f631899e",
   "metadata": {},
   "outputs": [
    {
     "data": {
      "text/plain": [
       "0.8180268367795864"
      ]
     },
     "execution_count": 51,
     "metadata": {},
     "output_type": "execute_result"
    }
   ],
   "source": [
    "tree.score(X_train, y_train)"
   ]
  },
  {
   "cell_type": "code",
   "execution_count": 52,
   "id": "6ccf1f02",
   "metadata": {},
   "outputs": [
    {
     "data": {
      "text/plain": [
       "0.8211811283404817"
      ]
     },
     "execution_count": 52,
     "metadata": {},
     "output_type": "execute_result"
    }
   ],
   "source": [
    "tree.score(X_test, y_test)"
   ]
  },
  {
   "cell_type": "markdown",
   "id": "1b665283",
   "metadata": {},
   "source": [
    "Accuracy scores are very similar for test and train set (also to logistic regression).  Since there does not appear to be any overfitting, it may make sense to build a more complex tree to try to pick up on more patters in the training set."
   ]
  },
  {
   "cell_type": "code",
   "execution_count": 53,
   "id": "34fcfc87",
   "metadata": {},
   "outputs": [
    {
     "data": {
      "text/plain": [
       "array([[4428,  288],\n",
       "       [ 796,  550]], dtype=int64)"
      ]
     },
     "execution_count": 53,
     "metadata": {},
     "output_type": "execute_result"
    }
   ],
   "source": [
    "y_tepreds_t = tree.predict(X_test)\n",
    "cm_t =  confusion_matrix(y_test, y_tepreds_t)\n",
    "cm_t"
   ]
  },
  {
   "cell_type": "code",
   "execution_count": 54,
   "id": "c42835a5",
   "metadata": {},
   "outputs": [],
   "source": [
    "tree_big = DecisionTreeClassifier(criterion = 'entropy', max_depth = 10) # The maximum depth of the tree is increased from 5 to 10 to allow for more nodes, splits, and leaves to allow for greater capture of patterns."
   ]
  },
  {
   "cell_type": "code",
   "execution_count": 55,
   "id": "a44fe265",
   "metadata": {},
   "outputs": [],
   "source": [
    "tree_big =  tree_big.fit(X_train, y_train) "
   ]
  },
  {
   "cell_type": "code",
   "execution_count": 56,
   "id": "62709aa6",
   "metadata": {},
   "outputs": [
    {
     "data": {
      "text/plain": [
       "0.818246810382754"
      ]
     },
     "execution_count": 56,
     "metadata": {},
     "output_type": "execute_result"
    }
   ],
   "source": [
    "tree_big.score(X_train, y_train)"
   ]
  },
  {
   "cell_type": "code",
   "execution_count": 57,
   "id": "e46ae486",
   "metadata": {},
   "outputs": [
    {
     "data": {
      "text/plain": [
       "0.8215110524579347"
      ]
     },
     "execution_count": 57,
     "metadata": {},
     "output_type": "execute_result"
    }
   ],
   "source": [
    "tree_big.score(X_test, y_test)"
   ]
  },
  {
   "cell_type": "markdown",
   "id": "8bedb531",
   "metadata": {},
   "source": [
    "The accuracy scores in this more complex tree are highly similar to the initial tree, however the training score has slightly improved while the test score has remained exactly the same.  This suggests that we now have a marginally improved model. "
   ]
  },
  {
   "cell_type": "code",
   "execution_count": 58,
   "id": "afeeae0e",
   "metadata": {},
   "outputs": [
    {
     "data": {
      "text/plain": [
       "array([0.5473948 , 0.24377929, 0.20882591])"
      ]
     },
     "execution_count": 58,
     "metadata": {},
     "output_type": "execute_result"
    }
   ],
   "source": [
    "tree_big.feature_importances_"
   ]
  },
  {
   "cell_type": "code",
   "execution_count": 59,
   "id": "b766be1a",
   "metadata": {},
   "outputs": [
    {
     "data": {
      "text/plain": [
       "<BarContainer object of 3 artists>"
      ]
     },
     "execution_count": 59,
     "metadata": {},
     "output_type": "execute_result"
    },
    {
     "data": {
      "image/png": "[encoded data removed]",
      "text/plain": [
       "<Figure size 640x480 with 1 Axes>"
      ]
     },
     "metadata": {},
     "output_type": "display_data"
    }
   ],
   "source": [
    "plt.bar(['doctor reccomendation', 'opin. virus risk', 'opin. effectiveness'], [0.55599157, 0.24206617, 0.20194226])"
   ]
  },
  {
   "cell_type": "markdown",
   "id": "57b94b5d",
   "metadata": {},
   "source": [
    "Doctor recommendation appears to be the most important feature"
   ]
  },
  {
   "cell_type": "markdown",
   "id": "a5a27087",
   "metadata": {},
   "source": []
  },
  {
   "cell_type": "code",
   "execution_count": 60,
   "id": "ad190d2e",
   "metadata": {},
   "outputs": [],
   "source": [
    "from sklearn.metrics import ConfusionMatrixDisplay"
   ]
  },
  {
   "cell_type": "code",
   "execution_count": 61,
   "id": "26cc85dd",
   "metadata": {},
   "outputs": [],
   "source": [
    "y_tepreds_t_big = tree_big.predict(X_test)"
   ]
  },
  {
   "cell_type": "code",
   "execution_count": 62,
   "id": "21008894",
   "metadata": {},
   "outputs": [
    {
     "data": {
      "text/plain": [
       "array([[4435,  281],\n",
       "       [ 801,  545]], dtype=int64)"
      ]
     },
     "execution_count": 62,
     "metadata": {},
     "output_type": "execute_result"
    }
   ],
   "source": [
    "cm_t_big =  confusion_matrix(y_test, y_tepreds_t_big)\n",
    "cm_t_big"
   ]
  },
  {
   "cell_type": "code",
   "execution_count": 63,
   "id": "32158d5e",
   "metadata": {},
   "outputs": [
    {
     "data": {
      "text/plain": [
       "<sklearn.metrics._plot.confusion_matrix.ConfusionMatrixDisplay at 0x1d855feb5b0>"
      ]
     },
     "execution_count": 63,
     "metadata": {},
     "output_type": "execute_result"
    },
    {
     "data": {
      "image/png": "[encoded data removed]",
      "text/plain": [
       "<Figure size 640x480 with 2 Axes>"
      ]
     },
     "metadata": {},
     "output_type": "display_data"
    }
   ],
   "source": [
    "\n",
    "\n",
    "cmd= ConfusionMatrixDisplay(cm_t_big)\n",
    "cmd=cmd.from_predictions(y_test,y_tepreds_t_big)\n",
    "cmd"
   ]
  },
  {
   "cell_type": "markdown",
   "id": "3aceca31",
   "metadata": {},
   "source": [
    "The confusion matrix is similar for both iterations of the tree model (293 false positives vs. 286 in final), as expected given there was only a slight improvement in training accuracy.  Compared to the baseline model, even though there are greater false positives, our greatest concern, our total correct predictions have increased.  Thus even though the tree models would incorrectly classify more unvaccinated persons and therefore result in less resources for that population, given the higher accuracy on the test set of the big_tree model and the higher number of correct predictions (and lower false negatives) in our confusion matrix, resources would be better conserved and allocated by relying on the big_tree model. "
   ]
  },
  {
   "cell_type": "markdown",
   "id": "05cbd5d4",
   "metadata": {},
   "source": [
    "# Results, Recommendations, Limitations. "
   ]
  },
  {
   "cell_type": "markdown",
   "id": "be0e9a13",
   "metadata": {},
   "source": [
    "The results show that the big_tree model is the preferred model given its higher accuracy on the training and test sets compared to both the first tree iteration and the baseline logistic regression model.  Given that this model performs better than the other models and better than the simple strategy of guessing the majority class for each prediction, it is recommended that this model be used to predict whether or not individuals have been given the a vaccine for any virus similar to H1N1, so that resources can be allocated efficiently based on one's vaccine status.  More generally, the models show us that the three factors, presence of a doctor reccomendation, opinion of virus risk, and opinion of vaccine effectiveness, are significantly related to whether one has received the vaccine. This suggest that it would be beneficial to both increase outreach to those with low presence of these factors and to provide outreach that may could educate and provide resources so that such persons may become more likely to receive a vaccine. \n",
    "\n",
    "The core limitation is that there is much room for improvement in the accuracy level of the final model. While the accuracy of the final model is 82%, a strategy of simply guessing that all persons have not received the vaccine would result in a similar 79% accuracy.  Also note that iteratively, only slight improvement on models was made, given similar accuracies and only 1 more correct prediction in final model as compared to baseline."
   ]
  },
  {
   "cell_type": "code",
   "execution_count": null,
   "id": "bcd34bae",
   "metadata": {},
   "outputs": [],
   "source": []
  }
 ],
 "metadata": {
  "kernelspec": {
   "display_name": "Python (learn-env)",
   "language": "python",
   "name": "learn-env"
  },
  "language_info": {
   "codemirror_mode": {
    "name": "ipython",
    "version": 3
   },
   "file_extension": ".py",
   "mimetype": "text/x-python",
   "name": "python",
   "nbconvert_exporter": "python",
   "pygments_lexer": "ipython3",
   "version": "3.9.13"
  }
 },
 "nbformat": 4,
 "nbformat_minor": 5
}
